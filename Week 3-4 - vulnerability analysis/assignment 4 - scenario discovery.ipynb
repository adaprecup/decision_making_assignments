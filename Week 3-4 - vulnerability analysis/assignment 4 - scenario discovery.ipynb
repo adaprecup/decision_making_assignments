{
 "cells": [
  {
   "cell_type": "markdown",
   "metadata": {},
   "source": [
    "# Scenario discovery - replication assignment\n",
    "In this exercise, you will replicate the results from three influential papers in the field of decision-making under uncertainty. By working through these cases, you will gain hands-on experience in applying the Patient Rule Induction Method (PRIM) to identify policy vulnerabilities, develop Shared Socio-economic Pathways (SSPs), and design adaptive decision-making strategies.\n",
    "\n",
    "Replicate the results found in:\n",
    "\n",
    "1. [Bryant et al (2010)](https://doi.org/10.1016/j.techfore.2009.08.002), which introduces the \"scenario discovery\" approach.\n",
    "2. [Rozenberg et al (2014)](https://doi.org/10.1007/s10584-013-0904-3), which proposes a \"backwards\" approach to SSP development.\n",
    "3. [Hamarat et al (2013)](https://doi.org/10.1016/j.techfore.2012.10.004), which presents an iterative computational model-based approach for adaptive decision-making.\n",
    "\n",
    "The data files are in the [data](data) folder and named in line with the papers. The full details for these papers can be found the course guide. Rozenberg et al and Hamarat et al are optional readings for these weeks. You can also look at [Kwakkel & Jaxa-Rozen (2016)](https://doi.org/10.1016/j.envsoft.2015.11.020), which gives a succinct summary of these three cases.\n",
    "\n",
    "An additional useful, if dated, resource for Bryant et al is [Scenario discovery in Python](https://waterprogramming.wordpress.com/2015/08/05/scenario-discovery-in-python/) from the Water Programming blog.\n",
    "\n",
    "You can use use the `%matplotlib notebook` [magic](http://ipython.readthedocs.io/en/stable/interactive/magics.html#magic-matplotlib) for interaction with the trade-off curves. You can revert back to inline with `%matplotlib inline`."
   ]
  },
  {
   "cell_type": "markdown",
   "metadata": {},
   "source": [
    "## 1. Bryant & Lempert\n",
    "> Bryant and Lempert's [\"Thinking inside the box\"](https://doi.org/10.1016/j.techfore.2009.08.002) introduces \"scenario discovery,\" a computer-assisted method for identifying policy vulnerabilities using statistical or data-mining algorithms on simulation data. The approach is demonstrated on a U.S. renewable energy policy problem, addressing challenges faced in public debates.\n",
    "\n",
    "Load the data using pandas. The experiments are in colums 2-10, while the outcome is in column 15. If you look at the paper carefully, you will see that they change the `peel_alpha` in [PRIM](https://emaworkbench.readthedocs.io/en/latest/ema_documentation/analysis/prim.html). This controls the leniency of the algorithm."
   ]
  },
  {
   "cell_type": "code",
   "source": [
    "from ema_workbench.analysis import prim\n",
    "import pandas as pd"
   ],
   "metadata": {
    "collapsed": false,
    "ExecuteTime": {
     "end_time": "2025-05-08T13:23:02.506520Z",
     "start_time": "2025-05-08T13:23:00.361100Z"
    }
   },
   "outputs": [
    {
     "name": "stderr",
     "output_type": "stream",
     "text": [
      "/Users/muhammadhaidar/Library/CloudStorage/OneDrive-DelftUniversityofTechnology/Documents/Kuliah/S2/Q1.4/Model-based Decision Making/Assignments/.venv/lib/python3.11/site-packages/ema_workbench/em_framework/__init__.py:101: UserWarning: ipyparallel not installed - IpyparalleEvaluator not available\n",
      "  warnings.warn(\"ipyparallel not installed - IpyparalleEvaluator not available\")\n"
     ]
    }
   ],
   "execution_count": 1
  },
  {
   "cell_type": "code",
   "metadata": {
    "ExecuteTime": {
     "end_time": "2025-05-08T13:23:04.394222Z",
     "start_time": "2025-05-08T13:23:04.369753Z"
    }
   },
   "source": [
    "df_Bryant = pd.read_csv('./data/Bryant et al 2010.csv')\n",
    "df_Bryant.head()"
   ],
   "outputs": [
    {
     "data": {
      "text/plain": [
       "   renew req %  Pricing  Cellulosic cost  Total biomass  \\\n",
       "0         0.25        1       124.900002     612.799988   \n",
       "1         0.25        1        67.300003     837.200012   \n",
       "2         0.25        1        71.000000     740.400024   \n",
       "3         0.25        1        80.099998     995.599976   \n",
       "4         0.25        1        76.400002     476.399994   \n",
       "\n",
       "   Feedstock distribution  Cellulosic yield  Oil elasticity  \\\n",
       "0                    0.04         89.500000           0.206   \n",
       "1                    0.18         95.900002           0.277   \n",
       "2                    0.80         83.500000           0.445   \n",
       "3                    0.58         82.400002           0.291   \n",
       "4                    0.79         97.500000           0.443   \n",
       "\n",
       "   Demand elasticity  Electricity coproduction  oil supply shift  \\\n",
       "0             -0.469                      1.83             0.078   \n",
       "1             -0.380                      0.01            -0.032   \n",
       "2             -0.778                      0.25            -0.093   \n",
       "3             -0.334                      0.08            -0.086   \n",
       "4             -0.205                      1.59             0.073   \n",
       "\n",
       "   Biomass backstop price  input record  Expen change  Incremental cost  \\\n",
       "0              162.199997          1001         60.00            276.47   \n",
       "1              150.300003          1002         19.42             85.07   \n",
       "2              135.800003          1003         17.76            200.11   \n",
       "3               98.800003          1004         37.88            130.86   \n",
       "4              163.500000          1006         66.13            180.11   \n",
       "\n",
       "   Less than 10%  Greater than 90%  \n",
       "0              0                 0  \n",
       "1              0                 0  \n",
       "2              0                 0  \n",
       "3              0                 0  \n",
       "4              0                 0  "
      ],
      "text/html": [
       "<div>\n",
       "<style scoped>\n",
       "    .dataframe tbody tr th:only-of-type {\n",
       "        vertical-align: middle;\n",
       "    }\n",
       "\n",
       "    .dataframe tbody tr th {\n",
       "        vertical-align: top;\n",
       "    }\n",
       "\n",
       "    .dataframe thead th {\n",
       "        text-align: right;\n",
       "    }\n",
       "</style>\n",
       "<table border=\"1\" class=\"dataframe\">\n",
       "  <thead>\n",
       "    <tr style=\"text-align: right;\">\n",
       "      <th></th>\n",
       "      <th>renew req %</th>\n",
       "      <th>Pricing</th>\n",
       "      <th>Cellulosic cost</th>\n",
       "      <th>Total biomass</th>\n",
       "      <th>Feedstock distribution</th>\n",
       "      <th>Cellulosic yield</th>\n",
       "      <th>Oil elasticity</th>\n",
       "      <th>Demand elasticity</th>\n",
       "      <th>Electricity coproduction</th>\n",
       "      <th>oil supply shift</th>\n",
       "      <th>Biomass backstop price</th>\n",
       "      <th>input record</th>\n",
       "      <th>Expen change</th>\n",
       "      <th>Incremental cost</th>\n",
       "      <th>Less than 10%</th>\n",
       "      <th>Greater than 90%</th>\n",
       "    </tr>\n",
       "  </thead>\n",
       "  <tbody>\n",
       "    <tr>\n",
       "      <th>0</th>\n",
       "      <td>0.25</td>\n",
       "      <td>1</td>\n",
       "      <td>124.900002</td>\n",
       "      <td>612.799988</td>\n",
       "      <td>0.04</td>\n",
       "      <td>89.500000</td>\n",
       "      <td>0.206</td>\n",
       "      <td>-0.469</td>\n",
       "      <td>1.83</td>\n",
       "      <td>0.078</td>\n",
       "      <td>162.199997</td>\n",
       "      <td>1001</td>\n",
       "      <td>60.00</td>\n",
       "      <td>276.47</td>\n",
       "      <td>0</td>\n",
       "      <td>0</td>\n",
       "    </tr>\n",
       "    <tr>\n",
       "      <th>1</th>\n",
       "      <td>0.25</td>\n",
       "      <td>1</td>\n",
       "      <td>67.300003</td>\n",
       "      <td>837.200012</td>\n",
       "      <td>0.18</td>\n",
       "      <td>95.900002</td>\n",
       "      <td>0.277</td>\n",
       "      <td>-0.380</td>\n",
       "      <td>0.01</td>\n",
       "      <td>-0.032</td>\n",
       "      <td>150.300003</td>\n",
       "      <td>1002</td>\n",
       "      <td>19.42</td>\n",
       "      <td>85.07</td>\n",
       "      <td>0</td>\n",
       "      <td>0</td>\n",
       "    </tr>\n",
       "    <tr>\n",
       "      <th>2</th>\n",
       "      <td>0.25</td>\n",
       "      <td>1</td>\n",
       "      <td>71.000000</td>\n",
       "      <td>740.400024</td>\n",
       "      <td>0.80</td>\n",
       "      <td>83.500000</td>\n",
       "      <td>0.445</td>\n",
       "      <td>-0.778</td>\n",
       "      <td>0.25</td>\n",
       "      <td>-0.093</td>\n",
       "      <td>135.800003</td>\n",
       "      <td>1003</td>\n",
       "      <td>17.76</td>\n",
       "      <td>200.11</td>\n",
       "      <td>0</td>\n",
       "      <td>0</td>\n",
       "    </tr>\n",
       "    <tr>\n",
       "      <th>3</th>\n",
       "      <td>0.25</td>\n",
       "      <td>1</td>\n",
       "      <td>80.099998</td>\n",
       "      <td>995.599976</td>\n",
       "      <td>0.58</td>\n",
       "      <td>82.400002</td>\n",
       "      <td>0.291</td>\n",
       "      <td>-0.334</td>\n",
       "      <td>0.08</td>\n",
       "      <td>-0.086</td>\n",
       "      <td>98.800003</td>\n",
       "      <td>1004</td>\n",
       "      <td>37.88</td>\n",
       "      <td>130.86</td>\n",
       "      <td>0</td>\n",
       "      <td>0</td>\n",
       "    </tr>\n",
       "    <tr>\n",
       "      <th>4</th>\n",
       "      <td>0.25</td>\n",
       "      <td>1</td>\n",
       "      <td>76.400002</td>\n",
       "      <td>476.399994</td>\n",
       "      <td>0.79</td>\n",
       "      <td>97.500000</td>\n",
       "      <td>0.443</td>\n",
       "      <td>-0.205</td>\n",
       "      <td>1.59</td>\n",
       "      <td>0.073</td>\n",
       "      <td>163.500000</td>\n",
       "      <td>1006</td>\n",
       "      <td>66.13</td>\n",
       "      <td>180.11</td>\n",
       "      <td>0</td>\n",
       "      <td>0</td>\n",
       "    </tr>\n",
       "  </tbody>\n",
       "</table>\n",
       "</div>"
      ]
     },
     "execution_count": 2,
     "metadata": {},
     "output_type": "execute_result"
    }
   ],
   "execution_count": 2
  },
  {
   "metadata": {
    "ExecuteTime": {
     "end_time": "2025-05-08T13:24:01.246137Z",
     "start_time": "2025-05-08T13:24:00.856116Z"
    }
   },
   "cell_type": "code",
   "source": [
    "# Select all relevant inputs (uncertainties + outputs)\n",
    "X = df_Bryant.iloc[:, 2:11]  # Columns 0 to 13\n",
    "\n",
    "# Binary output: True if cost is in top 10%\n",
    "Y = df_Bryant['Greater than 90%']\n",
    "\n",
    "# Run PRIM with a more realistic threshold\n",
    "prim_alg = prim.Prim(X, Y, threshold=0.8)\n",
    "box = prim_alg.find_box()\n",
    "\n",
    "# Visualize trade-off with interaction\n",
    "box.show_tradeoff()\n",
    "\n",
    "# Inspect and view the box\n",
    "box.inspect(0)\n",
    "box.select(0)\n",
    "box.inspect(style='graph')"
   ],
   "outputs": [
    {
     "name": "stdout",
     "output_type": "stream",
     "text": [
      "coverage      1.000000\n",
      "density       0.100907\n",
      "id            0.000000\n",
      "k            89.000000\n",
      "mass          1.000000\n",
      "mean          0.100907\n",
      "n           882.000000\n",
      "res_dim       0.000000\n",
      "Name: 0, dtype: float64\n",
      "\n",
      "Empty DataFrame\n",
      "Columns: [(box 0, min), (box 0, max), (box 0, qp value), (box 0, qp value)]\n",
      "Index: []\n",
      "\n"
     ]
    },
    {
     "name": "stderr",
     "output_type": "stream",
     "text": [
      "/Users/muhammadhaidar/Library/CloudStorage/OneDrive-DelftUniversityofTechnology/Documents/Kuliah/S2/Q1.4/Model-based Decision Making/Assignments/.venv/lib/python3.11/site-packages/ema_workbench/analysis/scenario_discovery_util.py:555: UserWarning: Attempting to set identical low and high ylims makes transformation singular; automatically expanding.\n",
      "  ax.set_ylim(top=-0.5, bottom=nr_unc - 0.5)\n"
     ]
    },
    {
     "data": {
      "text/plain": [
       "[<Figure size 640x480 with 1 Axes>]"
      ]
     },
     "execution_count": 4,
     "metadata": {},
     "output_type": "execute_result"
    },
    {
     "data": {
      "text/plain": [
       "<Figure size 640x480 with 2 Axes>"
      ],
      "image/png": "[encoded data removed]"
     },
     "metadata": {},
     "output_type": "display_data"
    },
    {
     "data": {
      "text/plain": [
       "<Figure size 640x480 with 1 Axes>"
      ],
      "image/png": "[encoded data removed]"
     },
     "metadata": {},
     "output_type": "display_data"
    }
   ],
   "execution_count": 4
  },
  {
   "metadata": {},
   "cell_type": "markdown",
   "source": [
    "## 2. Rozenberg et al\n",
    "> In [\"Building SSPs for climate policy analysis,\"](https://doi.org/10.1007/s10584-013-0904-3) Rozenberg et al. propose a \"backwards\" approach to develop Shared Socio-economic Pathways (SSPs) using potential drivers of mitigation and adaptation challenges. The method aids in focusing storylines on the most relevant driving forces.\n",
    "\n",
    "* The experiments are the first seven columns. The remainder specify whether a given experiment belongs to a given SSP.\n",
    "* Apply PRIM separately for each SSP\n",
    "* you have to play with the threshold for each SSP, the default of 0.8 is at times too high\n",
    "* if you look at the paper carefully, you will discover that they change some of the default parameters of PRIM"
   ]
  },
  {
   "metadata": {
    "ExecuteTime": {
     "start_time": "2023-04-19T20:35:41.601603Z",
     "end_time": "2023-04-19T20:35:41.607039Z"
    }
   },
   "cell_type": "code",
   "outputs": [],
   "source": "",
   "execution_count": null
  },
  {
   "cell_type": "markdown",
   "metadata": {},
   "source": [
    "## 3. Hamarat et al\n",
    "> Hamarat, Kwakkel, and Pruyt's [\"Adaptive Robust Design under deep uncertainty\"](https://doi.org/10.1016/j.techfore.2012.10.004) presents an iterative computational model-based approach for adaptive decision-making under uncertainty. The approach combines adaptive policy-making, simulation models, data mining, and robust optimization, with potential applications in long-term structural transformations.\n",
    "\n",
    "This is the most difficult dataset to analyze with prim. It has been generated using the ema_workbench and can be loaded with the `load_results` function. Experiments are of interest if the end state for `'fraction renewables'` is lower than the initial value.\n",
    "\n",
    "* PRIM struggles with finding a good explanation for this case, why?\n",
    "* [Dalal et al (2013)](https://www.sciencedirect.com/science/article/pii/S1364815213001345) suggest using PCA preprocessing. The ema_workbench supports this with the `pca_preprocess` function. See also examples/prim_PCA_preprocess.py. Does PCA preprocessing makes a difference for this case?\n"
   ]
  },
  {
   "cell_type": "code",
   "execution_count": null,
   "metadata": {
    "ExecuteTime": {
     "start_time": "2023-04-19T20:35:41.604808Z",
     "end_time": "2023-04-19T20:35:41.611040Z"
    }
   },
   "outputs": [],
   "source": [
    "# To load the .gz file, you can use the load_results function\n",
    "from ema_workbench import load_results\n"
   ]
  }
 ],
 "metadata": {
  "anaconda-cloud": {},
  "kernelspec": {
   "display_name": "Python 3",
   "language": "python",
   "name": "python3"
  },
  "language_info": {
   "codemirror_mode": {
    "name": "ipython",
    "version": 3
   },
   "file_extension": ".py",
   "mimetype": "text/x-python",
   "name": "python",
   "nbconvert_exporter": "python",
   "pygments_lexer": "ipython3",
   "version": "3.7.2"
  },
  "latex_envs": {
   "LaTeX_envs_menu_present": true,
   "autocomplete": true,
   "bibliofile": "biblio.bib",
   "cite_by": "apalike",
   "current_citInitial": 1,
   "eqLabelWithNumbers": true,
   "eqNumInitial": 1,
   "hotkeys": {
    "equation": "Ctrl-E",
    "itemize": "Ctrl-I"
   },
   "labels_anchors": false,
   "latex_user_defs": false,
   "report_style_numbering": false,
   "user_envs_cfg": false
  }
 },
 "nbformat": 4,
 "nbformat_minor": 2
}
