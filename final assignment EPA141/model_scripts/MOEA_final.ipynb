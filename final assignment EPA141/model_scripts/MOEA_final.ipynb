{
 "cells": [
  {
   "metadata": {},
   "cell_type": "markdown",
   "source": [
    "#  Multi-Objective Evolutionary Optimization\n",
    "\n",
    "## Overview\n",
    "\n",
    "In this notebook, we apply many-objective evolutionary optimization to explore **non-dominated policy sets** for dike reinforcement and spatial interventions within the Overijssel region. Our aim is to identify robust strategies that balance the interests of multiple stakeholders while respecting specific physical and institutional constraints.\n",
    "\n",
    "## Scope of the Analysis\n",
    "\n",
    "**Focus region**: The optimization is focused on two dike rings:\n",
    "  - **Deventer** (`A.4`)\n",
    "  - **Grossel** (`A.5`)\n",
    "\n",
    "\n",
    "**Constraints applied**: No initial constratint is applied to the dike model to avoid premature aggregation. By doing so the optimization will allow to explore the trade-offs in the complete set of scenarios and levers\n",
    "\n",
    "\n",
    "**Candidate policies**: a selection of candidate policies will be performed by applying constraints to the optimization results. Identified candidate policies will then be subject to robustness analysis.\n",
    "\n",
    "\n",
    "**Decision space**:We search over policy levers, which include dike reinforcements and RfR implementations. All other interventions are treated as optional and will be explored by the algorithm.\n",
    "\n",
    "\n",
    "**Evaluation criteria**: Objectives reflect the priorities of the *Province of Overijssel*, such as minimizing flood risk and economic damages, while preserving social and ecological outcomes.\n",
    "\n",
    "\n",
    "## Purpose\n",
    "\n",
    "This analysis uses the `optimize()` functionality from the `ema_workbench`, relying on an $\\epsilon$-NSGAII algorithm to:\n",
    "- Discover a set of **Pareto-optimal policies** under complex trade-offs.\n",
    "- Support negotiation and coordination between regional actors (e.g., RWS, local municipalities, and the province).\n",
    "- Identify **robust** strategies that perform well under a wide range of uncertain future scenarios.\n",
    "\n",
    "\n",
    "## Key Features\n",
    "\n",
    "- Use of $\\epsilon$-archiving and **parallel coordinate plots** to visualize trade-offs.\n",
    "- Inclusion of **convergence metrics** and optional seed analysis to assess solution quality.\n",
    "- Integration of **realistic policy constraints** from stakeholders to select candidate policies."
   ],
   "id": "4a33ff606a7543ac"
  },
  {
   "metadata": {
    "ExecuteTime": {
     "end_time": "2025-06-17T14:48:57.304303Z",
     "start_time": "2025-06-17T14:48:54.655046Z"
    }
   },
   "cell_type": "code",
   "source": [
    "# Standard library imports\n",
    "import matplotlib.pyplot as plt\n",
    "import numpy as np\n",
    "import pandas as pd\n",
    "\n",
    "# Third-party libraries\n",
    "import seaborn as sns\n",
    "\n",
    "# EMA Workbench core components\n",
    "from ema_workbench import (\n",
    "    ema_logging,\n",
    "    load_results,\n",
    "    MultiprocessingEvaluator,\n",
    "    Scenario,\n",
    "    HypervolumeMetric,\n",
    "    GenerationalDistanceMetric,\n",
    "    EpsilonIndicatorMetric,\n",
    "    InvertedGenerationalDistanceMetric,\n",
    "    IntegerParameter,\n",
    "    SpacingMetric,\n",
    ")\n",
    "\n",
    "# EMA Workbench analysis and optimization utilities\n",
    "from ema_workbench.analysis import parcoords\n",
    "from ema_workbench.em_framework.optimization import (\n",
    "    ArchiveLogger,\n",
    "    EpsilonProgress,\n",
    "    to_problem,\n",
    ")\n",
    "\n",
    "# Local project-specific modules\n",
    "from problem_formulation import get_model_for_problem_formulation"
   ],
   "id": "5a9a6ae0ca1c4f13",
   "outputs": [],
   "execution_count": 1
  },
  {
   "metadata": {
    "ExecuteTime": {
     "end_time": "2025-06-17T14:48:57.324144Z",
     "start_time": "2025-06-17T14:48:57.314196Z"
    }
   },
   "cell_type": "code",
   "source": "ema_logging.log_to_stderr(level=ema_logging.INFO)",
   "id": "b7f284a200444da4",
   "outputs": [
    {
     "data": {
      "text/plain": [
       "<Logger EMA (DEBUG)>"
      ]
     },
     "execution_count": 2,
     "metadata": {},
     "output_type": "execute_result"
    }
   ],
   "execution_count": 2
  },
  {
   "metadata": {
    "ExecuteTime": {
     "end_time": "2025-06-17T14:48:57.789297Z",
     "start_time": "2025-06-17T14:48:57.488622Z"
    }
   },
   "cell_type": "code",
   "source": [
    "problem_formulation_id = 3\n",
    "\n",
    "dike_model, _ = get_model_for_problem_formulation(problem_formulation_id)"
   ],
   "id": "3b518a69e5348a00",
   "outputs": [],
   "execution_count": 3
  },
  {
   "metadata": {},
   "cell_type": "markdown",
   "source": [
    "## Function definition\n",
    "\n",
    "These helper functions support the execution of ε-NSGAII optimization by setting up convergence metrics, epsilons for each outcome dimension and the actual optimization.\n",
    "\n",
    "---\n",
    "\n",
    "### `build_convergence_metrics( )`\n",
    "\n",
    "Defines how optimization progress will be tracked.\n",
    "It adds metrics such as ε-progress monitoring and, optionally, logs all non-dominated solutions for later analysis. Useful for assessing convergence quality and reproducibility.\n",
    "\n",
    "---\n",
    "\n",
    "### `generate_reference_scenario(...)`\n",
    "\n",
    "Sets up a reference scenario for the optimization function. Reference values for each Dike Ring are assumed equal.\n",
    "\n",
    "---\n",
    "\n",
    "### `generate_epsilons( )`\n",
    "\n",
    "Automatically generates ε-values tailored to the outcome ranges.\n",
    "This helps the ε-NSGAII algorithm balance exploration and precision by scaling selection pressure to the variability of each objective.\n",
    "\n",
    "---\n",
    "\n",
    "### `run_optimization( )`\n",
    "\n",
    "Executes the optimization process over the defined decision levers.\n",
    "Uses parallel processing to efficiently search for Pareto-optimal policies while monitoring convergence with the specified metrics.\n",
    "\n"
   ],
   "id": "2a31ff56311c19be"
  },
  {
   "metadata": {
    "ExecuteTime": {
     "end_time": "2025-06-17T14:48:57.806253Z",
     "start_time": "2025-06-17T14:48:57.800635Z"
    }
   },
   "cell_type": "code",
   "source": [
    "def build_convergence_metrics(model):\n",
    "    \"\"\"\n",
    "    Create and return a list of convergence metrics for the optimization process.\n",
    "\n",
    "    This function sets up logging of the optimization archive and tracks\n",
    "    convergence progress using the epsilon-progress metric. It uses model\n",
    "    levers and outcomes to configure the logger.\n",
    "\n",
    "    Parameters:\n",
    "        model: An instance of the model with defined `levers` and `outcomes`.\n",
    "\n",
    "    Returns:\n",
    "        List containing:\n",
    "            - ArchiveLogger: Logs decision variables and outcomes to a file.\n",
    "            - EpsilonProgress: Tracks convergence based on epsilon progress.\n",
    "    \"\"\"\n",
    "\n",
    "    logger = ArchiveLogger(\n",
    "            r\"output\",\n",
    "            decision_varnames=[l.name for l in model.levers],\n",
    "            outcome_varnames=[o.name for o in model.outcomes],\n",
    "            base_filename=\"test_archive.tar.gz\",\n",
    "            )\n",
    "\n",
    "    metrics = [logger, EpsilonProgress()]\n",
    "\n",
    "    return metrics"
   ],
   "id": "25bad52851e19db6",
   "outputs": [],
   "execution_count": 4
  },
  {
   "metadata": {
    "ExecuteTime": {
     "end_time": "2025-06-17T14:48:57.822620Z",
     "start_time": "2025-06-17T14:48:57.816223Z"
    }
   },
   "cell_type": "code",
   "source": [
    "def generate_reference_scenario(discount_rate=1.5,Bmax=190,pfail=0.5,Brate=1):\n",
    "\n",
    "    \"\"\"\n",
    "    Generate a reference scenario for the model with specified default values.\n",
    "\n",
    "    This function constructs a Scenario object with a fixed set of parameters\n",
    "    used for reference or baseline evaluations in the model. It defines:\n",
    "      - Discount rates for 3 dike rings\n",
    "      - A flood wave shape parameter\n",
    "      - Bmax, pfail, and Brate for 5 potential adaptation measures\n",
    "\n",
    "    Parameters:\n",
    "        discount_rate (float): The discount rate applied to all dike rings.\n",
    "        Bmax (float): Maximum budget available for dike reinforcement.\n",
    "        pfail (float): Probability of failure for dike adaptation.\n",
    "        Brate (float): Budget growth rate for dike adaptation.\n",
    "\n",
    "    Returns:\n",
    "        Scenario: A named EMA Workbench Scenario object called 'reference',\n",
    "                  containing all the specified parameter settings.\n",
    "    \"\"\"\n",
    "\n",
    "    reference_parameters = {\n",
    "        **{f'discount rate {i}': discount_rate for i in range(3)},\n",
    "        'A.0_ID flood wave shape': 30,\n",
    "        **{f'A.{i}_Bmax': Bmax for i in range(1, 6)},\n",
    "        **{f'A.{i}_pfail': pfail for i in range(1, 6)},\n",
    "        **{f'A.{i}_Brate': Brate for i in range(1, 6)},\n",
    "    }\n",
    "\n",
    "    # Define the scenario\n",
    "    scenario = Scenario('reference', **reference_parameters)\n",
    "\n",
    "    return scenario"
   ],
   "id": "c6a8c32f72a56068",
   "outputs": [],
   "execution_count": 5
  },
  {
   "metadata": {
    "ExecuteTime": {
     "end_time": "2025-06-17T14:48:57.884601Z",
     "start_time": "2025-06-17T14:48:57.878248Z"
    }
   },
   "cell_type": "code",
   "source": [
    "def generate_epsilons(problem_id, fraction=0.05):\n",
    "    \"\"\"\n",
    "    Generate a list of epsilon values for each outcome based on the outcome ranges.\n",
    "\n",
    "    This function loads exploratory run results for a given problem, calculates\n",
    "    the range of each outcome, and returns a list of epsilon values based on a\n",
    "    specified fraction of those ranges. If the range is too small, a minimum epsilon\n",
    "    of 1e-5 is used to prevent zero-division or overly strict convergence.\n",
    "\n",
    "    Parameters:\n",
    "        problem_id (str or int): Identifier used to locate the results file.\n",
    "        fraction (float): Fraction of the range to use as the epsilon value for each outcome.\n",
    "\n",
    "    Returns:\n",
    "        list of float: Epsilon values corresponding to each outcome.\n",
    "    \"\"\"\n",
    "\n",
    "    _, outcomes = load_results(\n",
    "        f\"../experimental data/pf_{problem_id}_exploratory_runs_levers_as_factors.tar.gz\"\n",
    "    )\n",
    "\n",
    "    epsilons = []\n",
    "    for name, values in outcomes.items():\n",
    "        values = np.asarray(values)\n",
    "        min_val, max_val = values.min(), values.max()\n",
    "        range_val = max_val - min_val\n",
    "\n",
    "        if range_val < 1e-5:\n",
    "            epsilon = 1e-5  # avoid zero epsilon\n",
    "        else:\n",
    "            epsilon = range_val * fraction\n",
    "\n",
    "        epsilons.append(epsilon)\n",
    "\n",
    "    return epsilons\n"
   ],
   "id": "a8f7fac62a30b9a1",
   "outputs": [],
   "execution_count": 6
  },
  {
   "metadata": {
    "ExecuteTime": {
     "end_time": "2025-06-17T14:48:58.490354Z",
     "start_time": "2025-06-17T14:48:58.484443Z"
    }
   },
   "cell_type": "code",
   "source": [
    "def run_optimization(dike_model, nfe, epsilons, convergence_metrics, reference_scenario):\n",
    "    \"\"\"\n",
    "    Run multi-objective optimization on the specified dike model using EMA Workbench.\n",
    "\n",
    "    This function uses a `MultiprocessingEvaluator` to perform optimization over the\n",
    "    model's decision levers. The optimization process is guided by epsilon values for\n",
    "    each outcome and tracked using specified convergence metrics.\n",
    "\n",
    "    Parameters:\n",
    "        dike_model: The model instance to be optimized (typically a Model object from EMA Workbench).\n",
    "        nfe (int): Number of function evaluations to perform during optimization.\n",
    "        epsilons (list of float): Epsilon values for each outcome, controlling optimization precision.\n",
    "        convergence_metrics (list): List of convergence metric objects (e.g., ArchiveLogger, EpsilonProgress).\n",
    "        reference_scenario (Scenario): A baseline scenario used as a reference for convergence metrics.\n",
    "\n",
    "    Returns:\n",
    "        tuple: A tuple containing:\n",
    "            - results: The final set of decision variable and outcome evaluations.\n",
    "            - convergence: The recorded convergence data collected during optimization.\n",
    "    \"\"\"\n",
    "\n",
    "    print(f\"Starting optimization with {nfe} evaluations...\")\n",
    "\n",
    "    with MultiprocessingEvaluator(dike_model) as evaluator:\n",
    "        results, convergence = evaluator.optimize(\n",
    "            nfe=nfe,\n",
    "            searchover=\"levers\",\n",
    "            epsilons=epsilons,\n",
    "            convergence=convergence_metrics,\n",
    "            reference=reference_scenario,\n",
    "        )\n",
    "\n",
    "    print(f\"Optimization completed.\")\n",
    "    return results, convergence"
   ],
   "id": "ed7682385de60bdc",
   "outputs": [],
   "execution_count": 7
  },
  {
   "metadata": {},
   "cell_type": "markdown",
   "source": [
    "### A Note on NFE Value Choice\n",
    "\n",
    "To assess the most appropriate number of iterations, it is standard practice to perform a complete convergence analysis. However, due to coding issues, we were unable to carry this out properly. A detailed explanation of the issues encountered during the convergence analysis is provided at the end of this notebook.\n",
    "\n",
    "As a result, a value of **50,000** was used for the optimization. This number is generally sufficient for most optimization cases and does not result in an excessively long runtime.\n"
   ],
   "id": "995258c3272435bb"
  },
  {
   "metadata": {
    "ExecuteTime": {
     "end_time": "2025-06-17T15:51:29.063918Z",
     "start_time": "2025-06-17T14:48:59.903081Z"
    }
   },
   "cell_type": "code",
   "source": [
    "#Setup of optimization algorithm inputs\n",
    "convergence_metrics = build_convergence_metrics(dike_model)\n",
    "reference_scenario = generate_reference_scenario()\n",
    "epsilon = generate_epsilons(problem_formulation_id)\n",
    "nfe = 50000\n",
    "\n",
    "#Run evlutionary algorithm\n",
    "results, convergence = run_optimization(dike_model, nfe, epsilon, convergence_metrics, reference_scenario)"
   ],
   "id": "8d464a27114a83cc",
   "outputs": [
    {
     "name": "stderr",
     "output_type": "stream",
     "text": [
      "[MainProcess/INFO] results loaded successfully from C:\\Users\\adell\\Main\\MBDM\\Git_directory\\final assignment EPA141\\experimental data\\pf_3_exploratory_runs_levers_as_factors.tar.gz\n"
     ]
    },
    {
     "name": "stdout",
     "output_type": "stream",
     "text": [
      "Starting optimization with 50000 evaluations...\n"
     ]
    },
    {
     "name": "stderr",
     "output_type": "stream",
     "text": [
      "[MainProcess/INFO] pool started with 16 workers\n",
      "50338it [1:01:47, 13.58it/s]                                                   \n",
      "[MainProcess/INFO] optimization completed, found 138 solutions\n",
      "[MainProcess/INFO] terminating pool\n"
     ]
    },
    {
     "name": "stdout",
     "output_type": "stream",
     "text": [
      "Optimization completed.\n"
     ]
    }
   ],
   "execution_count": 8
  },
  {
   "metadata": {
    "ExecuteTime": {
     "end_time": "2025-06-17T15:53:34.744518Z",
     "start_time": "2025-06-17T15:53:34.734209Z"
    }
   },
   "cell_type": "code",
   "source": [
    "#Save the experiments results\n",
    "results.to_csv('../experimental data/optimization_results_nfe_50000.csv', index=False)"
   ],
   "id": "26d279f5c85c61fb",
   "outputs": [],
   "execution_count": 10
  },
  {
   "metadata": {},
   "cell_type": "markdown",
   "source": [
    "## Convergence Analysis - coding issues\n",
    "\n",
    "The convergence analysis to assess the appropriate number of iterations for the evolutionary algorithm was not performed till the end due to issues with the coding process.\n",
    "The following cells will show the setup for the analysis and the issues encountered:\n"
   ],
   "id": "b807aa64c0ccadd7"
  },
  {
   "metadata": {
    "ExecuteTime": {
     "end_time": "2025-06-17T15:54:41.624228Z",
     "start_time": "2025-06-17T15:54:41.616918Z"
    }
   },
   "cell_type": "code",
   "source": [
    "def calculate_metrics(archives, reference_set, reference_scenario):\n",
    "    \"\"\"\n",
    "    Calculate multiple convergence metrics for each archive snapshot during optimization.\n",
    "\n",
    "    This function evaluates several quality indicators of optimization performance\n",
    "    using a reference set and scenario. Metrics include hypervolume, generational distance,\n",
    "    epsilon indicator, inverted generational distance, and spacing. Results are organized\n",
    "    by number of function evaluations (NFE).\n",
    "\n",
    "    Parameters:\n",
    "        archives (dict): A dictionary mapping NFE values to archive DataFrames\n",
    "                         containing optimization results at each step.\n",
    "        reference_set (DataFrame): The reference set used for comparison in metric calculations.\n",
    "        reference_scenario (Scenario): The reference scenario used to construct the problem definition.\n",
    "\n",
    "    Returns:\n",
    "        pandas.DataFrame: A DataFrame containing metric scores for each NFE snapshot, sorted by NFE.\n",
    "    \"\"\"\n",
    "\n",
    "    problem = to_problem(dike_model, searchover=\"levers\", reference=reference_scenario)\n",
    "\n",
    "    hv = HypervolumeMetric(reference_set, problem)\n",
    "    gd = GenerationalDistanceMetric(reference_set, problem, d=1)\n",
    "    ei = EpsilonIndicatorMetric(reference_set, problem)\n",
    "    ig = InvertedGenerationalDistanceMetric(reference_set, problem, d=1)\n",
    "    sm = SpacingMetric(problem)\n",
    "\n",
    "    metrics = []\n",
    "    for nfe, archive in archives.items():\n",
    "        scores = {\n",
    "            \"generational_distance\": gd.calculate(archive),\n",
    "            \"hypervolume\": hv.calculate(archive),\n",
    "            \"epsilon_indicator\": ei.calculate(archive),\n",
    "            \"inverted_gd\": ig.calculate(archive),\n",
    "            \"spacing\": sm.calculate(archive),\n",
    "            \"nfe\": int(nfe),\n",
    "        }\n",
    "        metrics.append(scores)\n",
    "    metrics = pd.DataFrame.from_dict(metrics)\n",
    "\n",
    "    # sort metrics by number of function evaluations\n",
    "    metrics.sort_values(by=\"nfe\", inplace=True)\n",
    "    return metrics"
   ],
   "id": "62bcdd33c5edcc0f",
   "outputs": [],
   "execution_count": 11
  },
  {
   "metadata": {
    "ExecuteTime": {
     "end_time": "2025-06-17T15:54:42.350939Z",
     "start_time": "2025-06-17T15:54:42.343194Z"
    }
   },
   "cell_type": "code",
   "source": [
    "def plot_metrics(metrics, convergence):\n",
    "    \"\"\"\n",
    "    Plot convergence and performance metrics over the course of optimization.\n",
    "\n",
    "    This function visualizes how various multi-objective optimization metrics\n",
    "    evolve as the number of function evaluations (NFE) increases. It plots:\n",
    "\n",
    "      - Hypervolume\n",
    "      - Epsilon progress (from convergence data)\n",
    "      - Generational distance\n",
    "      - Epsilon indicator\n",
    "      - Inverted generational distance\n",
    "      - Spacing\n",
    "\n",
    "    Parameters:\n",
    "        metrics (pandas.DataFrame): DataFrame containing metric values for each NFE.\n",
    "        convergence (pandas.DataFrame): DataFrame with convergence data (e.g., epsilon progress).\n",
    "    \"\"\"\n",
    "\n",
    "    sns.set_style(\"white\")\n",
    "    fig, axes = plt.subplots(nrows=6, figsize=(8, 12), sharex=True)\n",
    "\n",
    "    ax1, ax2, ax3, ax4, ax5, ax6 = axes\n",
    "\n",
    "    ax1.plot(metrics.nfe, metrics.hypervolume)\n",
    "    ax1.set_ylabel(\"hypervolume\")\n",
    "\n",
    "    ax2.plot(convergence.nfe, convergence.epsilon_progress)\n",
    "    ax2.set_ylabel(r'$\\epsilon$ progress')\n",
    "\n",
    "    ax3.plot(metrics.nfe, metrics.generational_distance)\n",
    "    ax3.set_ylabel(\"generational distance\")\n",
    "\n",
    "    ax4.plot(metrics.nfe, metrics.epsilon_indicator)\n",
    "    ax4.set_ylabel(\"epsilon indicator\")\n",
    "\n",
    "    ax5.plot(metrics.nfe, metrics.inverted_gd)\n",
    "    ax5.set_ylabel(\"inverted generational\\ndistance\")\n",
    "\n",
    "    ax6.plot(metrics.nfe, metrics.spacing)\n",
    "    ax6.set_ylabel(\"spacing\")\n",
    "\n",
    "    ax6.set_xlabel(\"nfe\")\n",
    "\n",
    "    sns.despine(fig)"
   ],
   "id": "f827e89c9a3a3cb4",
   "outputs": [],
   "execution_count": 12
  },
  {
   "metadata": {
    "ExecuteTime": {
     "end_time": "2025-06-17T15:54:49.362785Z",
     "start_time": "2025-06-17T15:54:49.127378Z"
    }
   },
   "cell_type": "code",
   "source": [
    "# Load optimization results\n",
    "archives = ArchiveLogger.load_archives(f\"./output/test_archive.tar.gz\")\n",
    "reference_set = archives[max(archives.keys())] # this is the final archive\n",
    "\n",
    "# Calculate metrics and plot\n",
    "metrics = calculate_metrics(archives, reference_set, reference_scenario)\n",
    "plot_metrics(metrics, convergence)\n",
    "\n",
    "plt.show()"
   ],
   "id": "1b17f2da1c665e52",
   "outputs": [
    {
     "ename": "EMAError",
     "evalue": "Parameter names ['0_RfR 0', '0_RfR 1', '0_RfR 2', '1_RfR 0', '1_RfR 1', '1_RfR 2', '2_RfR 0', '2_RfR 1', '2_RfR 2', '3_RfR 0', '3_RfR 1', '3_RfR 2', '4_RfR 0', '4_RfR 1', '4_RfR 2', 'A.1_DikeIncrease 0', 'A.1_DikeIncrease 1', 'A.1_DikeIncrease 2', 'A.2_DikeIncrease 0', 'A.2_DikeIncrease 1', 'A.2_DikeIncrease 2', 'A.3_DikeIncrease 0', 'A.3_DikeIncrease 1', 'A.3_DikeIncrease 2', 'A.4_DikeIncrease 0', 'A.4_DikeIncrease 1', 'A.4_DikeIncrease 2', 'A.5_DikeIncrease 0', 'A.5_DikeIncrease 1', 'A.5_DikeIncrease 2'] not found in archive",
     "output_type": "error",
     "traceback": [
      "\u001B[31m---------------------------------------------------------------------------\u001B[39m",
      "\u001B[31mAttributeError\u001B[39m                            Traceback (most recent call last)",
      "\u001B[36mFile \u001B[39m\u001B[32m~\\Main\\MBDM\\Git_directory\\.venv\\Lib\\site-packages\\ema_workbench\\em_framework\\optimization.py:895\u001B[39m, in \u001B[36mrebuild_platypus_population\u001B[39m\u001B[34m(archive, problem)\u001B[39m\n\u001B[32m    894\u001B[39m \u001B[38;5;28;01mtry\u001B[39;00m:\n\u001B[32m--> \u001B[39m\u001B[32m895\u001B[39m     decision_variables = [\u001B[38;5;28;43mgetattr\u001B[39;49m\u001B[43m(\u001B[49m\u001B[43mrow\u001B[49m\u001B[43m,\u001B[49m\u001B[43m \u001B[49m\u001B[43mattr\u001B[49m\u001B[43m)\u001B[49m \u001B[38;5;28;01mfor\u001B[39;00m attr \u001B[38;5;129;01min\u001B[39;00m problem.parameter_names]\n\u001B[32m    896\u001B[39m \u001B[38;5;28;01mexcept\u001B[39;00m \u001B[38;5;167;01mAttributeError\u001B[39;00m:\n",
      "\u001B[31mAttributeError\u001B[39m: 'Pandas' object has no attribute '0_RfR 0'",
      "\nDuring handling of the above exception, another exception occurred:\n",
      "\u001B[31mEMAError\u001B[39m                                  Traceback (most recent call last)",
      "\u001B[36mCell\u001B[39m\u001B[36m \u001B[39m\u001B[32mIn[14]\u001B[39m\u001B[32m, line 6\u001B[39m\n\u001B[32m      3\u001B[39m reference_set = archives[\u001B[38;5;28mmax\u001B[39m(archives.keys())] \u001B[38;5;66;03m# this is the final archive\u001B[39;00m\n\u001B[32m      5\u001B[39m \u001B[38;5;66;03m# Calculate metrics and plot\u001B[39;00m\n\u001B[32m----> \u001B[39m\u001B[32m6\u001B[39m metrics = \u001B[43mcalculate_metrics\u001B[49m\u001B[43m(\u001B[49m\u001B[43marchives\u001B[49m\u001B[43m,\u001B[49m\u001B[43m \u001B[49m\u001B[43mreference_set\u001B[49m\u001B[43m,\u001B[49m\u001B[43m \u001B[49m\u001B[43mreference_scenario\u001B[49m\u001B[43m)\u001B[49m\n\u001B[32m      7\u001B[39m plot_metrics(metrics, convergence)\n\u001B[32m      9\u001B[39m plt.show()\n",
      "\u001B[36mCell\u001B[39m\u001B[36m \u001B[39m\u001B[32mIn[11]\u001B[39m\u001B[32m, line 22\u001B[39m, in \u001B[36mcalculate_metrics\u001B[39m\u001B[34m(archives, reference_set, reference_scenario)\u001B[39m\n\u001B[32m      2\u001B[39m \u001B[38;5;250m\u001B[39m\u001B[33;03m\"\"\"\u001B[39;00m\n\u001B[32m      3\u001B[39m \u001B[33;03mCalculate multiple convergence metrics for each archive snapshot during optimization.\u001B[39;00m\n\u001B[32m      4\u001B[39m \n\u001B[32m   (...)\u001B[39m\u001B[32m     17\u001B[39m \u001B[33;03m    pandas.DataFrame: A DataFrame containing metric scores for each NFE snapshot, sorted by NFE.\u001B[39;00m\n\u001B[32m     18\u001B[39m \u001B[33;03m\"\"\"\u001B[39;00m\n\u001B[32m     20\u001B[39m problem = to_problem(dike_model, searchover=\u001B[33m\"\u001B[39m\u001B[33mlevers\u001B[39m\u001B[33m\"\u001B[39m, reference=reference_scenario)\n\u001B[32m---> \u001B[39m\u001B[32m22\u001B[39m hv = \u001B[43mHypervolumeMetric\u001B[49m\u001B[43m(\u001B[49m\u001B[43mreference_set\u001B[49m\u001B[43m,\u001B[49m\u001B[43m \u001B[49m\u001B[43mproblem\u001B[49m\u001B[43m)\u001B[49m\n\u001B[32m     23\u001B[39m gd = GenerationalDistanceMetric(reference_set, problem, d=\u001B[32m1\u001B[39m)\n\u001B[32m     24\u001B[39m ei = EpsilonIndicatorMetric(reference_set, problem)\n",
      "\u001B[36mFile \u001B[39m\u001B[32m~\\Main\\MBDM\\Git_directory\\.venv\\Lib\\site-packages\\ema_workbench\\em_framework\\optimization.py:514\u001B[39m, in \u001B[36mMetricWrapper.__init__\u001B[39m\u001B[34m(self, reference_set, problem, **kwargs)\u001B[39m\n\u001B[32m    512\u001B[39m \u001B[38;5;28;01mdef\u001B[39;00m\u001B[38;5;250m \u001B[39m\u001B[34m__init__\u001B[39m(\u001B[38;5;28mself\u001B[39m, reference_set, problem, **kwargs):\n\u001B[32m    513\u001B[39m     \u001B[38;5;28mself\u001B[39m.problem = problem\n\u001B[32m--> \u001B[39m\u001B[32m514\u001B[39m     reference_set = \u001B[43mrebuild_platypus_population\u001B[49m\u001B[43m(\u001B[49m\u001B[43mreference_set\u001B[49m\u001B[43m,\u001B[49m\u001B[43m \u001B[49m\u001B[38;5;28;43mself\u001B[39;49m\u001B[43m.\u001B[49m\u001B[43mproblem\u001B[49m\u001B[43m)\u001B[49m\n\u001B[32m    515\u001B[39m     \u001B[38;5;28msuper\u001B[39m().\u001B[34m__init__\u001B[39m(reference_set=reference_set, **kwargs)\n",
      "\u001B[36mFile \u001B[39m\u001B[32m~\\Main\\MBDM\\Git_directory\\.venv\\Lib\\site-packages\\ema_workbench\\em_framework\\optimization.py:900\u001B[39m, in \u001B[36mrebuild_platypus_population\u001B[39m\u001B[34m(archive, problem)\u001B[39m\n\u001B[32m    896\u001B[39m \u001B[38;5;28;01mexcept\u001B[39;00m \u001B[38;5;167;01mAttributeError\u001B[39;00m:\n\u001B[32m    897\u001B[39m     missing_parameters = [\n\u001B[32m    898\u001B[39m         attr \u001B[38;5;28;01mfor\u001B[39;00m attr \u001B[38;5;129;01min\u001B[39;00m problem.parameter_names \u001B[38;5;28;01mif\u001B[39;00m \u001B[38;5;129;01mnot\u001B[39;00m \u001B[38;5;28mhasattr\u001B[39m(row, attr)\n\u001B[32m    899\u001B[39m     ]\n\u001B[32m--> \u001B[39m\u001B[32m900\u001B[39m     \u001B[38;5;28;01mraise\u001B[39;00m EMAError(\u001B[33mf\u001B[39m\u001B[33m\"\u001B[39m\u001B[33mParameter names \u001B[39m\u001B[38;5;132;01m{\u001B[39;00mmissing_parameters\u001B[38;5;132;01m}\u001B[39;00m\u001B[33m not found in archive\u001B[39m\u001B[33m\"\u001B[39m)\n\u001B[32m    902\u001B[39m \u001B[38;5;28;01mtry\u001B[39;00m:\n\u001B[32m    903\u001B[39m     objectives = [\u001B[38;5;28mgetattr\u001B[39m(row, attr) \u001B[38;5;28;01mfor\u001B[39;00m attr \u001B[38;5;129;01min\u001B[39;00m problem.outcome_names]\n",
      "\u001B[31mEMAError\u001B[39m: Parameter names ['0_RfR 0', '0_RfR 1', '0_RfR 2', '1_RfR 0', '1_RfR 1', '1_RfR 2', '2_RfR 0', '2_RfR 1', '2_RfR 2', '3_RfR 0', '3_RfR 1', '3_RfR 2', '4_RfR 0', '4_RfR 1', '4_RfR 2', 'A.1_DikeIncrease 0', 'A.1_DikeIncrease 1', 'A.1_DikeIncrease 2', 'A.2_DikeIncrease 0', 'A.2_DikeIncrease 1', 'A.2_DikeIncrease 2', 'A.3_DikeIncrease 0', 'A.3_DikeIncrease 1', 'A.3_DikeIncrease 2', 'A.4_DikeIncrease 0', 'A.4_DikeIncrease 1', 'A.4_DikeIncrease 2', 'A.5_DikeIncrease 0', 'A.5_DikeIncrease 1', 'A.5_DikeIncrease 2'] not found in archive"
     ]
    }
   ],
   "execution_count": 14
  },
  {
   "metadata": {},
   "cell_type": "markdown",
   "source": [
    "The `HypervolumeMetric` function (called first by `calculate_metrics()`) raises an error due to an issue in the `rebuild_platypus_population()` method.\n",
    "\n",
    "Specifically, `rebuild_platypus_population()` tries to access parameter values from the archive using `archive.itertuples()`, which returns each row as a `namedtuple`. Namedtuples require attribute-style access (`getattr(row, attr)`), and this only works if attribute names are valid Python identifiers.\n",
    "\n",
    "However, many of the `problem.parameter_names` contain spaces, dots, or other invalid characters (e.g., `'0_RfR 0'`, `'A.1_DikeIncrease 1'`). When Pandas uses `itertuples()`, these characters are automatically sanitized (e.g., spaces become underscores), or in some cases, replaced with `_0`, `_1`, etc., if the name cannot be made valid. This mismatch between original parameter names and the sanitized attribute names causes `getattr(row, attr)` to fail with an `AttributeError`.\n",
    "\n",
    "As a result, the error message indicates that the parameter names could not be found in the archive — not because they don’t exist, but because the attribute-style lookup cannot match the original names due to the sanitization performed by `itertuples()`.\n",
    "\n",
    "This can be confirmed easily by printing the attributes of each row returned by `itertuples()`:\n",
    "\n"
   ],
   "id": "d909b221bfac671d"
  },
  {
   "metadata": {
    "ExecuteTime": {
     "end_time": "2025-06-17T15:54:55.011020Z",
     "start_time": "2025-06-17T15:54:54.977449Z"
    }
   },
   "cell_type": "code",
   "source": [
    "for row in reference_set.itertuples():\n",
    "    print(dir(row))"
   ],
   "id": "dacf5fa5105a998c",
   "outputs": [
    {
     "name": "stdout",
     "output_type": "stream",
     "text": [
      "['EWS_DaysToThreat', 'Index', '_1', '_10', '_11', '_12', '_13', '_14', '_15', '_17', '_18', '_19', '_2', '_20', '_21', '_22', '_23', '_24', '_25', '_26', '_27', '_28', '_29', '_3', '_30', '_31', '_32', '_33', '_34', '_35', '_36', '_37', '_38', '_39', '_4', '_40', '_41', '_42', '_43', '_5', '_6', '_7', '_8', '_9', '__add__', '__class__', '__class_getitem__', '__contains__', '__delattr__', '__dir__', '__doc__', '__eq__', '__format__', '__ge__', '__getattribute__', '__getitem__', '__getnewargs__', '__getstate__', '__gt__', '__hash__', '__init__', '__init_subclass__', '__iter__', '__le__', '__len__', '__lt__', '__match_args__', '__module__', '__mul__', '__ne__', '__new__', '__reduce__', '__reduce_ex__', '__repr__', '__rmul__', '__setattr__', '__sizeof__', '__slots__', '__str__', '__subclasshook__', '_asdict', '_field_defaults', '_fields', '_make', '_replace', 'count', 'index']\n",
      "['EWS_DaysToThreat', 'Index', '_1', '_10', '_11', '_12', '_13', '_14', '_15', '_17', '_18', '_19', '_2', '_20', '_21', '_22', '_23', '_24', '_25', '_26', '_27', '_28', '_29', '_3', '_30', '_31', '_32', '_33', '_34', '_35', '_36', '_37', '_38', '_39', '_4', '_40', '_41', '_42', '_43', '_5', '_6', '_7', '_8', '_9', '__add__', '__class__', '__class_getitem__', '__contains__', '__delattr__', '__dir__', '__doc__', '__eq__', '__format__', '__ge__', '__getattribute__', '__getitem__', '__getnewargs__', '__getstate__', '__gt__', '__hash__', '__init__', '__init_subclass__', '__iter__', '__le__', '__len__', '__lt__', '__match_args__', '__module__', '__mul__', '__ne__', '__new__', '__reduce__', '__reduce_ex__', '__repr__', '__rmul__', '__setattr__', '__sizeof__', '__slots__', '__str__', '__subclasshook__', '_asdict', '_field_defaults', '_fields', '_make', '_replace', 'count', 'index']\n",
      "['EWS_DaysToThreat', 'Index', '_1', '_10', '_11', '_12', '_13', '_14', '_15', '_17', '_18', '_19', '_2', '_20', '_21', '_22', '_23', '_24', '_25', '_26', '_27', '_28', '_29', '_3', '_30', '_31', '_32', '_33', '_34', '_35', '_36', '_37', '_38', '_39', '_4', '_40', '_41', '_42', '_43', '_5', '_6', '_7', '_8', '_9', '__add__', '__class__', '__class_getitem__', '__contains__', '__delattr__', '__dir__', '__doc__', '__eq__', '__format__', '__ge__', '__getattribute__', '__getitem__', '__getnewargs__', '__getstate__', '__gt__', '__hash__', '__init__', '__init_subclass__', '__iter__', '__le__', '__len__', '__lt__', '__match_args__', '__module__', '__mul__', '__ne__', '__new__', '__reduce__', '__reduce_ex__', '__repr__', '__rmul__', '__setattr__', '__sizeof__', '__slots__', '__str__', '__subclasshook__', '_asdict', '_field_defaults', '_fields', '_make', '_replace', 'count', 'index']\n",
      "['EWS_DaysToThreat', 'Index', '_1', '_10', '_11', '_12', '_13', '_14', '_15', '_17', '_18', '_19', '_2', '_20', '_21', '_22', '_23', '_24', '_25', '_26', '_27', '_28', '_29', '_3', '_30', '_31', '_32', '_33', '_34', '_35', '_36', '_37', '_38', '_39', '_4', '_40', '_41', '_42', '_43', '_5', '_6', '_7', '_8', '_9', '__add__', '__class__', '__class_getitem__', '__contains__', '__delattr__', '__dir__', '__doc__', '__eq__', '__format__', '__ge__', '__getattribute__', '__getitem__', '__getnewargs__', '__getstate__', '__gt__', '__hash__', '__init__', '__init_subclass__', '__iter__', '__le__', '__len__', '__lt__', '__match_args__', '__module__', '__mul__', '__ne__', '__new__', '__reduce__', '__reduce_ex__', '__repr__', '__rmul__', '__setattr__', '__sizeof__', '__slots__', '__str__', '__subclasshook__', '_asdict', '_field_defaults', '_fields', '_make', '_replace', 'count', 'index']\n",
      "['EWS_DaysToThreat', 'Index', '_1', '_10', '_11', '_12', '_13', '_14', '_15', '_17', '_18', '_19', '_2', '_20', '_21', '_22', '_23', '_24', '_25', '_26', '_27', '_28', '_29', '_3', '_30', '_31', '_32', '_33', '_34', '_35', '_36', '_37', '_38', '_39', '_4', '_40', '_41', '_42', '_43', '_5', '_6', '_7', '_8', '_9', '__add__', '__class__', '__class_getitem__', '__contains__', '__delattr__', '__dir__', '__doc__', '__eq__', '__format__', '__ge__', '__getattribute__', '__getitem__', '__getnewargs__', '__getstate__', '__gt__', '__hash__', '__init__', '__init_subclass__', '__iter__', '__le__', '__len__', '__lt__', '__match_args__', '__module__', '__mul__', '__ne__', '__new__', '__reduce__', '__reduce_ex__', '__repr__', '__rmul__', '__setattr__', '__sizeof__', '__slots__', '__str__', '__subclasshook__', '_asdict', '_field_defaults', '_fields', '_make', '_replace', 'count', 'index']\n",
      "['EWS_DaysToThreat', 'Index', '_1', '_10', '_11', '_12', '_13', '_14', '_15', '_17', '_18', '_19', '_2', '_20', '_21', '_22', '_23', '_24', '_25', '_26', '_27', '_28', '_29', '_3', '_30', '_31', '_32', '_33', '_34', '_35', '_36', '_37', '_38', '_39', '_4', '_40', '_41', '_42', '_43', '_5', '_6', '_7', '_8', '_9', '__add__', '__class__', '__class_getitem__', '__contains__', '__delattr__', '__dir__', '__doc__', '__eq__', '__format__', '__ge__', '__getattribute__', '__getitem__', '__getnewargs__', '__getstate__', '__gt__', '__hash__', '__init__', '__init_subclass__', '__iter__', '__le__', '__len__', '__lt__', '__match_args__', '__module__', '__mul__', '__ne__', '__new__', '__reduce__', '__reduce_ex__', '__repr__', '__rmul__', '__setattr__', '__sizeof__', '__slots__', '__str__', '__subclasshook__', '_asdict', '_field_defaults', '_fields', '_make', '_replace', 'count', 'index']\n",
      "['EWS_DaysToThreat', 'Index', '_1', '_10', '_11', '_12', '_13', '_14', '_15', '_17', '_18', '_19', '_2', '_20', '_21', '_22', '_23', '_24', '_25', '_26', '_27', '_28', '_29', '_3', '_30', '_31', '_32', '_33', '_34', '_35', '_36', '_37', '_38', '_39', '_4', '_40', '_41', '_42', '_43', '_5', '_6', '_7', '_8', '_9', '__add__', '__class__', '__class_getitem__', '__contains__', '__delattr__', '__dir__', '__doc__', '__eq__', '__format__', '__ge__', '__getattribute__', '__getitem__', '__getnewargs__', '__getstate__', '__gt__', '__hash__', '__init__', '__init_subclass__', '__iter__', '__le__', '__len__', '__lt__', '__match_args__', '__module__', '__mul__', '__ne__', '__new__', '__reduce__', '__reduce_ex__', '__repr__', '__rmul__', '__setattr__', '__sizeof__', '__slots__', '__str__', '__subclasshook__', '_asdict', '_field_defaults', '_fields', '_make', '_replace', 'count', 'index']\n",
      "['EWS_DaysToThreat', 'Index', '_1', '_10', '_11', '_12', '_13', '_14', '_15', '_17', '_18', '_19', '_2', '_20', '_21', '_22', '_23', '_24', '_25', '_26', '_27', '_28', '_29', '_3', '_30', '_31', '_32', '_33', '_34', '_35', '_36', '_37', '_38', '_39', '_4', '_40', '_41', '_42', '_43', '_5', '_6', '_7', '_8', '_9', '__add__', '__class__', '__class_getitem__', '__contains__', '__delattr__', '__dir__', '__doc__', '__eq__', '__format__', '__ge__', '__getattribute__', '__getitem__', '__getnewargs__', '__getstate__', '__gt__', '__hash__', '__init__', '__init_subclass__', '__iter__', '__le__', '__len__', '__lt__', '__match_args__', '__module__', '__mul__', '__ne__', '__new__', '__reduce__', '__reduce_ex__', '__repr__', '__rmul__', '__setattr__', '__sizeof__', '__slots__', '__str__', '__subclasshook__', '_asdict', '_field_defaults', '_fields', '_make', '_replace', 'count', 'index']\n",
      "['EWS_DaysToThreat', 'Index', '_1', '_10', '_11', '_12', '_13', '_14', '_15', '_17', '_18', '_19', '_2', '_20', '_21', '_22', '_23', '_24', '_25', '_26', '_27', '_28', '_29', '_3', '_30', '_31', '_32', '_33', '_34', '_35', '_36', '_37', '_38', '_39', '_4', '_40', '_41', '_42', '_43', '_5', '_6', '_7', '_8', '_9', '__add__', '__class__', '__class_getitem__', '__contains__', '__delattr__', '__dir__', '__doc__', '__eq__', '__format__', '__ge__', '__getattribute__', '__getitem__', '__getnewargs__', '__getstate__', '__gt__', '__hash__', '__init__', '__init_subclass__', '__iter__', '__le__', '__len__', '__lt__', '__match_args__', '__module__', '__mul__', '__ne__', '__new__', '__reduce__', '__reduce_ex__', '__repr__', '__rmul__', '__setattr__', '__sizeof__', '__slots__', '__str__', '__subclasshook__', '_asdict', '_field_defaults', '_fields', '_make', '_replace', 'count', 'index']\n",
      "['EWS_DaysToThreat', 'Index', '_1', '_10', '_11', '_12', '_13', '_14', '_15', '_17', '_18', '_19', '_2', '_20', '_21', '_22', '_23', '_24', '_25', '_26', '_27', '_28', '_29', '_3', '_30', '_31', '_32', '_33', '_34', '_35', '_36', '_37', '_38', '_39', '_4', '_40', '_41', '_42', '_43', '_5', '_6', '_7', '_8', '_9', '__add__', '__class__', '__class_getitem__', '__contains__', '__delattr__', '__dir__', '__doc__', '__eq__', '__format__', '__ge__', '__getattribute__', '__getitem__', '__getnewargs__', '__getstate__', '__gt__', '__hash__', '__init__', '__init_subclass__', '__iter__', '__le__', '__len__', '__lt__', '__match_args__', '__module__', '__mul__', '__ne__', '__new__', '__reduce__', '__reduce_ex__', '__repr__', '__rmul__', '__setattr__', '__sizeof__', '__slots__', '__str__', '__subclasshook__', '_asdict', '_field_defaults', '_fields', '_make', '_replace', 'count', 'index']\n",
      "['EWS_DaysToThreat', 'Index', '_1', '_10', '_11', '_12', '_13', '_14', '_15', '_17', '_18', '_19', '_2', '_20', '_21', '_22', '_23', '_24', '_25', '_26', '_27', '_28', '_29', '_3', '_30', '_31', '_32', '_33', '_34', '_35', '_36', '_37', '_38', '_39', '_4', '_40', '_41', '_42', '_43', '_5', '_6', '_7', '_8', '_9', '__add__', '__class__', '__class_getitem__', '__contains__', '__delattr__', '__dir__', '__doc__', '__eq__', '__format__', '__ge__', '__getattribute__', '__getitem__', '__getnewargs__', '__getstate__', '__gt__', '__hash__', '__init__', '__init_subclass__', '__iter__', '__le__', '__len__', '__lt__', '__match_args__', '__module__', '__mul__', '__ne__', '__new__', '__reduce__', '__reduce_ex__', '__repr__', '__rmul__', '__setattr__', '__sizeof__', '__slots__', '__str__', '__subclasshook__', '_asdict', '_field_defaults', '_fields', '_make', '_replace', 'count', 'index']\n",
      "['EWS_DaysToThreat', 'Index', '_1', '_10', '_11', '_12', '_13', '_14', '_15', '_17', '_18', '_19', '_2', '_20', '_21', '_22', '_23', '_24', '_25', '_26', '_27', '_28', '_29', '_3', '_30', '_31', '_32', '_33', '_34', '_35', '_36', '_37', '_38', '_39', '_4', '_40', '_41', '_42', '_43', '_5', '_6', '_7', '_8', '_9', '__add__', '__class__', '__class_getitem__', '__contains__', '__delattr__', '__dir__', '__doc__', '__eq__', '__format__', '__ge__', '__getattribute__', '__getitem__', '__getnewargs__', '__getstate__', '__gt__', '__hash__', '__init__', '__init_subclass__', '__iter__', '__le__', '__len__', '__lt__', '__match_args__', '__module__', '__mul__', '__ne__', '__new__', '__reduce__', '__reduce_ex__', '__repr__', '__rmul__', '__setattr__', '__sizeof__', '__slots__', '__str__', '__subclasshook__', '_asdict', '_field_defaults', '_fields', '_make', '_replace', 'count', 'index']\n",
      "['EWS_DaysToThreat', 'Index', '_1', '_10', '_11', '_12', '_13', '_14', '_15', '_17', '_18', '_19', '_2', '_20', '_21', '_22', '_23', '_24', '_25', '_26', '_27', '_28', '_29', '_3', '_30', '_31', '_32', '_33', '_34', '_35', '_36', '_37', '_38', '_39', '_4', '_40', '_41', '_42', '_43', '_5', '_6', '_7', '_8', '_9', '__add__', '__class__', '__class_getitem__', '__contains__', '__delattr__', '__dir__', '__doc__', '__eq__', '__format__', '__ge__', '__getattribute__', '__getitem__', '__getnewargs__', '__getstate__', '__gt__', '__hash__', '__init__', '__init_subclass__', '__iter__', '__le__', '__len__', '__lt__', '__match_args__', '__module__', '__mul__', '__ne__', '__new__', '__reduce__', '__reduce_ex__', '__repr__', '__rmul__', '__setattr__', '__sizeof__', '__slots__', '__str__', '__subclasshook__', '_asdict', '_field_defaults', '_fields', '_make', '_replace', 'count', 'index']\n",
      "['EWS_DaysToThreat', 'Index', '_1', '_10', '_11', '_12', '_13', '_14', '_15', '_17', '_18', '_19', '_2', '_20', '_21', '_22', '_23', '_24', '_25', '_26', '_27', '_28', '_29', '_3', '_30', '_31', '_32', '_33', '_34', '_35', '_36', '_37', '_38', '_39', '_4', '_40', '_41', '_42', '_43', '_5', '_6', '_7', '_8', '_9', '__add__', '__class__', '__class_getitem__', '__contains__', '__delattr__', '__dir__', '__doc__', '__eq__', '__format__', '__ge__', '__getattribute__', '__getitem__', '__getnewargs__', '__getstate__', '__gt__', '__hash__', '__init__', '__init_subclass__', '__iter__', '__le__', '__len__', '__lt__', '__match_args__', '__module__', '__mul__', '__ne__', '__new__', '__reduce__', '__reduce_ex__', '__repr__', '__rmul__', '__setattr__', '__sizeof__', '__slots__', '__str__', '__subclasshook__', '_asdict', '_field_defaults', '_fields', '_make', '_replace', 'count', 'index']\n",
      "['EWS_DaysToThreat', 'Index', '_1', '_10', '_11', '_12', '_13', '_14', '_15', '_17', '_18', '_19', '_2', '_20', '_21', '_22', '_23', '_24', '_25', '_26', '_27', '_28', '_29', '_3', '_30', '_31', '_32', '_33', '_34', '_35', '_36', '_37', '_38', '_39', '_4', '_40', '_41', '_42', '_43', '_5', '_6', '_7', '_8', '_9', '__add__', '__class__', '__class_getitem__', '__contains__', '__delattr__', '__dir__', '__doc__', '__eq__', '__format__', '__ge__', '__getattribute__', '__getitem__', '__getnewargs__', '__getstate__', '__gt__', '__hash__', '__init__', '__init_subclass__', '__iter__', '__le__', '__len__', '__lt__', '__match_args__', '__module__', '__mul__', '__ne__', '__new__', '__reduce__', '__reduce_ex__', '__repr__', '__rmul__', '__setattr__', '__sizeof__', '__slots__', '__str__', '__subclasshook__', '_asdict', '_field_defaults', '_fields', '_make', '_replace', 'count', 'index']\n",
      "['EWS_DaysToThreat', 'Index', '_1', '_10', '_11', '_12', '_13', '_14', '_15', '_17', '_18', '_19', '_2', '_20', '_21', '_22', '_23', '_24', '_25', '_26', '_27', '_28', '_29', '_3', '_30', '_31', '_32', '_33', '_34', '_35', '_36', '_37', '_38', '_39', '_4', '_40', '_41', '_42', '_43', '_5', '_6', '_7', '_8', '_9', '__add__', '__class__', '__class_getitem__', '__contains__', '__delattr__', '__dir__', '__doc__', '__eq__', '__format__', '__ge__', '__getattribute__', '__getitem__', '__getnewargs__', '__getstate__', '__gt__', '__hash__', '__init__', '__init_subclass__', '__iter__', '__le__', '__len__', '__lt__', '__match_args__', '__module__', '__mul__', '__ne__', '__new__', '__reduce__', '__reduce_ex__', '__repr__', '__rmul__', '__setattr__', '__sizeof__', '__slots__', '__str__', '__subclasshook__', '_asdict', '_field_defaults', '_fields', '_make', '_replace', 'count', 'index']\n",
      "['EWS_DaysToThreat', 'Index', '_1', '_10', '_11', '_12', '_13', '_14', '_15', '_17', '_18', '_19', '_2', '_20', '_21', '_22', '_23', '_24', '_25', '_26', '_27', '_28', '_29', '_3', '_30', '_31', '_32', '_33', '_34', '_35', '_36', '_37', '_38', '_39', '_4', '_40', '_41', '_42', '_43', '_5', '_6', '_7', '_8', '_9', '__add__', '__class__', '__class_getitem__', '__contains__', '__delattr__', '__dir__', '__doc__', '__eq__', '__format__', '__ge__', '__getattribute__', '__getitem__', '__getnewargs__', '__getstate__', '__gt__', '__hash__', '__init__', '__init_subclass__', '__iter__', '__le__', '__len__', '__lt__', '__match_args__', '__module__', '__mul__', '__ne__', '__new__', '__reduce__', '__reduce_ex__', '__repr__', '__rmul__', '__setattr__', '__sizeof__', '__slots__', '__str__', '__subclasshook__', '_asdict', '_field_defaults', '_fields', '_make', '_replace', 'count', 'index']\n",
      "['EWS_DaysToThreat', 'Index', '_1', '_10', '_11', '_12', '_13', '_14', '_15', '_17', '_18', '_19', '_2', '_20', '_21', '_22', '_23', '_24', '_25', '_26', '_27', '_28', '_29', '_3', '_30', '_31', '_32', '_33', '_34', '_35', '_36', '_37', '_38', '_39', '_4', '_40', '_41', '_42', '_43', '_5', '_6', '_7', '_8', '_9', '__add__', '__class__', '__class_getitem__', '__contains__', '__delattr__', '__dir__', '__doc__', '__eq__', '__format__', '__ge__', '__getattribute__', '__getitem__', '__getnewargs__', '__getstate__', '__gt__', '__hash__', '__init__', '__init_subclass__', '__iter__', '__le__', '__len__', '__lt__', '__match_args__', '__module__', '__mul__', '__ne__', '__new__', '__reduce__', '__reduce_ex__', '__repr__', '__rmul__', '__setattr__', '__sizeof__', '__slots__', '__str__', '__subclasshook__', '_asdict', '_field_defaults', '_fields', '_make', '_replace', 'count', 'index']\n",
      "['EWS_DaysToThreat', 'Index', '_1', '_10', '_11', '_12', '_13', '_14', '_15', '_17', '_18', '_19', '_2', '_20', '_21', '_22', '_23', '_24', '_25', '_26', '_27', '_28', '_29', '_3', '_30', '_31', '_32', '_33', '_34', '_35', '_36', '_37', '_38', '_39', '_4', '_40', '_41', '_42', '_43', '_5', '_6', '_7', '_8', '_9', '__add__', '__class__', '__class_getitem__', '__contains__', '__delattr__', '__dir__', '__doc__', '__eq__', '__format__', '__ge__', '__getattribute__', '__getitem__', '__getnewargs__', '__getstate__', '__gt__', '__hash__', '__init__', '__init_subclass__', '__iter__', '__le__', '__len__', '__lt__', '__match_args__', '__module__', '__mul__', '__ne__', '__new__', '__reduce__', '__reduce_ex__', '__repr__', '__rmul__', '__setattr__', '__sizeof__', '__slots__', '__str__', '__subclasshook__', '_asdict', '_field_defaults', '_fields', '_make', '_replace', 'count', 'index']\n",
      "['EWS_DaysToThreat', 'Index', '_1', '_10', '_11', '_12', '_13', '_14', '_15', '_17', '_18', '_19', '_2', '_20', '_21', '_22', '_23', '_24', '_25', '_26', '_27', '_28', '_29', '_3', '_30', '_31', '_32', '_33', '_34', '_35', '_36', '_37', '_38', '_39', '_4', '_40', '_41', '_42', '_43', '_5', '_6', '_7', '_8', '_9', '__add__', '__class__', '__class_getitem__', '__contains__', '__delattr__', '__dir__', '__doc__', '__eq__', '__format__', '__ge__', '__getattribute__', '__getitem__', '__getnewargs__', '__getstate__', '__gt__', '__hash__', '__init__', '__init_subclass__', '__iter__', '__le__', '__len__', '__lt__', '__match_args__', '__module__', '__mul__', '__ne__', '__new__', '__reduce__', '__reduce_ex__', '__repr__', '__rmul__', '__setattr__', '__sizeof__', '__slots__', '__str__', '__subclasshook__', '_asdict', '_field_defaults', '_fields', '_make', '_replace', 'count', 'index']\n",
      "['EWS_DaysToThreat', 'Index', '_1', '_10', '_11', '_12', '_13', '_14', '_15', '_17', '_18', '_19', '_2', '_20', '_21', '_22', '_23', '_24', '_25', '_26', '_27', '_28', '_29', '_3', '_30', '_31', '_32', '_33', '_34', '_35', '_36', '_37', '_38', '_39', '_4', '_40', '_41', '_42', '_43', '_5', '_6', '_7', '_8', '_9', '__add__', '__class__', '__class_getitem__', '__contains__', '__delattr__', '__dir__', '__doc__', '__eq__', '__format__', '__ge__', '__getattribute__', '__getitem__', '__getnewargs__', '__getstate__', '__gt__', '__hash__', '__init__', '__init_subclass__', '__iter__', '__le__', '__len__', '__lt__', '__match_args__', '__module__', '__mul__', '__ne__', '__new__', '__reduce__', '__reduce_ex__', '__repr__', '__rmul__', '__setattr__', '__sizeof__', '__slots__', '__str__', '__subclasshook__', '_asdict', '_field_defaults', '_fields', '_make', '_replace', 'count', 'index']\n",
      "['EWS_DaysToThreat', 'Index', '_1', '_10', '_11', '_12', '_13', '_14', '_15', '_17', '_18', '_19', '_2', '_20', '_21', '_22', '_23', '_24', '_25', '_26', '_27', '_28', '_29', '_3', '_30', '_31', '_32', '_33', '_34', '_35', '_36', '_37', '_38', '_39', '_4', '_40', '_41', '_42', '_43', '_5', '_6', '_7', '_8', '_9', '__add__', '__class__', '__class_getitem__', '__contains__', '__delattr__', '__dir__', '__doc__', '__eq__', '__format__', '__ge__', '__getattribute__', '__getitem__', '__getnewargs__', '__getstate__', '__gt__', '__hash__', '__init__', '__init_subclass__', '__iter__', '__le__', '__len__', '__lt__', '__match_args__', '__module__', '__mul__', '__ne__', '__new__', '__reduce__', '__reduce_ex__', '__repr__', '__rmul__', '__setattr__', '__sizeof__', '__slots__', '__str__', '__subclasshook__', '_asdict', '_field_defaults', '_fields', '_make', '_replace', 'count', 'index']\n",
      "['EWS_DaysToThreat', 'Index', '_1', '_10', '_11', '_12', '_13', '_14', '_15', '_17', '_18', '_19', '_2', '_20', '_21', '_22', '_23', '_24', '_25', '_26', '_27', '_28', '_29', '_3', '_30', '_31', '_32', '_33', '_34', '_35', '_36', '_37', '_38', '_39', '_4', '_40', '_41', '_42', '_43', '_5', '_6', '_7', '_8', '_9', '__add__', '__class__', '__class_getitem__', '__contains__', '__delattr__', '__dir__', '__doc__', '__eq__', '__format__', '__ge__', '__getattribute__', '__getitem__', '__getnewargs__', '__getstate__', '__gt__', '__hash__', '__init__', '__init_subclass__', '__iter__', '__le__', '__len__', '__lt__', '__match_args__', '__module__', '__mul__', '__ne__', '__new__', '__reduce__', '__reduce_ex__', '__repr__', '__rmul__', '__setattr__', '__sizeof__', '__slots__', '__str__', '__subclasshook__', '_asdict', '_field_defaults', '_fields', '_make', '_replace', 'count', 'index']\n",
      "['EWS_DaysToThreat', 'Index', '_1', '_10', '_11', '_12', '_13', '_14', '_15', '_17', '_18', '_19', '_2', '_20', '_21', '_22', '_23', '_24', '_25', '_26', '_27', '_28', '_29', '_3', '_30', '_31', '_32', '_33', '_34', '_35', '_36', '_37', '_38', '_39', '_4', '_40', '_41', '_42', '_43', '_5', '_6', '_7', '_8', '_9', '__add__', '__class__', '__class_getitem__', '__contains__', '__delattr__', '__dir__', '__doc__', '__eq__', '__format__', '__ge__', '__getattribute__', '__getitem__', '__getnewargs__', '__getstate__', '__gt__', '__hash__', '__init__', '__init_subclass__', '__iter__', '__le__', '__len__', '__lt__', '__match_args__', '__module__', '__mul__', '__ne__', '__new__', '__reduce__', '__reduce_ex__', '__repr__', '__rmul__', '__setattr__', '__sizeof__', '__slots__', '__str__', '__subclasshook__', '_asdict', '_field_defaults', '_fields', '_make', '_replace', 'count', 'index']\n",
      "['EWS_DaysToThreat', 'Index', '_1', '_10', '_11', '_12', '_13', '_14', '_15', '_17', '_18', '_19', '_2', '_20', '_21', '_22', '_23', '_24', '_25', '_26', '_27', '_28', '_29', '_3', '_30', '_31', '_32', '_33', '_34', '_35', '_36', '_37', '_38', '_39', '_4', '_40', '_41', '_42', '_43', '_5', '_6', '_7', '_8', '_9', '__add__', '__class__', '__class_getitem__', '__contains__', '__delattr__', '__dir__', '__doc__', '__eq__', '__format__', '__ge__', '__getattribute__', '__getitem__', '__getnewargs__', '__getstate__', '__gt__', '__hash__', '__init__', '__init_subclass__', '__iter__', '__le__', '__len__', '__lt__', '__match_args__', '__module__', '__mul__', '__ne__', '__new__', '__reduce__', '__reduce_ex__', '__repr__', '__rmul__', '__setattr__', '__sizeof__', '__slots__', '__str__', '__subclasshook__', '_asdict', '_field_defaults', '_fields', '_make', '_replace', 'count', 'index']\n",
      "['EWS_DaysToThreat', 'Index', '_1', '_10', '_11', '_12', '_13', '_14', '_15', '_17', '_18', '_19', '_2', '_20', '_21', '_22', '_23', '_24', '_25', '_26', '_27', '_28', '_29', '_3', '_30', '_31', '_32', '_33', '_34', '_35', '_36', '_37', '_38', '_39', '_4', '_40', '_41', '_42', '_43', '_5', '_6', '_7', '_8', '_9', '__add__', '__class__', '__class_getitem__', '__contains__', '__delattr__', '__dir__', '__doc__', '__eq__', '__format__', '__ge__', '__getattribute__', '__getitem__', '__getnewargs__', '__getstate__', '__gt__', '__hash__', '__init__', '__init_subclass__', '__iter__', '__le__', '__len__', '__lt__', '__match_args__', '__module__', '__mul__', '__ne__', '__new__', '__reduce__', '__reduce_ex__', '__repr__', '__rmul__', '__setattr__', '__sizeof__', '__slots__', '__str__', '__subclasshook__', '_asdict', '_field_defaults', '_fields', '_make', '_replace', 'count', 'index']\n",
      "['EWS_DaysToThreat', 'Index', '_1', '_10', '_11', '_12', '_13', '_14', '_15', '_17', '_18', '_19', '_2', '_20', '_21', '_22', '_23', '_24', '_25', '_26', '_27', '_28', '_29', '_3', '_30', '_31', '_32', '_33', '_34', '_35', '_36', '_37', '_38', '_39', '_4', '_40', '_41', '_42', '_43', '_5', '_6', '_7', '_8', '_9', '__add__', '__class__', '__class_getitem__', '__contains__', '__delattr__', '__dir__', '__doc__', '__eq__', '__format__', '__ge__', '__getattribute__', '__getitem__', '__getnewargs__', '__getstate__', '__gt__', '__hash__', '__init__', '__init_subclass__', '__iter__', '__le__', '__len__', '__lt__', '__match_args__', '__module__', '__mul__', '__ne__', '__new__', '__reduce__', '__reduce_ex__', '__repr__', '__rmul__', '__setattr__', '__sizeof__', '__slots__', '__str__', '__subclasshook__', '_asdict', '_field_defaults', '_fields', '_make', '_replace', 'count', 'index']\n",
      "['EWS_DaysToThreat', 'Index', '_1', '_10', '_11', '_12', '_13', '_14', '_15', '_17', '_18', '_19', '_2', '_20', '_21', '_22', '_23', '_24', '_25', '_26', '_27', '_28', '_29', '_3', '_30', '_31', '_32', '_33', '_34', '_35', '_36', '_37', '_38', '_39', '_4', '_40', '_41', '_42', '_43', '_5', '_6', '_7', '_8', '_9', '__add__', '__class__', '__class_getitem__', '__contains__', '__delattr__', '__dir__', '__doc__', '__eq__', '__format__', '__ge__', '__getattribute__', '__getitem__', '__getnewargs__', '__getstate__', '__gt__', '__hash__', '__init__', '__init_subclass__', '__iter__', '__le__', '__len__', '__lt__', '__match_args__', '__module__', '__mul__', '__ne__', '__new__', '__reduce__', '__reduce_ex__', '__repr__', '__rmul__', '__setattr__', '__sizeof__', '__slots__', '__str__', '__subclasshook__', '_asdict', '_field_defaults', '_fields', '_make', '_replace', 'count', 'index']\n",
      "['EWS_DaysToThreat', 'Index', '_1', '_10', '_11', '_12', '_13', '_14', '_15', '_17', '_18', '_19', '_2', '_20', '_21', '_22', '_23', '_24', '_25', '_26', '_27', '_28', '_29', '_3', '_30', '_31', '_32', '_33', '_34', '_35', '_36', '_37', '_38', '_39', '_4', '_40', '_41', '_42', '_43', '_5', '_6', '_7', '_8', '_9', '__add__', '__class__', '__class_getitem__', '__contains__', '__delattr__', '__dir__', '__doc__', '__eq__', '__format__', '__ge__', '__getattribute__', '__getitem__', '__getnewargs__', '__getstate__', '__gt__', '__hash__', '__init__', '__init_subclass__', '__iter__', '__le__', '__len__', '__lt__', '__match_args__', '__module__', '__mul__', '__ne__', '__new__', '__reduce__', '__reduce_ex__', '__repr__', '__rmul__', '__setattr__', '__sizeof__', '__slots__', '__str__', '__subclasshook__', '_asdict', '_field_defaults', '_fields', '_make', '_replace', 'count', 'index']\n",
      "['EWS_DaysToThreat', 'Index', '_1', '_10', '_11', '_12', '_13', '_14', '_15', '_17', '_18', '_19', '_2', '_20', '_21', '_22', '_23', '_24', '_25', '_26', '_27', '_28', '_29', '_3', '_30', '_31', '_32', '_33', '_34', '_35', '_36', '_37', '_38', '_39', '_4', '_40', '_41', '_42', '_43', '_5', '_6', '_7', '_8', '_9', '__add__', '__class__', '__class_getitem__', '__contains__', '__delattr__', '__dir__', '__doc__', '__eq__', '__format__', '__ge__', '__getattribute__', '__getitem__', '__getnewargs__', '__getstate__', '__gt__', '__hash__', '__init__', '__init_subclass__', '__iter__', '__le__', '__len__', '__lt__', '__match_args__', '__module__', '__mul__', '__ne__', '__new__', '__reduce__', '__reduce_ex__', '__repr__', '__rmul__', '__setattr__', '__sizeof__', '__slots__', '__str__', '__subclasshook__', '_asdict', '_field_defaults', '_fields', '_make', '_replace', 'count', 'index']\n",
      "['EWS_DaysToThreat', 'Index', '_1', '_10', '_11', '_12', '_13', '_14', '_15', '_17', '_18', '_19', '_2', '_20', '_21', '_22', '_23', '_24', '_25', '_26', '_27', '_28', '_29', '_3', '_30', '_31', '_32', '_33', '_34', '_35', '_36', '_37', '_38', '_39', '_4', '_40', '_41', '_42', '_43', '_5', '_6', '_7', '_8', '_9', '__add__', '__class__', '__class_getitem__', '__contains__', '__delattr__', '__dir__', '__doc__', '__eq__', '__format__', '__ge__', '__getattribute__', '__getitem__', '__getnewargs__', '__getstate__', '__gt__', '__hash__', '__init__', '__init_subclass__', '__iter__', '__le__', '__len__', '__lt__', '__match_args__', '__module__', '__mul__', '__ne__', '__new__', '__reduce__', '__reduce_ex__', '__repr__', '__rmul__', '__setattr__', '__sizeof__', '__slots__', '__str__', '__subclasshook__', '_asdict', '_field_defaults', '_fields', '_make', '_replace', 'count', 'index']\n",
      "['EWS_DaysToThreat', 'Index', '_1', '_10', '_11', '_12', '_13', '_14', '_15', '_17', '_18', '_19', '_2', '_20', '_21', '_22', '_23', '_24', '_25', '_26', '_27', '_28', '_29', '_3', '_30', '_31', '_32', '_33', '_34', '_35', '_36', '_37', '_38', '_39', '_4', '_40', '_41', '_42', '_43', '_5', '_6', '_7', '_8', '_9', '__add__', '__class__', '__class_getitem__', '__contains__', '__delattr__', '__dir__', '__doc__', '__eq__', '__format__', '__ge__', '__getattribute__', '__getitem__', '__getnewargs__', '__getstate__', '__gt__', '__hash__', '__init__', '__init_subclass__', '__iter__', '__le__', '__len__', '__lt__', '__match_args__', '__module__', '__mul__', '__ne__', '__new__', '__reduce__', '__reduce_ex__', '__repr__', '__rmul__', '__setattr__', '__sizeof__', '__slots__', '__str__', '__subclasshook__', '_asdict', '_field_defaults', '_fields', '_make', '_replace', 'count', 'index']\n",
      "['EWS_DaysToThreat', 'Index', '_1', '_10', '_11', '_12', '_13', '_14', '_15', '_17', '_18', '_19', '_2', '_20', '_21', '_22', '_23', '_24', '_25', '_26', '_27', '_28', '_29', '_3', '_30', '_31', '_32', '_33', '_34', '_35', '_36', '_37', '_38', '_39', '_4', '_40', '_41', '_42', '_43', '_5', '_6', '_7', '_8', '_9', '__add__', '__class__', '__class_getitem__', '__contains__', '__delattr__', '__dir__', '__doc__', '__eq__', '__format__', '__ge__', '__getattribute__', '__getitem__', '__getnewargs__', '__getstate__', '__gt__', '__hash__', '__init__', '__init_subclass__', '__iter__', '__le__', '__len__', '__lt__', '__match_args__', '__module__', '__mul__', '__ne__', '__new__', '__reduce__', '__reduce_ex__', '__repr__', '__rmul__', '__setattr__', '__sizeof__', '__slots__', '__str__', '__subclasshook__', '_asdict', '_field_defaults', '_fields', '_make', '_replace', 'count', 'index']\n",
      "['EWS_DaysToThreat', 'Index', '_1', '_10', '_11', '_12', '_13', '_14', '_15', '_17', '_18', '_19', '_2', '_20', '_21', '_22', '_23', '_24', '_25', '_26', '_27', '_28', '_29', '_3', '_30', '_31', '_32', '_33', '_34', '_35', '_36', '_37', '_38', '_39', '_4', '_40', '_41', '_42', '_43', '_5', '_6', '_7', '_8', '_9', '__add__', '__class__', '__class_getitem__', '__contains__', '__delattr__', '__dir__', '__doc__', '__eq__', '__format__', '__ge__', '__getattribute__', '__getitem__', '__getnewargs__', '__getstate__', '__gt__', '__hash__', '__init__', '__init_subclass__', '__iter__', '__le__', '__len__', '__lt__', '__match_args__', '__module__', '__mul__', '__ne__', '__new__', '__reduce__', '__reduce_ex__', '__repr__', '__rmul__', '__setattr__', '__sizeof__', '__slots__', '__str__', '__subclasshook__', '_asdict', '_field_defaults', '_fields', '_make', '_replace', 'count', 'index']\n",
      "['EWS_DaysToThreat', 'Index', '_1', '_10', '_11', '_12', '_13', '_14', '_15', '_17', '_18', '_19', '_2', '_20', '_21', '_22', '_23', '_24', '_25', '_26', '_27', '_28', '_29', '_3', '_30', '_31', '_32', '_33', '_34', '_35', '_36', '_37', '_38', '_39', '_4', '_40', '_41', '_42', '_43', '_5', '_6', '_7', '_8', '_9', '__add__', '__class__', '__class_getitem__', '__contains__', '__delattr__', '__dir__', '__doc__', '__eq__', '__format__', '__ge__', '__getattribute__', '__getitem__', '__getnewargs__', '__getstate__', '__gt__', '__hash__', '__init__', '__init_subclass__', '__iter__', '__le__', '__len__', '__lt__', '__match_args__', '__module__', '__mul__', '__ne__', '__new__', '__reduce__', '__reduce_ex__', '__repr__', '__rmul__', '__setattr__', '__sizeof__', '__slots__', '__str__', '__subclasshook__', '_asdict', '_field_defaults', '_fields', '_make', '_replace', 'count', 'index']\n",
      "['EWS_DaysToThreat', 'Index', '_1', '_10', '_11', '_12', '_13', '_14', '_15', '_17', '_18', '_19', '_2', '_20', '_21', '_22', '_23', '_24', '_25', '_26', '_27', '_28', '_29', '_3', '_30', '_31', '_32', '_33', '_34', '_35', '_36', '_37', '_38', '_39', '_4', '_40', '_41', '_42', '_43', '_5', '_6', '_7', '_8', '_9', '__add__', '__class__', '__class_getitem__', '__contains__', '__delattr__', '__dir__', '__doc__', '__eq__', '__format__', '__ge__', '__getattribute__', '__getitem__', '__getnewargs__', '__getstate__', '__gt__', '__hash__', '__init__', '__init_subclass__', '__iter__', '__le__', '__len__', '__lt__', '__match_args__', '__module__', '__mul__', '__ne__', '__new__', '__reduce__', '__reduce_ex__', '__repr__', '__rmul__', '__setattr__', '__sizeof__', '__slots__', '__str__', '__subclasshook__', '_asdict', '_field_defaults', '_fields', '_make', '_replace', 'count', 'index']\n",
      "['EWS_DaysToThreat', 'Index', '_1', '_10', '_11', '_12', '_13', '_14', '_15', '_17', '_18', '_19', '_2', '_20', '_21', '_22', '_23', '_24', '_25', '_26', '_27', '_28', '_29', '_3', '_30', '_31', '_32', '_33', '_34', '_35', '_36', '_37', '_38', '_39', '_4', '_40', '_41', '_42', '_43', '_5', '_6', '_7', '_8', '_9', '__add__', '__class__', '__class_getitem__', '__contains__', '__delattr__', '__dir__', '__doc__', '__eq__', '__format__', '__ge__', '__getattribute__', '__getitem__', '__getnewargs__', '__getstate__', '__gt__', '__hash__', '__init__', '__init_subclass__', '__iter__', '__le__', '__len__', '__lt__', '__match_args__', '__module__', '__mul__', '__ne__', '__new__', '__reduce__', '__reduce_ex__', '__repr__', '__rmul__', '__setattr__', '__sizeof__', '__slots__', '__str__', '__subclasshook__', '_asdict', '_field_defaults', '_fields', '_make', '_replace', 'count', 'index']\n",
      "['EWS_DaysToThreat', 'Index', '_1', '_10', '_11', '_12', '_13', '_14', '_15', '_17', '_18', '_19', '_2', '_20', '_21', '_22', '_23', '_24', '_25', '_26', '_27', '_28', '_29', '_3', '_30', '_31', '_32', '_33', '_34', '_35', '_36', '_37', '_38', '_39', '_4', '_40', '_41', '_42', '_43', '_5', '_6', '_7', '_8', '_9', '__add__', '__class__', '__class_getitem__', '__contains__', '__delattr__', '__dir__', '__doc__', '__eq__', '__format__', '__ge__', '__getattribute__', '__getitem__', '__getnewargs__', '__getstate__', '__gt__', '__hash__', '__init__', '__init_subclass__', '__iter__', '__le__', '__len__', '__lt__', '__match_args__', '__module__', '__mul__', '__ne__', '__new__', '__reduce__', '__reduce_ex__', '__repr__', '__rmul__', '__setattr__', '__sizeof__', '__slots__', '__str__', '__subclasshook__', '_asdict', '_field_defaults', '_fields', '_make', '_replace', 'count', 'index']\n",
      "['EWS_DaysToThreat', 'Index', '_1', '_10', '_11', '_12', '_13', '_14', '_15', '_17', '_18', '_19', '_2', '_20', '_21', '_22', '_23', '_24', '_25', '_26', '_27', '_28', '_29', '_3', '_30', '_31', '_32', '_33', '_34', '_35', '_36', '_37', '_38', '_39', '_4', '_40', '_41', '_42', '_43', '_5', '_6', '_7', '_8', '_9', '__add__', '__class__', '__class_getitem__', '__contains__', '__delattr__', '__dir__', '__doc__', '__eq__', '__format__', '__ge__', '__getattribute__', '__getitem__', '__getnewargs__', '__getstate__', '__gt__', '__hash__', '__init__', '__init_subclass__', '__iter__', '__le__', '__len__', '__lt__', '__match_args__', '__module__', '__mul__', '__ne__', '__new__', '__reduce__', '__reduce_ex__', '__repr__', '__rmul__', '__setattr__', '__sizeof__', '__slots__', '__str__', '__subclasshook__', '_asdict', '_field_defaults', '_fields', '_make', '_replace', 'count', 'index']\n",
      "['EWS_DaysToThreat', 'Index', '_1', '_10', '_11', '_12', '_13', '_14', '_15', '_17', '_18', '_19', '_2', '_20', '_21', '_22', '_23', '_24', '_25', '_26', '_27', '_28', '_29', '_3', '_30', '_31', '_32', '_33', '_34', '_35', '_36', '_37', '_38', '_39', '_4', '_40', '_41', '_42', '_43', '_5', '_6', '_7', '_8', '_9', '__add__', '__class__', '__class_getitem__', '__contains__', '__delattr__', '__dir__', '__doc__', '__eq__', '__format__', '__ge__', '__getattribute__', '__getitem__', '__getnewargs__', '__getstate__', '__gt__', '__hash__', '__init__', '__init_subclass__', '__iter__', '__le__', '__len__', '__lt__', '__match_args__', '__module__', '__mul__', '__ne__', '__new__', '__reduce__', '__reduce_ex__', '__repr__', '__rmul__', '__setattr__', '__sizeof__', '__slots__', '__str__', '__subclasshook__', '_asdict', '_field_defaults', '_fields', '_make', '_replace', 'count', 'index']\n",
      "['EWS_DaysToThreat', 'Index', '_1', '_10', '_11', '_12', '_13', '_14', '_15', '_17', '_18', '_19', '_2', '_20', '_21', '_22', '_23', '_24', '_25', '_26', '_27', '_28', '_29', '_3', '_30', '_31', '_32', '_33', '_34', '_35', '_36', '_37', '_38', '_39', '_4', '_40', '_41', '_42', '_43', '_5', '_6', '_7', '_8', '_9', '__add__', '__class__', '__class_getitem__', '__contains__', '__delattr__', '__dir__', '__doc__', '__eq__', '__format__', '__ge__', '__getattribute__', '__getitem__', '__getnewargs__', '__getstate__', '__gt__', '__hash__', '__init__', '__init_subclass__', '__iter__', '__le__', '__len__', '__lt__', '__match_args__', '__module__', '__mul__', '__ne__', '__new__', '__reduce__', '__reduce_ex__', '__repr__', '__rmul__', '__setattr__', '__sizeof__', '__slots__', '__str__', '__subclasshook__', '_asdict', '_field_defaults', '_fields', '_make', '_replace', 'count', 'index']\n",
      "['EWS_DaysToThreat', 'Index', '_1', '_10', '_11', '_12', '_13', '_14', '_15', '_17', '_18', '_19', '_2', '_20', '_21', '_22', '_23', '_24', '_25', '_26', '_27', '_28', '_29', '_3', '_30', '_31', '_32', '_33', '_34', '_35', '_36', '_37', '_38', '_39', '_4', '_40', '_41', '_42', '_43', '_5', '_6', '_7', '_8', '_9', '__add__', '__class__', '__class_getitem__', '__contains__', '__delattr__', '__dir__', '__doc__', '__eq__', '__format__', '__ge__', '__getattribute__', '__getitem__', '__getnewargs__', '__getstate__', '__gt__', '__hash__', '__init__', '__init_subclass__', '__iter__', '__le__', '__len__', '__lt__', '__match_args__', '__module__', '__mul__', '__ne__', '__new__', '__reduce__', '__reduce_ex__', '__repr__', '__rmul__', '__setattr__', '__sizeof__', '__slots__', '__str__', '__subclasshook__', '_asdict', '_field_defaults', '_fields', '_make', '_replace', 'count', 'index']\n",
      "['EWS_DaysToThreat', 'Index', '_1', '_10', '_11', '_12', '_13', '_14', '_15', '_17', '_18', '_19', '_2', '_20', '_21', '_22', '_23', '_24', '_25', '_26', '_27', '_28', '_29', '_3', '_30', '_31', '_32', '_33', '_34', '_35', '_36', '_37', '_38', '_39', '_4', '_40', '_41', '_42', '_43', '_5', '_6', '_7', '_8', '_9', '__add__', '__class__', '__class_getitem__', '__contains__', '__delattr__', '__dir__', '__doc__', '__eq__', '__format__', '__ge__', '__getattribute__', '__getitem__', '__getnewargs__', '__getstate__', '__gt__', '__hash__', '__init__', '__init_subclass__', '__iter__', '__le__', '__len__', '__lt__', '__match_args__', '__module__', '__mul__', '__ne__', '__new__', '__reduce__', '__reduce_ex__', '__repr__', '__rmul__', '__setattr__', '__sizeof__', '__slots__', '__str__', '__subclasshook__', '_asdict', '_field_defaults', '_fields', '_make', '_replace', 'count', 'index']\n",
      "['EWS_DaysToThreat', 'Index', '_1', '_10', '_11', '_12', '_13', '_14', '_15', '_17', '_18', '_19', '_2', '_20', '_21', '_22', '_23', '_24', '_25', '_26', '_27', '_28', '_29', '_3', '_30', '_31', '_32', '_33', '_34', '_35', '_36', '_37', '_38', '_39', '_4', '_40', '_41', '_42', '_43', '_5', '_6', '_7', '_8', '_9', '__add__', '__class__', '__class_getitem__', '__contains__', '__delattr__', '__dir__', '__doc__', '__eq__', '__format__', '__ge__', '__getattribute__', '__getitem__', '__getnewargs__', '__getstate__', '__gt__', '__hash__', '__init__', '__init_subclass__', '__iter__', '__le__', '__len__', '__lt__', '__match_args__', '__module__', '__mul__', '__ne__', '__new__', '__reduce__', '__reduce_ex__', '__repr__', '__rmul__', '__setattr__', '__sizeof__', '__slots__', '__str__', '__subclasshook__', '_asdict', '_field_defaults', '_fields', '_make', '_replace', 'count', 'index']\n",
      "['EWS_DaysToThreat', 'Index', '_1', '_10', '_11', '_12', '_13', '_14', '_15', '_17', '_18', '_19', '_2', '_20', '_21', '_22', '_23', '_24', '_25', '_26', '_27', '_28', '_29', '_3', '_30', '_31', '_32', '_33', '_34', '_35', '_36', '_37', '_38', '_39', '_4', '_40', '_41', '_42', '_43', '_5', '_6', '_7', '_8', '_9', '__add__', '__class__', '__class_getitem__', '__contains__', '__delattr__', '__dir__', '__doc__', '__eq__', '__format__', '__ge__', '__getattribute__', '__getitem__', '__getnewargs__', '__getstate__', '__gt__', '__hash__', '__init__', '__init_subclass__', '__iter__', '__le__', '__len__', '__lt__', '__match_args__', '__module__', '__mul__', '__ne__', '__new__', '__reduce__', '__reduce_ex__', '__repr__', '__rmul__', '__setattr__', '__sizeof__', '__slots__', '__str__', '__subclasshook__', '_asdict', '_field_defaults', '_fields', '_make', '_replace', 'count', 'index']\n",
      "['EWS_DaysToThreat', 'Index', '_1', '_10', '_11', '_12', '_13', '_14', '_15', '_17', '_18', '_19', '_2', '_20', '_21', '_22', '_23', '_24', '_25', '_26', '_27', '_28', '_29', '_3', '_30', '_31', '_32', '_33', '_34', '_35', '_36', '_37', '_38', '_39', '_4', '_40', '_41', '_42', '_43', '_5', '_6', '_7', '_8', '_9', '__add__', '__class__', '__class_getitem__', '__contains__', '__delattr__', '__dir__', '__doc__', '__eq__', '__format__', '__ge__', '__getattribute__', '__getitem__', '__getnewargs__', '__getstate__', '__gt__', '__hash__', '__init__', '__init_subclass__', '__iter__', '__le__', '__len__', '__lt__', '__match_args__', '__module__', '__mul__', '__ne__', '__new__', '__reduce__', '__reduce_ex__', '__repr__', '__rmul__', '__setattr__', '__sizeof__', '__slots__', '__str__', '__subclasshook__', '_asdict', '_field_defaults', '_fields', '_make', '_replace', 'count', 'index']\n",
      "['EWS_DaysToThreat', 'Index', '_1', '_10', '_11', '_12', '_13', '_14', '_15', '_17', '_18', '_19', '_2', '_20', '_21', '_22', '_23', '_24', '_25', '_26', '_27', '_28', '_29', '_3', '_30', '_31', '_32', '_33', '_34', '_35', '_36', '_37', '_38', '_39', '_4', '_40', '_41', '_42', '_43', '_5', '_6', '_7', '_8', '_9', '__add__', '__class__', '__class_getitem__', '__contains__', '__delattr__', '__dir__', '__doc__', '__eq__', '__format__', '__ge__', '__getattribute__', '__getitem__', '__getnewargs__', '__getstate__', '__gt__', '__hash__', '__init__', '__init_subclass__', '__iter__', '__le__', '__len__', '__lt__', '__match_args__', '__module__', '__mul__', '__ne__', '__new__', '__reduce__', '__reduce_ex__', '__repr__', '__rmul__', '__setattr__', '__sizeof__', '__slots__', '__str__', '__subclasshook__', '_asdict', '_field_defaults', '_fields', '_make', '_replace', 'count', 'index']\n",
      "['EWS_DaysToThreat', 'Index', '_1', '_10', '_11', '_12', '_13', '_14', '_15', '_17', '_18', '_19', '_2', '_20', '_21', '_22', '_23', '_24', '_25', '_26', '_27', '_28', '_29', '_3', '_30', '_31', '_32', '_33', '_34', '_35', '_36', '_37', '_38', '_39', '_4', '_40', '_41', '_42', '_43', '_5', '_6', '_7', '_8', '_9', '__add__', '__class__', '__class_getitem__', '__contains__', '__delattr__', '__dir__', '__doc__', '__eq__', '__format__', '__ge__', '__getattribute__', '__getitem__', '__getnewargs__', '__getstate__', '__gt__', '__hash__', '__init__', '__init_subclass__', '__iter__', '__le__', '__len__', '__lt__', '__match_args__', '__module__', '__mul__', '__ne__', '__new__', '__reduce__', '__reduce_ex__', '__repr__', '__rmul__', '__setattr__', '__sizeof__', '__slots__', '__str__', '__subclasshook__', '_asdict', '_field_defaults', '_fields', '_make', '_replace', 'count', 'index']\n",
      "['EWS_DaysToThreat', 'Index', '_1', '_10', '_11', '_12', '_13', '_14', '_15', '_17', '_18', '_19', '_2', '_20', '_21', '_22', '_23', '_24', '_25', '_26', '_27', '_28', '_29', '_3', '_30', '_31', '_32', '_33', '_34', '_35', '_36', '_37', '_38', '_39', '_4', '_40', '_41', '_42', '_43', '_5', '_6', '_7', '_8', '_9', '__add__', '__class__', '__class_getitem__', '__contains__', '__delattr__', '__dir__', '__doc__', '__eq__', '__format__', '__ge__', '__getattribute__', '__getitem__', '__getnewargs__', '__getstate__', '__gt__', '__hash__', '__init__', '__init_subclass__', '__iter__', '__le__', '__len__', '__lt__', '__match_args__', '__module__', '__mul__', '__ne__', '__new__', '__reduce__', '__reduce_ex__', '__repr__', '__rmul__', '__setattr__', '__sizeof__', '__slots__', '__str__', '__subclasshook__', '_asdict', '_field_defaults', '_fields', '_make', '_replace', 'count', 'index']\n",
      "['EWS_DaysToThreat', 'Index', '_1', '_10', '_11', '_12', '_13', '_14', '_15', '_17', '_18', '_19', '_2', '_20', '_21', '_22', '_23', '_24', '_25', '_26', '_27', '_28', '_29', '_3', '_30', '_31', '_32', '_33', '_34', '_35', '_36', '_37', '_38', '_39', '_4', '_40', '_41', '_42', '_43', '_5', '_6', '_7', '_8', '_9', '__add__', '__class__', '__class_getitem__', '__contains__', '__delattr__', '__dir__', '__doc__', '__eq__', '__format__', '__ge__', '__getattribute__', '__getitem__', '__getnewargs__', '__getstate__', '__gt__', '__hash__', '__init__', '__init_subclass__', '__iter__', '__le__', '__len__', '__lt__', '__match_args__', '__module__', '__mul__', '__ne__', '__new__', '__reduce__', '__reduce_ex__', '__repr__', '__rmul__', '__setattr__', '__sizeof__', '__slots__', '__str__', '__subclasshook__', '_asdict', '_field_defaults', '_fields', '_make', '_replace', 'count', 'index']\n",
      "['EWS_DaysToThreat', 'Index', '_1', '_10', '_11', '_12', '_13', '_14', '_15', '_17', '_18', '_19', '_2', '_20', '_21', '_22', '_23', '_24', '_25', '_26', '_27', '_28', '_29', '_3', '_30', '_31', '_32', '_33', '_34', '_35', '_36', '_37', '_38', '_39', '_4', '_40', '_41', '_42', '_43', '_5', '_6', '_7', '_8', '_9', '__add__', '__class__', '__class_getitem__', '__contains__', '__delattr__', '__dir__', '__doc__', '__eq__', '__format__', '__ge__', '__getattribute__', '__getitem__', '__getnewargs__', '__getstate__', '__gt__', '__hash__', '__init__', '__init_subclass__', '__iter__', '__le__', '__len__', '__lt__', '__match_args__', '__module__', '__mul__', '__ne__', '__new__', '__reduce__', '__reduce_ex__', '__repr__', '__rmul__', '__setattr__', '__sizeof__', '__slots__', '__str__', '__subclasshook__', '_asdict', '_field_defaults', '_fields', '_make', '_replace', 'count', 'index']\n",
      "['EWS_DaysToThreat', 'Index', '_1', '_10', '_11', '_12', '_13', '_14', '_15', '_17', '_18', '_19', '_2', '_20', '_21', '_22', '_23', '_24', '_25', '_26', '_27', '_28', '_29', '_3', '_30', '_31', '_32', '_33', '_34', '_35', '_36', '_37', '_38', '_39', '_4', '_40', '_41', '_42', '_43', '_5', '_6', '_7', '_8', '_9', '__add__', '__class__', '__class_getitem__', '__contains__', '__delattr__', '__dir__', '__doc__', '__eq__', '__format__', '__ge__', '__getattribute__', '__getitem__', '__getnewargs__', '__getstate__', '__gt__', '__hash__', '__init__', '__init_subclass__', '__iter__', '__le__', '__len__', '__lt__', '__match_args__', '__module__', '__mul__', '__ne__', '__new__', '__reduce__', '__reduce_ex__', '__repr__', '__rmul__', '__setattr__', '__sizeof__', '__slots__', '__str__', '__subclasshook__', '_asdict', '_field_defaults', '_fields', '_make', '_replace', 'count', 'index']\n",
      "['EWS_DaysToThreat', 'Index', '_1', '_10', '_11', '_12', '_13', '_14', '_15', '_17', '_18', '_19', '_2', '_20', '_21', '_22', '_23', '_24', '_25', '_26', '_27', '_28', '_29', '_3', '_30', '_31', '_32', '_33', '_34', '_35', '_36', '_37', '_38', '_39', '_4', '_40', '_41', '_42', '_43', '_5', '_6', '_7', '_8', '_9', '__add__', '__class__', '__class_getitem__', '__contains__', '__delattr__', '__dir__', '__doc__', '__eq__', '__format__', '__ge__', '__getattribute__', '__getitem__', '__getnewargs__', '__getstate__', '__gt__', '__hash__', '__init__', '__init_subclass__', '__iter__', '__le__', '__len__', '__lt__', '__match_args__', '__module__', '__mul__', '__ne__', '__new__', '__reduce__', '__reduce_ex__', '__repr__', '__rmul__', '__setattr__', '__sizeof__', '__slots__', '__str__', '__subclasshook__', '_asdict', '_field_defaults', '_fields', '_make', '_replace', 'count', 'index']\n",
      "['EWS_DaysToThreat', 'Index', '_1', '_10', '_11', '_12', '_13', '_14', '_15', '_17', '_18', '_19', '_2', '_20', '_21', '_22', '_23', '_24', '_25', '_26', '_27', '_28', '_29', '_3', '_30', '_31', '_32', '_33', '_34', '_35', '_36', '_37', '_38', '_39', '_4', '_40', '_41', '_42', '_43', '_5', '_6', '_7', '_8', '_9', '__add__', '__class__', '__class_getitem__', '__contains__', '__delattr__', '__dir__', '__doc__', '__eq__', '__format__', '__ge__', '__getattribute__', '__getitem__', '__getnewargs__', '__getstate__', '__gt__', '__hash__', '__init__', '__init_subclass__', '__iter__', '__le__', '__len__', '__lt__', '__match_args__', '__module__', '__mul__', '__ne__', '__new__', '__reduce__', '__reduce_ex__', '__repr__', '__rmul__', '__setattr__', '__sizeof__', '__slots__', '__str__', '__subclasshook__', '_asdict', '_field_defaults', '_fields', '_make', '_replace', 'count', 'index']\n",
      "['EWS_DaysToThreat', 'Index', '_1', '_10', '_11', '_12', '_13', '_14', '_15', '_17', '_18', '_19', '_2', '_20', '_21', '_22', '_23', '_24', '_25', '_26', '_27', '_28', '_29', '_3', '_30', '_31', '_32', '_33', '_34', '_35', '_36', '_37', '_38', '_39', '_4', '_40', '_41', '_42', '_43', '_5', '_6', '_7', '_8', '_9', '__add__', '__class__', '__class_getitem__', '__contains__', '__delattr__', '__dir__', '__doc__', '__eq__', '__format__', '__ge__', '__getattribute__', '__getitem__', '__getnewargs__', '__getstate__', '__gt__', '__hash__', '__init__', '__init_subclass__', '__iter__', '__le__', '__len__', '__lt__', '__match_args__', '__module__', '__mul__', '__ne__', '__new__', '__reduce__', '__reduce_ex__', '__repr__', '__rmul__', '__setattr__', '__sizeof__', '__slots__', '__str__', '__subclasshook__', '_asdict', '_field_defaults', '_fields', '_make', '_replace', 'count', 'index']\n",
      "['EWS_DaysToThreat', 'Index', '_1', '_10', '_11', '_12', '_13', '_14', '_15', '_17', '_18', '_19', '_2', '_20', '_21', '_22', '_23', '_24', '_25', '_26', '_27', '_28', '_29', '_3', '_30', '_31', '_32', '_33', '_34', '_35', '_36', '_37', '_38', '_39', '_4', '_40', '_41', '_42', '_43', '_5', '_6', '_7', '_8', '_9', '__add__', '__class__', '__class_getitem__', '__contains__', '__delattr__', '__dir__', '__doc__', '__eq__', '__format__', '__ge__', '__getattribute__', '__getitem__', '__getnewargs__', '__getstate__', '__gt__', '__hash__', '__init__', '__init_subclass__', '__iter__', '__le__', '__len__', '__lt__', '__match_args__', '__module__', '__mul__', '__ne__', '__new__', '__reduce__', '__reduce_ex__', '__repr__', '__rmul__', '__setattr__', '__sizeof__', '__slots__', '__str__', '__subclasshook__', '_asdict', '_field_defaults', '_fields', '_make', '_replace', 'count', 'index']\n",
      "['EWS_DaysToThreat', 'Index', '_1', '_10', '_11', '_12', '_13', '_14', '_15', '_17', '_18', '_19', '_2', '_20', '_21', '_22', '_23', '_24', '_25', '_26', '_27', '_28', '_29', '_3', '_30', '_31', '_32', '_33', '_34', '_35', '_36', '_37', '_38', '_39', '_4', '_40', '_41', '_42', '_43', '_5', '_6', '_7', '_8', '_9', '__add__', '__class__', '__class_getitem__', '__contains__', '__delattr__', '__dir__', '__doc__', '__eq__', '__format__', '__ge__', '__getattribute__', '__getitem__', '__getnewargs__', '__getstate__', '__gt__', '__hash__', '__init__', '__init_subclass__', '__iter__', '__le__', '__len__', '__lt__', '__match_args__', '__module__', '__mul__', '__ne__', '__new__', '__reduce__', '__reduce_ex__', '__repr__', '__rmul__', '__setattr__', '__sizeof__', '__slots__', '__str__', '__subclasshook__', '_asdict', '_field_defaults', '_fields', '_make', '_replace', 'count', 'index']\n",
      "['EWS_DaysToThreat', 'Index', '_1', '_10', '_11', '_12', '_13', '_14', '_15', '_17', '_18', '_19', '_2', '_20', '_21', '_22', '_23', '_24', '_25', '_26', '_27', '_28', '_29', '_3', '_30', '_31', '_32', '_33', '_34', '_35', '_36', '_37', '_38', '_39', '_4', '_40', '_41', '_42', '_43', '_5', '_6', '_7', '_8', '_9', '__add__', '__class__', '__class_getitem__', '__contains__', '__delattr__', '__dir__', '__doc__', '__eq__', '__format__', '__ge__', '__getattribute__', '__getitem__', '__getnewargs__', '__getstate__', '__gt__', '__hash__', '__init__', '__init_subclass__', '__iter__', '__le__', '__len__', '__lt__', '__match_args__', '__module__', '__mul__', '__ne__', '__new__', '__reduce__', '__reduce_ex__', '__repr__', '__rmul__', '__setattr__', '__sizeof__', '__slots__', '__str__', '__subclasshook__', '_asdict', '_field_defaults', '_fields', '_make', '_replace', 'count', 'index']\n",
      "['EWS_DaysToThreat', 'Index', '_1', '_10', '_11', '_12', '_13', '_14', '_15', '_17', '_18', '_19', '_2', '_20', '_21', '_22', '_23', '_24', '_25', '_26', '_27', '_28', '_29', '_3', '_30', '_31', '_32', '_33', '_34', '_35', '_36', '_37', '_38', '_39', '_4', '_40', '_41', '_42', '_43', '_5', '_6', '_7', '_8', '_9', '__add__', '__class__', '__class_getitem__', '__contains__', '__delattr__', '__dir__', '__doc__', '__eq__', '__format__', '__ge__', '__getattribute__', '__getitem__', '__getnewargs__', '__getstate__', '__gt__', '__hash__', '__init__', '__init_subclass__', '__iter__', '__le__', '__len__', '__lt__', '__match_args__', '__module__', '__mul__', '__ne__', '__new__', '__reduce__', '__reduce_ex__', '__repr__', '__rmul__', '__setattr__', '__sizeof__', '__slots__', '__str__', '__subclasshook__', '_asdict', '_field_defaults', '_fields', '_make', '_replace', 'count', 'index']\n",
      "['EWS_DaysToThreat', 'Index', '_1', '_10', '_11', '_12', '_13', '_14', '_15', '_17', '_18', '_19', '_2', '_20', '_21', '_22', '_23', '_24', '_25', '_26', '_27', '_28', '_29', '_3', '_30', '_31', '_32', '_33', '_34', '_35', '_36', '_37', '_38', '_39', '_4', '_40', '_41', '_42', '_43', '_5', '_6', '_7', '_8', '_9', '__add__', '__class__', '__class_getitem__', '__contains__', '__delattr__', '__dir__', '__doc__', '__eq__', '__format__', '__ge__', '__getattribute__', '__getitem__', '__getnewargs__', '__getstate__', '__gt__', '__hash__', '__init__', '__init_subclass__', '__iter__', '__le__', '__len__', '__lt__', '__match_args__', '__module__', '__mul__', '__ne__', '__new__', '__reduce__', '__reduce_ex__', '__repr__', '__rmul__', '__setattr__', '__sizeof__', '__slots__', '__str__', '__subclasshook__', '_asdict', '_field_defaults', '_fields', '_make', '_replace', 'count', 'index']\n",
      "['EWS_DaysToThreat', 'Index', '_1', '_10', '_11', '_12', '_13', '_14', '_15', '_17', '_18', '_19', '_2', '_20', '_21', '_22', '_23', '_24', '_25', '_26', '_27', '_28', '_29', '_3', '_30', '_31', '_32', '_33', '_34', '_35', '_36', '_37', '_38', '_39', '_4', '_40', '_41', '_42', '_43', '_5', '_6', '_7', '_8', '_9', '__add__', '__class__', '__class_getitem__', '__contains__', '__delattr__', '__dir__', '__doc__', '__eq__', '__format__', '__ge__', '__getattribute__', '__getitem__', '__getnewargs__', '__getstate__', '__gt__', '__hash__', '__init__', '__init_subclass__', '__iter__', '__le__', '__len__', '__lt__', '__match_args__', '__module__', '__mul__', '__ne__', '__new__', '__reduce__', '__reduce_ex__', '__repr__', '__rmul__', '__setattr__', '__sizeof__', '__slots__', '__str__', '__subclasshook__', '_asdict', '_field_defaults', '_fields', '_make', '_replace', 'count', 'index']\n",
      "['EWS_DaysToThreat', 'Index', '_1', '_10', '_11', '_12', '_13', '_14', '_15', '_17', '_18', '_19', '_2', '_20', '_21', '_22', '_23', '_24', '_25', '_26', '_27', '_28', '_29', '_3', '_30', '_31', '_32', '_33', '_34', '_35', '_36', '_37', '_38', '_39', '_4', '_40', '_41', '_42', '_43', '_5', '_6', '_7', '_8', '_9', '__add__', '__class__', '__class_getitem__', '__contains__', '__delattr__', '__dir__', '__doc__', '__eq__', '__format__', '__ge__', '__getattribute__', '__getitem__', '__getnewargs__', '__getstate__', '__gt__', '__hash__', '__init__', '__init_subclass__', '__iter__', '__le__', '__len__', '__lt__', '__match_args__', '__module__', '__mul__', '__ne__', '__new__', '__reduce__', '__reduce_ex__', '__repr__', '__rmul__', '__setattr__', '__sizeof__', '__slots__', '__str__', '__subclasshook__', '_asdict', '_field_defaults', '_fields', '_make', '_replace', 'count', 'index']\n",
      "['EWS_DaysToThreat', 'Index', '_1', '_10', '_11', '_12', '_13', '_14', '_15', '_17', '_18', '_19', '_2', '_20', '_21', '_22', '_23', '_24', '_25', '_26', '_27', '_28', '_29', '_3', '_30', '_31', '_32', '_33', '_34', '_35', '_36', '_37', '_38', '_39', '_4', '_40', '_41', '_42', '_43', '_5', '_6', '_7', '_8', '_9', '__add__', '__class__', '__class_getitem__', '__contains__', '__delattr__', '__dir__', '__doc__', '__eq__', '__format__', '__ge__', '__getattribute__', '__getitem__', '__getnewargs__', '__getstate__', '__gt__', '__hash__', '__init__', '__init_subclass__', '__iter__', '__le__', '__len__', '__lt__', '__match_args__', '__module__', '__mul__', '__ne__', '__new__', '__reduce__', '__reduce_ex__', '__repr__', '__rmul__', '__setattr__', '__sizeof__', '__slots__', '__str__', '__subclasshook__', '_asdict', '_field_defaults', '_fields', '_make', '_replace', 'count', 'index']\n",
      "['EWS_DaysToThreat', 'Index', '_1', '_10', '_11', '_12', '_13', '_14', '_15', '_17', '_18', '_19', '_2', '_20', '_21', '_22', '_23', '_24', '_25', '_26', '_27', '_28', '_29', '_3', '_30', '_31', '_32', '_33', '_34', '_35', '_36', '_37', '_38', '_39', '_4', '_40', '_41', '_42', '_43', '_5', '_6', '_7', '_8', '_9', '__add__', '__class__', '__class_getitem__', '__contains__', '__delattr__', '__dir__', '__doc__', '__eq__', '__format__', '__ge__', '__getattribute__', '__getitem__', '__getnewargs__', '__getstate__', '__gt__', '__hash__', '__init__', '__init_subclass__', '__iter__', '__le__', '__len__', '__lt__', '__match_args__', '__module__', '__mul__', '__ne__', '__new__', '__reduce__', '__reduce_ex__', '__repr__', '__rmul__', '__setattr__', '__sizeof__', '__slots__', '__str__', '__subclasshook__', '_asdict', '_field_defaults', '_fields', '_make', '_replace', 'count', 'index']\n",
      "['EWS_DaysToThreat', 'Index', '_1', '_10', '_11', '_12', '_13', '_14', '_15', '_17', '_18', '_19', '_2', '_20', '_21', '_22', '_23', '_24', '_25', '_26', '_27', '_28', '_29', '_3', '_30', '_31', '_32', '_33', '_34', '_35', '_36', '_37', '_38', '_39', '_4', '_40', '_41', '_42', '_43', '_5', '_6', '_7', '_8', '_9', '__add__', '__class__', '__class_getitem__', '__contains__', '__delattr__', '__dir__', '__doc__', '__eq__', '__format__', '__ge__', '__getattribute__', '__getitem__', '__getnewargs__', '__getstate__', '__gt__', '__hash__', '__init__', '__init_subclass__', '__iter__', '__le__', '__len__', '__lt__', '__match_args__', '__module__', '__mul__', '__ne__', '__new__', '__reduce__', '__reduce_ex__', '__repr__', '__rmul__', '__setattr__', '__sizeof__', '__slots__', '__str__', '__subclasshook__', '_asdict', '_field_defaults', '_fields', '_make', '_replace', 'count', 'index']\n",
      "['EWS_DaysToThreat', 'Index', '_1', '_10', '_11', '_12', '_13', '_14', '_15', '_17', '_18', '_19', '_2', '_20', '_21', '_22', '_23', '_24', '_25', '_26', '_27', '_28', '_29', '_3', '_30', '_31', '_32', '_33', '_34', '_35', '_36', '_37', '_38', '_39', '_4', '_40', '_41', '_42', '_43', '_5', '_6', '_7', '_8', '_9', '__add__', '__class__', '__class_getitem__', '__contains__', '__delattr__', '__dir__', '__doc__', '__eq__', '__format__', '__ge__', '__getattribute__', '__getitem__', '__getnewargs__', '__getstate__', '__gt__', '__hash__', '__init__', '__init_subclass__', '__iter__', '__le__', '__len__', '__lt__', '__match_args__', '__module__', '__mul__', '__ne__', '__new__', '__reduce__', '__reduce_ex__', '__repr__', '__rmul__', '__setattr__', '__sizeof__', '__slots__', '__str__', '__subclasshook__', '_asdict', '_field_defaults', '_fields', '_make', '_replace', 'count', 'index']\n",
      "['EWS_DaysToThreat', 'Index', '_1', '_10', '_11', '_12', '_13', '_14', '_15', '_17', '_18', '_19', '_2', '_20', '_21', '_22', '_23', '_24', '_25', '_26', '_27', '_28', '_29', '_3', '_30', '_31', '_32', '_33', '_34', '_35', '_36', '_37', '_38', '_39', '_4', '_40', '_41', '_42', '_43', '_5', '_6', '_7', '_8', '_9', '__add__', '__class__', '__class_getitem__', '__contains__', '__delattr__', '__dir__', '__doc__', '__eq__', '__format__', '__ge__', '__getattribute__', '__getitem__', '__getnewargs__', '__getstate__', '__gt__', '__hash__', '__init__', '__init_subclass__', '__iter__', '__le__', '__len__', '__lt__', '__match_args__', '__module__', '__mul__', '__ne__', '__new__', '__reduce__', '__reduce_ex__', '__repr__', '__rmul__', '__setattr__', '__sizeof__', '__slots__', '__str__', '__subclasshook__', '_asdict', '_field_defaults', '_fields', '_make', '_replace', 'count', 'index']\n",
      "['EWS_DaysToThreat', 'Index', '_1', '_10', '_11', '_12', '_13', '_14', '_15', '_17', '_18', '_19', '_2', '_20', '_21', '_22', '_23', '_24', '_25', '_26', '_27', '_28', '_29', '_3', '_30', '_31', '_32', '_33', '_34', '_35', '_36', '_37', '_38', '_39', '_4', '_40', '_41', '_42', '_43', '_5', '_6', '_7', '_8', '_9', '__add__', '__class__', '__class_getitem__', '__contains__', '__delattr__', '__dir__', '__doc__', '__eq__', '__format__', '__ge__', '__getattribute__', '__getitem__', '__getnewargs__', '__getstate__', '__gt__', '__hash__', '__init__', '__init_subclass__', '__iter__', '__le__', '__len__', '__lt__', '__match_args__', '__module__', '__mul__', '__ne__', '__new__', '__reduce__', '__reduce_ex__', '__repr__', '__rmul__', '__setattr__', '__sizeof__', '__slots__', '__str__', '__subclasshook__', '_asdict', '_field_defaults', '_fields', '_make', '_replace', 'count', 'index']\n",
      "['EWS_DaysToThreat', 'Index', '_1', '_10', '_11', '_12', '_13', '_14', '_15', '_17', '_18', '_19', '_2', '_20', '_21', '_22', '_23', '_24', '_25', '_26', '_27', '_28', '_29', '_3', '_30', '_31', '_32', '_33', '_34', '_35', '_36', '_37', '_38', '_39', '_4', '_40', '_41', '_42', '_43', '_5', '_6', '_7', '_8', '_9', '__add__', '__class__', '__class_getitem__', '__contains__', '__delattr__', '__dir__', '__doc__', '__eq__', '__format__', '__ge__', '__getattribute__', '__getitem__', '__getnewargs__', '__getstate__', '__gt__', '__hash__', '__init__', '__init_subclass__', '__iter__', '__le__', '__len__', '__lt__', '__match_args__', '__module__', '__mul__', '__ne__', '__new__', '__reduce__', '__reduce_ex__', '__repr__', '__rmul__', '__setattr__', '__sizeof__', '__slots__', '__str__', '__subclasshook__', '_asdict', '_field_defaults', '_fields', '_make', '_replace', 'count', 'index']\n",
      "['EWS_DaysToThreat', 'Index', '_1', '_10', '_11', '_12', '_13', '_14', '_15', '_17', '_18', '_19', '_2', '_20', '_21', '_22', '_23', '_24', '_25', '_26', '_27', '_28', '_29', '_3', '_30', '_31', '_32', '_33', '_34', '_35', '_36', '_37', '_38', '_39', '_4', '_40', '_41', '_42', '_43', '_5', '_6', '_7', '_8', '_9', '__add__', '__class__', '__class_getitem__', '__contains__', '__delattr__', '__dir__', '__doc__', '__eq__', '__format__', '__ge__', '__getattribute__', '__getitem__', '__getnewargs__', '__getstate__', '__gt__', '__hash__', '__init__', '__init_subclass__', '__iter__', '__le__', '__len__', '__lt__', '__match_args__', '__module__', '__mul__', '__ne__', '__new__', '__reduce__', '__reduce_ex__', '__repr__', '__rmul__', '__setattr__', '__sizeof__', '__slots__', '__str__', '__subclasshook__', '_asdict', '_field_defaults', '_fields', '_make', '_replace', 'count', 'index']\n",
      "['EWS_DaysToThreat', 'Index', '_1', '_10', '_11', '_12', '_13', '_14', '_15', '_17', '_18', '_19', '_2', '_20', '_21', '_22', '_23', '_24', '_25', '_26', '_27', '_28', '_29', '_3', '_30', '_31', '_32', '_33', '_34', '_35', '_36', '_37', '_38', '_39', '_4', '_40', '_41', '_42', '_43', '_5', '_6', '_7', '_8', '_9', '__add__', '__class__', '__class_getitem__', '__contains__', '__delattr__', '__dir__', '__doc__', '__eq__', '__format__', '__ge__', '__getattribute__', '__getitem__', '__getnewargs__', '__getstate__', '__gt__', '__hash__', '__init__', '__init_subclass__', '__iter__', '__le__', '__len__', '__lt__', '__match_args__', '__module__', '__mul__', '__ne__', '__new__', '__reduce__', '__reduce_ex__', '__repr__', '__rmul__', '__setattr__', '__sizeof__', '__slots__', '__str__', '__subclasshook__', '_asdict', '_field_defaults', '_fields', '_make', '_replace', 'count', 'index']\n",
      "['EWS_DaysToThreat', 'Index', '_1', '_10', '_11', '_12', '_13', '_14', '_15', '_17', '_18', '_19', '_2', '_20', '_21', '_22', '_23', '_24', '_25', '_26', '_27', '_28', '_29', '_3', '_30', '_31', '_32', '_33', '_34', '_35', '_36', '_37', '_38', '_39', '_4', '_40', '_41', '_42', '_43', '_5', '_6', '_7', '_8', '_9', '__add__', '__class__', '__class_getitem__', '__contains__', '__delattr__', '__dir__', '__doc__', '__eq__', '__format__', '__ge__', '__getattribute__', '__getitem__', '__getnewargs__', '__getstate__', '__gt__', '__hash__', '__init__', '__init_subclass__', '__iter__', '__le__', '__len__', '__lt__', '__match_args__', '__module__', '__mul__', '__ne__', '__new__', '__reduce__', '__reduce_ex__', '__repr__', '__rmul__', '__setattr__', '__sizeof__', '__slots__', '__str__', '__subclasshook__', '_asdict', '_field_defaults', '_fields', '_make', '_replace', 'count', 'index']\n",
      "['EWS_DaysToThreat', 'Index', '_1', '_10', '_11', '_12', '_13', '_14', '_15', '_17', '_18', '_19', '_2', '_20', '_21', '_22', '_23', '_24', '_25', '_26', '_27', '_28', '_29', '_3', '_30', '_31', '_32', '_33', '_34', '_35', '_36', '_37', '_38', '_39', '_4', '_40', '_41', '_42', '_43', '_5', '_6', '_7', '_8', '_9', '__add__', '__class__', '__class_getitem__', '__contains__', '__delattr__', '__dir__', '__doc__', '__eq__', '__format__', '__ge__', '__getattribute__', '__getitem__', '__getnewargs__', '__getstate__', '__gt__', '__hash__', '__init__', '__init_subclass__', '__iter__', '__le__', '__len__', '__lt__', '__match_args__', '__module__', '__mul__', '__ne__', '__new__', '__reduce__', '__reduce_ex__', '__repr__', '__rmul__', '__setattr__', '__sizeof__', '__slots__', '__str__', '__subclasshook__', '_asdict', '_field_defaults', '_fields', '_make', '_replace', 'count', 'index']\n",
      "['EWS_DaysToThreat', 'Index', '_1', '_10', '_11', '_12', '_13', '_14', '_15', '_17', '_18', '_19', '_2', '_20', '_21', '_22', '_23', '_24', '_25', '_26', '_27', '_28', '_29', '_3', '_30', '_31', '_32', '_33', '_34', '_35', '_36', '_37', '_38', '_39', '_4', '_40', '_41', '_42', '_43', '_5', '_6', '_7', '_8', '_9', '__add__', '__class__', '__class_getitem__', '__contains__', '__delattr__', '__dir__', '__doc__', '__eq__', '__format__', '__ge__', '__getattribute__', '__getitem__', '__getnewargs__', '__getstate__', '__gt__', '__hash__', '__init__', '__init_subclass__', '__iter__', '__le__', '__len__', '__lt__', '__match_args__', '__module__', '__mul__', '__ne__', '__new__', '__reduce__', '__reduce_ex__', '__repr__', '__rmul__', '__setattr__', '__sizeof__', '__slots__', '__str__', '__subclasshook__', '_asdict', '_field_defaults', '_fields', '_make', '_replace', 'count', 'index']\n",
      "['EWS_DaysToThreat', 'Index', '_1', '_10', '_11', '_12', '_13', '_14', '_15', '_17', '_18', '_19', '_2', '_20', '_21', '_22', '_23', '_24', '_25', '_26', '_27', '_28', '_29', '_3', '_30', '_31', '_32', '_33', '_34', '_35', '_36', '_37', '_38', '_39', '_4', '_40', '_41', '_42', '_43', '_5', '_6', '_7', '_8', '_9', '__add__', '__class__', '__class_getitem__', '__contains__', '__delattr__', '__dir__', '__doc__', '__eq__', '__format__', '__ge__', '__getattribute__', '__getitem__', '__getnewargs__', '__getstate__', '__gt__', '__hash__', '__init__', '__init_subclass__', '__iter__', '__le__', '__len__', '__lt__', '__match_args__', '__module__', '__mul__', '__ne__', '__new__', '__reduce__', '__reduce_ex__', '__repr__', '__rmul__', '__setattr__', '__sizeof__', '__slots__', '__str__', '__subclasshook__', '_asdict', '_field_defaults', '_fields', '_make', '_replace', 'count', 'index']\n",
      "['EWS_DaysToThreat', 'Index', '_1', '_10', '_11', '_12', '_13', '_14', '_15', '_17', '_18', '_19', '_2', '_20', '_21', '_22', '_23', '_24', '_25', '_26', '_27', '_28', '_29', '_3', '_30', '_31', '_32', '_33', '_34', '_35', '_36', '_37', '_38', '_39', '_4', '_40', '_41', '_42', '_43', '_5', '_6', '_7', '_8', '_9', '__add__', '__class__', '__class_getitem__', '__contains__', '__delattr__', '__dir__', '__doc__', '__eq__', '__format__', '__ge__', '__getattribute__', '__getitem__', '__getnewargs__', '__getstate__', '__gt__', '__hash__', '__init__', '__init_subclass__', '__iter__', '__le__', '__len__', '__lt__', '__match_args__', '__module__', '__mul__', '__ne__', '__new__', '__reduce__', '__reduce_ex__', '__repr__', '__rmul__', '__setattr__', '__sizeof__', '__slots__', '__str__', '__subclasshook__', '_asdict', '_field_defaults', '_fields', '_make', '_replace', 'count', 'index']\n",
      "['EWS_DaysToThreat', 'Index', '_1', '_10', '_11', '_12', '_13', '_14', '_15', '_17', '_18', '_19', '_2', '_20', '_21', '_22', '_23', '_24', '_25', '_26', '_27', '_28', '_29', '_3', '_30', '_31', '_32', '_33', '_34', '_35', '_36', '_37', '_38', '_39', '_4', '_40', '_41', '_42', '_43', '_5', '_6', '_7', '_8', '_9', '__add__', '__class__', '__class_getitem__', '__contains__', '__delattr__', '__dir__', '__doc__', '__eq__', '__format__', '__ge__', '__getattribute__', '__getitem__', '__getnewargs__', '__getstate__', '__gt__', '__hash__', '__init__', '__init_subclass__', '__iter__', '__le__', '__len__', '__lt__', '__match_args__', '__module__', '__mul__', '__ne__', '__new__', '__reduce__', '__reduce_ex__', '__repr__', '__rmul__', '__setattr__', '__sizeof__', '__slots__', '__str__', '__subclasshook__', '_asdict', '_field_defaults', '_fields', '_make', '_replace', 'count', 'index']\n",
      "['EWS_DaysToThreat', 'Index', '_1', '_10', '_11', '_12', '_13', '_14', '_15', '_17', '_18', '_19', '_2', '_20', '_21', '_22', '_23', '_24', '_25', '_26', '_27', '_28', '_29', '_3', '_30', '_31', '_32', '_33', '_34', '_35', '_36', '_37', '_38', '_39', '_4', '_40', '_41', '_42', '_43', '_5', '_6', '_7', '_8', '_9', '__add__', '__class__', '__class_getitem__', '__contains__', '__delattr__', '__dir__', '__doc__', '__eq__', '__format__', '__ge__', '__getattribute__', '__getitem__', '__getnewargs__', '__getstate__', '__gt__', '__hash__', '__init__', '__init_subclass__', '__iter__', '__le__', '__len__', '__lt__', '__match_args__', '__module__', '__mul__', '__ne__', '__new__', '__reduce__', '__reduce_ex__', '__repr__', '__rmul__', '__setattr__', '__sizeof__', '__slots__', '__str__', '__subclasshook__', '_asdict', '_field_defaults', '_fields', '_make', '_replace', 'count', 'index']\n",
      "['EWS_DaysToThreat', 'Index', '_1', '_10', '_11', '_12', '_13', '_14', '_15', '_17', '_18', '_19', '_2', '_20', '_21', '_22', '_23', '_24', '_25', '_26', '_27', '_28', '_29', '_3', '_30', '_31', '_32', '_33', '_34', '_35', '_36', '_37', '_38', '_39', '_4', '_40', '_41', '_42', '_43', '_5', '_6', '_7', '_8', '_9', '__add__', '__class__', '__class_getitem__', '__contains__', '__delattr__', '__dir__', '__doc__', '__eq__', '__format__', '__ge__', '__getattribute__', '__getitem__', '__getnewargs__', '__getstate__', '__gt__', '__hash__', '__init__', '__init_subclass__', '__iter__', '__le__', '__len__', '__lt__', '__match_args__', '__module__', '__mul__', '__ne__', '__new__', '__reduce__', '__reduce_ex__', '__repr__', '__rmul__', '__setattr__', '__sizeof__', '__slots__', '__str__', '__subclasshook__', '_asdict', '_field_defaults', '_fields', '_make', '_replace', 'count', 'index']\n",
      "['EWS_DaysToThreat', 'Index', '_1', '_10', '_11', '_12', '_13', '_14', '_15', '_17', '_18', '_19', '_2', '_20', '_21', '_22', '_23', '_24', '_25', '_26', '_27', '_28', '_29', '_3', '_30', '_31', '_32', '_33', '_34', '_35', '_36', '_37', '_38', '_39', '_4', '_40', '_41', '_42', '_43', '_5', '_6', '_7', '_8', '_9', '__add__', '__class__', '__class_getitem__', '__contains__', '__delattr__', '__dir__', '__doc__', '__eq__', '__format__', '__ge__', '__getattribute__', '__getitem__', '__getnewargs__', '__getstate__', '__gt__', '__hash__', '__init__', '__init_subclass__', '__iter__', '__le__', '__len__', '__lt__', '__match_args__', '__module__', '__mul__', '__ne__', '__new__', '__reduce__', '__reduce_ex__', '__repr__', '__rmul__', '__setattr__', '__sizeof__', '__slots__', '__str__', '__subclasshook__', '_asdict', '_field_defaults', '_fields', '_make', '_replace', 'count', 'index']\n",
      "['EWS_DaysToThreat', 'Index', '_1', '_10', '_11', '_12', '_13', '_14', '_15', '_17', '_18', '_19', '_2', '_20', '_21', '_22', '_23', '_24', '_25', '_26', '_27', '_28', '_29', '_3', '_30', '_31', '_32', '_33', '_34', '_35', '_36', '_37', '_38', '_39', '_4', '_40', '_41', '_42', '_43', '_5', '_6', '_7', '_8', '_9', '__add__', '__class__', '__class_getitem__', '__contains__', '__delattr__', '__dir__', '__doc__', '__eq__', '__format__', '__ge__', '__getattribute__', '__getitem__', '__getnewargs__', '__getstate__', '__gt__', '__hash__', '__init__', '__init_subclass__', '__iter__', '__le__', '__len__', '__lt__', '__match_args__', '__module__', '__mul__', '__ne__', '__new__', '__reduce__', '__reduce_ex__', '__repr__', '__rmul__', '__setattr__', '__sizeof__', '__slots__', '__str__', '__subclasshook__', '_asdict', '_field_defaults', '_fields', '_make', '_replace', 'count', 'index']\n",
      "['EWS_DaysToThreat', 'Index', '_1', '_10', '_11', '_12', '_13', '_14', '_15', '_17', '_18', '_19', '_2', '_20', '_21', '_22', '_23', '_24', '_25', '_26', '_27', '_28', '_29', '_3', '_30', '_31', '_32', '_33', '_34', '_35', '_36', '_37', '_38', '_39', '_4', '_40', '_41', '_42', '_43', '_5', '_6', '_7', '_8', '_9', '__add__', '__class__', '__class_getitem__', '__contains__', '__delattr__', '__dir__', '__doc__', '__eq__', '__format__', '__ge__', '__getattribute__', '__getitem__', '__getnewargs__', '__getstate__', '__gt__', '__hash__', '__init__', '__init_subclass__', '__iter__', '__le__', '__len__', '__lt__', '__match_args__', '__module__', '__mul__', '__ne__', '__new__', '__reduce__', '__reduce_ex__', '__repr__', '__rmul__', '__setattr__', '__sizeof__', '__slots__', '__str__', '__subclasshook__', '_asdict', '_field_defaults', '_fields', '_make', '_replace', 'count', 'index']\n",
      "['EWS_DaysToThreat', 'Index', '_1', '_10', '_11', '_12', '_13', '_14', '_15', '_17', '_18', '_19', '_2', '_20', '_21', '_22', '_23', '_24', '_25', '_26', '_27', '_28', '_29', '_3', '_30', '_31', '_32', '_33', '_34', '_35', '_36', '_37', '_38', '_39', '_4', '_40', '_41', '_42', '_43', '_5', '_6', '_7', '_8', '_9', '__add__', '__class__', '__class_getitem__', '__contains__', '__delattr__', '__dir__', '__doc__', '__eq__', '__format__', '__ge__', '__getattribute__', '__getitem__', '__getnewargs__', '__getstate__', '__gt__', '__hash__', '__init__', '__init_subclass__', '__iter__', '__le__', '__len__', '__lt__', '__match_args__', '__module__', '__mul__', '__ne__', '__new__', '__reduce__', '__reduce_ex__', '__repr__', '__rmul__', '__setattr__', '__sizeof__', '__slots__', '__str__', '__subclasshook__', '_asdict', '_field_defaults', '_fields', '_make', '_replace', 'count', 'index']\n",
      "['EWS_DaysToThreat', 'Index', '_1', '_10', '_11', '_12', '_13', '_14', '_15', '_17', '_18', '_19', '_2', '_20', '_21', '_22', '_23', '_24', '_25', '_26', '_27', '_28', '_29', '_3', '_30', '_31', '_32', '_33', '_34', '_35', '_36', '_37', '_38', '_39', '_4', '_40', '_41', '_42', '_43', '_5', '_6', '_7', '_8', '_9', '__add__', '__class__', '__class_getitem__', '__contains__', '__delattr__', '__dir__', '__doc__', '__eq__', '__format__', '__ge__', '__getattribute__', '__getitem__', '__getnewargs__', '__getstate__', '__gt__', '__hash__', '__init__', '__init_subclass__', '__iter__', '__le__', '__len__', '__lt__', '__match_args__', '__module__', '__mul__', '__ne__', '__new__', '__reduce__', '__reduce_ex__', '__repr__', '__rmul__', '__setattr__', '__sizeof__', '__slots__', '__str__', '__subclasshook__', '_asdict', '_field_defaults', '_fields', '_make', '_replace', 'count', 'index']\n",
      "['EWS_DaysToThreat', 'Index', '_1', '_10', '_11', '_12', '_13', '_14', '_15', '_17', '_18', '_19', '_2', '_20', '_21', '_22', '_23', '_24', '_25', '_26', '_27', '_28', '_29', '_3', '_30', '_31', '_32', '_33', '_34', '_35', '_36', '_37', '_38', '_39', '_4', '_40', '_41', '_42', '_43', '_5', '_6', '_7', '_8', '_9', '__add__', '__class__', '__class_getitem__', '__contains__', '__delattr__', '__dir__', '__doc__', '__eq__', '__format__', '__ge__', '__getattribute__', '__getitem__', '__getnewargs__', '__getstate__', '__gt__', '__hash__', '__init__', '__init_subclass__', '__iter__', '__le__', '__len__', '__lt__', '__match_args__', '__module__', '__mul__', '__ne__', '__new__', '__reduce__', '__reduce_ex__', '__repr__', '__rmul__', '__setattr__', '__sizeof__', '__slots__', '__str__', '__subclasshook__', '_asdict', '_field_defaults', '_fields', '_make', '_replace', 'count', 'index']\n",
      "['EWS_DaysToThreat', 'Index', '_1', '_10', '_11', '_12', '_13', '_14', '_15', '_17', '_18', '_19', '_2', '_20', '_21', '_22', '_23', '_24', '_25', '_26', '_27', '_28', '_29', '_3', '_30', '_31', '_32', '_33', '_34', '_35', '_36', '_37', '_38', '_39', '_4', '_40', '_41', '_42', '_43', '_5', '_6', '_7', '_8', '_9', '__add__', '__class__', '__class_getitem__', '__contains__', '__delattr__', '__dir__', '__doc__', '__eq__', '__format__', '__ge__', '__getattribute__', '__getitem__', '__getnewargs__', '__getstate__', '__gt__', '__hash__', '__init__', '__init_subclass__', '__iter__', '__le__', '__len__', '__lt__', '__match_args__', '__module__', '__mul__', '__ne__', '__new__', '__reduce__', '__reduce_ex__', '__repr__', '__rmul__', '__setattr__', '__sizeof__', '__slots__', '__str__', '__subclasshook__', '_asdict', '_field_defaults', '_fields', '_make', '_replace', 'count', 'index']\n",
      "['EWS_DaysToThreat', 'Index', '_1', '_10', '_11', '_12', '_13', '_14', '_15', '_17', '_18', '_19', '_2', '_20', '_21', '_22', '_23', '_24', '_25', '_26', '_27', '_28', '_29', '_3', '_30', '_31', '_32', '_33', '_34', '_35', '_36', '_37', '_38', '_39', '_4', '_40', '_41', '_42', '_43', '_5', '_6', '_7', '_8', '_9', '__add__', '__class__', '__class_getitem__', '__contains__', '__delattr__', '__dir__', '__doc__', '__eq__', '__format__', '__ge__', '__getattribute__', '__getitem__', '__getnewargs__', '__getstate__', '__gt__', '__hash__', '__init__', '__init_subclass__', '__iter__', '__le__', '__len__', '__lt__', '__match_args__', '__module__', '__mul__', '__ne__', '__new__', '__reduce__', '__reduce_ex__', '__repr__', '__rmul__', '__setattr__', '__sizeof__', '__slots__', '__str__', '__subclasshook__', '_asdict', '_field_defaults', '_fields', '_make', '_replace', 'count', 'index']\n",
      "['EWS_DaysToThreat', 'Index', '_1', '_10', '_11', '_12', '_13', '_14', '_15', '_17', '_18', '_19', '_2', '_20', '_21', '_22', '_23', '_24', '_25', '_26', '_27', '_28', '_29', '_3', '_30', '_31', '_32', '_33', '_34', '_35', '_36', '_37', '_38', '_39', '_4', '_40', '_41', '_42', '_43', '_5', '_6', '_7', '_8', '_9', '__add__', '__class__', '__class_getitem__', '__contains__', '__delattr__', '__dir__', '__doc__', '__eq__', '__format__', '__ge__', '__getattribute__', '__getitem__', '__getnewargs__', '__getstate__', '__gt__', '__hash__', '__init__', '__init_subclass__', '__iter__', '__le__', '__len__', '__lt__', '__match_args__', '__module__', '__mul__', '__ne__', '__new__', '__reduce__', '__reduce_ex__', '__repr__', '__rmul__', '__setattr__', '__sizeof__', '__slots__', '__str__', '__subclasshook__', '_asdict', '_field_defaults', '_fields', '_make', '_replace', 'count', 'index']\n",
      "['EWS_DaysToThreat', 'Index', '_1', '_10', '_11', '_12', '_13', '_14', '_15', '_17', '_18', '_19', '_2', '_20', '_21', '_22', '_23', '_24', '_25', '_26', '_27', '_28', '_29', '_3', '_30', '_31', '_32', '_33', '_34', '_35', '_36', '_37', '_38', '_39', '_4', '_40', '_41', '_42', '_43', '_5', '_6', '_7', '_8', '_9', '__add__', '__class__', '__class_getitem__', '__contains__', '__delattr__', '__dir__', '__doc__', '__eq__', '__format__', '__ge__', '__getattribute__', '__getitem__', '__getnewargs__', '__getstate__', '__gt__', '__hash__', '__init__', '__init_subclass__', '__iter__', '__le__', '__len__', '__lt__', '__match_args__', '__module__', '__mul__', '__ne__', '__new__', '__reduce__', '__reduce_ex__', '__repr__', '__rmul__', '__setattr__', '__sizeof__', '__slots__', '__str__', '__subclasshook__', '_asdict', '_field_defaults', '_fields', '_make', '_replace', 'count', 'index']\n",
      "['EWS_DaysToThreat', 'Index', '_1', '_10', '_11', '_12', '_13', '_14', '_15', '_17', '_18', '_19', '_2', '_20', '_21', '_22', '_23', '_24', '_25', '_26', '_27', '_28', '_29', '_3', '_30', '_31', '_32', '_33', '_34', '_35', '_36', '_37', '_38', '_39', '_4', '_40', '_41', '_42', '_43', '_5', '_6', '_7', '_8', '_9', '__add__', '__class__', '__class_getitem__', '__contains__', '__delattr__', '__dir__', '__doc__', '__eq__', '__format__', '__ge__', '__getattribute__', '__getitem__', '__getnewargs__', '__getstate__', '__gt__', '__hash__', '__init__', '__init_subclass__', '__iter__', '__le__', '__len__', '__lt__', '__match_args__', '__module__', '__mul__', '__ne__', '__new__', '__reduce__', '__reduce_ex__', '__repr__', '__rmul__', '__setattr__', '__sizeof__', '__slots__', '__str__', '__subclasshook__', '_asdict', '_field_defaults', '_fields', '_make', '_replace', 'count', 'index']\n",
      "['EWS_DaysToThreat', 'Index', '_1', '_10', '_11', '_12', '_13', '_14', '_15', '_17', '_18', '_19', '_2', '_20', '_21', '_22', '_23', '_24', '_25', '_26', '_27', '_28', '_29', '_3', '_30', '_31', '_32', '_33', '_34', '_35', '_36', '_37', '_38', '_39', '_4', '_40', '_41', '_42', '_43', '_5', '_6', '_7', '_8', '_9', '__add__', '__class__', '__class_getitem__', '__contains__', '__delattr__', '__dir__', '__doc__', '__eq__', '__format__', '__ge__', '__getattribute__', '__getitem__', '__getnewargs__', '__getstate__', '__gt__', '__hash__', '__init__', '__init_subclass__', '__iter__', '__le__', '__len__', '__lt__', '__match_args__', '__module__', '__mul__', '__ne__', '__new__', '__reduce__', '__reduce_ex__', '__repr__', '__rmul__', '__setattr__', '__sizeof__', '__slots__', '__str__', '__subclasshook__', '_asdict', '_field_defaults', '_fields', '_make', '_replace', 'count', 'index']\n",
      "['EWS_DaysToThreat', 'Index', '_1', '_10', '_11', '_12', '_13', '_14', '_15', '_17', '_18', '_19', '_2', '_20', '_21', '_22', '_23', '_24', '_25', '_26', '_27', '_28', '_29', '_3', '_30', '_31', '_32', '_33', '_34', '_35', '_36', '_37', '_38', '_39', '_4', '_40', '_41', '_42', '_43', '_5', '_6', '_7', '_8', '_9', '__add__', '__class__', '__class_getitem__', '__contains__', '__delattr__', '__dir__', '__doc__', '__eq__', '__format__', '__ge__', '__getattribute__', '__getitem__', '__getnewargs__', '__getstate__', '__gt__', '__hash__', '__init__', '__init_subclass__', '__iter__', '__le__', '__len__', '__lt__', '__match_args__', '__module__', '__mul__', '__ne__', '__new__', '__reduce__', '__reduce_ex__', '__repr__', '__rmul__', '__setattr__', '__sizeof__', '__slots__', '__str__', '__subclasshook__', '_asdict', '_field_defaults', '_fields', '_make', '_replace', 'count', 'index']\n",
      "['EWS_DaysToThreat', 'Index', '_1', '_10', '_11', '_12', '_13', '_14', '_15', '_17', '_18', '_19', '_2', '_20', '_21', '_22', '_23', '_24', '_25', '_26', '_27', '_28', '_29', '_3', '_30', '_31', '_32', '_33', '_34', '_35', '_36', '_37', '_38', '_39', '_4', '_40', '_41', '_42', '_43', '_5', '_6', '_7', '_8', '_9', '__add__', '__class__', '__class_getitem__', '__contains__', '__delattr__', '__dir__', '__doc__', '__eq__', '__format__', '__ge__', '__getattribute__', '__getitem__', '__getnewargs__', '__getstate__', '__gt__', '__hash__', '__init__', '__init_subclass__', '__iter__', '__le__', '__len__', '__lt__', '__match_args__', '__module__', '__mul__', '__ne__', '__new__', '__reduce__', '__reduce_ex__', '__repr__', '__rmul__', '__setattr__', '__sizeof__', '__slots__', '__str__', '__subclasshook__', '_asdict', '_field_defaults', '_fields', '_make', '_replace', 'count', 'index']\n",
      "['EWS_DaysToThreat', 'Index', '_1', '_10', '_11', '_12', '_13', '_14', '_15', '_17', '_18', '_19', '_2', '_20', '_21', '_22', '_23', '_24', '_25', '_26', '_27', '_28', '_29', '_3', '_30', '_31', '_32', '_33', '_34', '_35', '_36', '_37', '_38', '_39', '_4', '_40', '_41', '_42', '_43', '_5', '_6', '_7', '_8', '_9', '__add__', '__class__', '__class_getitem__', '__contains__', '__delattr__', '__dir__', '__doc__', '__eq__', '__format__', '__ge__', '__getattribute__', '__getitem__', '__getnewargs__', '__getstate__', '__gt__', '__hash__', '__init__', '__init_subclass__', '__iter__', '__le__', '__len__', '__lt__', '__match_args__', '__module__', '__mul__', '__ne__', '__new__', '__reduce__', '__reduce_ex__', '__repr__', '__rmul__', '__setattr__', '__sizeof__', '__slots__', '__str__', '__subclasshook__', '_asdict', '_field_defaults', '_fields', '_make', '_replace', 'count', 'index']\n",
      "['EWS_DaysToThreat', 'Index', '_1', '_10', '_11', '_12', '_13', '_14', '_15', '_17', '_18', '_19', '_2', '_20', '_21', '_22', '_23', '_24', '_25', '_26', '_27', '_28', '_29', '_3', '_30', '_31', '_32', '_33', '_34', '_35', '_36', '_37', '_38', '_39', '_4', '_40', '_41', '_42', '_43', '_5', '_6', '_7', '_8', '_9', '__add__', '__class__', '__class_getitem__', '__contains__', '__delattr__', '__dir__', '__doc__', '__eq__', '__format__', '__ge__', '__getattribute__', '__getitem__', '__getnewargs__', '__getstate__', '__gt__', '__hash__', '__init__', '__init_subclass__', '__iter__', '__le__', '__len__', '__lt__', '__match_args__', '__module__', '__mul__', '__ne__', '__new__', '__reduce__', '__reduce_ex__', '__repr__', '__rmul__', '__setattr__', '__sizeof__', '__slots__', '__str__', '__subclasshook__', '_asdict', '_field_defaults', '_fields', '_make', '_replace', 'count', 'index']\n",
      "['EWS_DaysToThreat', 'Index', '_1', '_10', '_11', '_12', '_13', '_14', '_15', '_17', '_18', '_19', '_2', '_20', '_21', '_22', '_23', '_24', '_25', '_26', '_27', '_28', '_29', '_3', '_30', '_31', '_32', '_33', '_34', '_35', '_36', '_37', '_38', '_39', '_4', '_40', '_41', '_42', '_43', '_5', '_6', '_7', '_8', '_9', '__add__', '__class__', '__class_getitem__', '__contains__', '__delattr__', '__dir__', '__doc__', '__eq__', '__format__', '__ge__', '__getattribute__', '__getitem__', '__getnewargs__', '__getstate__', '__gt__', '__hash__', '__init__', '__init_subclass__', '__iter__', '__le__', '__len__', '__lt__', '__match_args__', '__module__', '__mul__', '__ne__', '__new__', '__reduce__', '__reduce_ex__', '__repr__', '__rmul__', '__setattr__', '__sizeof__', '__slots__', '__str__', '__subclasshook__', '_asdict', '_field_defaults', '_fields', '_make', '_replace', 'count', 'index']\n",
      "['EWS_DaysToThreat', 'Index', '_1', '_10', '_11', '_12', '_13', '_14', '_15', '_17', '_18', '_19', '_2', '_20', '_21', '_22', '_23', '_24', '_25', '_26', '_27', '_28', '_29', '_3', '_30', '_31', '_32', '_33', '_34', '_35', '_36', '_37', '_38', '_39', '_4', '_40', '_41', '_42', '_43', '_5', '_6', '_7', '_8', '_9', '__add__', '__class__', '__class_getitem__', '__contains__', '__delattr__', '__dir__', '__doc__', '__eq__', '__format__', '__ge__', '__getattribute__', '__getitem__', '__getnewargs__', '__getstate__', '__gt__', '__hash__', '__init__', '__init_subclass__', '__iter__', '__le__', '__len__', '__lt__', '__match_args__', '__module__', '__mul__', '__ne__', '__new__', '__reduce__', '__reduce_ex__', '__repr__', '__rmul__', '__setattr__', '__sizeof__', '__slots__', '__str__', '__subclasshook__', '_asdict', '_field_defaults', '_fields', '_make', '_replace', 'count', 'index']\n",
      "['EWS_DaysToThreat', 'Index', '_1', '_10', '_11', '_12', '_13', '_14', '_15', '_17', '_18', '_19', '_2', '_20', '_21', '_22', '_23', '_24', '_25', '_26', '_27', '_28', '_29', '_3', '_30', '_31', '_32', '_33', '_34', '_35', '_36', '_37', '_38', '_39', '_4', '_40', '_41', '_42', '_43', '_5', '_6', '_7', '_8', '_9', '__add__', '__class__', '__class_getitem__', '__contains__', '__delattr__', '__dir__', '__doc__', '__eq__', '__format__', '__ge__', '__getattribute__', '__getitem__', '__getnewargs__', '__getstate__', '__gt__', '__hash__', '__init__', '__init_subclass__', '__iter__', '__le__', '__len__', '__lt__', '__match_args__', '__module__', '__mul__', '__ne__', '__new__', '__reduce__', '__reduce_ex__', '__repr__', '__rmul__', '__setattr__', '__sizeof__', '__slots__', '__str__', '__subclasshook__', '_asdict', '_field_defaults', '_fields', '_make', '_replace', 'count', 'index']\n",
      "['EWS_DaysToThreat', 'Index', '_1', '_10', '_11', '_12', '_13', '_14', '_15', '_17', '_18', '_19', '_2', '_20', '_21', '_22', '_23', '_24', '_25', '_26', '_27', '_28', '_29', '_3', '_30', '_31', '_32', '_33', '_34', '_35', '_36', '_37', '_38', '_39', '_4', '_40', '_41', '_42', '_43', '_5', '_6', '_7', '_8', '_9', '__add__', '__class__', '__class_getitem__', '__contains__', '__delattr__', '__dir__', '__doc__', '__eq__', '__format__', '__ge__', '__getattribute__', '__getitem__', '__getnewargs__', '__getstate__', '__gt__', '__hash__', '__init__', '__init_subclass__', '__iter__', '__le__', '__len__', '__lt__', '__match_args__', '__module__', '__mul__', '__ne__', '__new__', '__reduce__', '__reduce_ex__', '__repr__', '__rmul__', '__setattr__', '__sizeof__', '__slots__', '__str__', '__subclasshook__', '_asdict', '_field_defaults', '_fields', '_make', '_replace', 'count', 'index']\n",
      "['EWS_DaysToThreat', 'Index', '_1', '_10', '_11', '_12', '_13', '_14', '_15', '_17', '_18', '_19', '_2', '_20', '_21', '_22', '_23', '_24', '_25', '_26', '_27', '_28', '_29', '_3', '_30', '_31', '_32', '_33', '_34', '_35', '_36', '_37', '_38', '_39', '_4', '_40', '_41', '_42', '_43', '_5', '_6', '_7', '_8', '_9', '__add__', '__class__', '__class_getitem__', '__contains__', '__delattr__', '__dir__', '__doc__', '__eq__', '__format__', '__ge__', '__getattribute__', '__getitem__', '__getnewargs__', '__getstate__', '__gt__', '__hash__', '__init__', '__init_subclass__', '__iter__', '__le__', '__len__', '__lt__', '__match_args__', '__module__', '__mul__', '__ne__', '__new__', '__reduce__', '__reduce_ex__', '__repr__', '__rmul__', '__setattr__', '__sizeof__', '__slots__', '__str__', '__subclasshook__', '_asdict', '_field_defaults', '_fields', '_make', '_replace', 'count', 'index']\n",
      "['EWS_DaysToThreat', 'Index', '_1', '_10', '_11', '_12', '_13', '_14', '_15', '_17', '_18', '_19', '_2', '_20', '_21', '_22', '_23', '_24', '_25', '_26', '_27', '_28', '_29', '_3', '_30', '_31', '_32', '_33', '_34', '_35', '_36', '_37', '_38', '_39', '_4', '_40', '_41', '_42', '_43', '_5', '_6', '_7', '_8', '_9', '__add__', '__class__', '__class_getitem__', '__contains__', '__delattr__', '__dir__', '__doc__', '__eq__', '__format__', '__ge__', '__getattribute__', '__getitem__', '__getnewargs__', '__getstate__', '__gt__', '__hash__', '__init__', '__init_subclass__', '__iter__', '__le__', '__len__', '__lt__', '__match_args__', '__module__', '__mul__', '__ne__', '__new__', '__reduce__', '__reduce_ex__', '__repr__', '__rmul__', '__setattr__', '__sizeof__', '__slots__', '__str__', '__subclasshook__', '_asdict', '_field_defaults', '_fields', '_make', '_replace', 'count', 'index']\n",
      "['EWS_DaysToThreat', 'Index', '_1', '_10', '_11', '_12', '_13', '_14', '_15', '_17', '_18', '_19', '_2', '_20', '_21', '_22', '_23', '_24', '_25', '_26', '_27', '_28', '_29', '_3', '_30', '_31', '_32', '_33', '_34', '_35', '_36', '_37', '_38', '_39', '_4', '_40', '_41', '_42', '_43', '_5', '_6', '_7', '_8', '_9', '__add__', '__class__', '__class_getitem__', '__contains__', '__delattr__', '__dir__', '__doc__', '__eq__', '__format__', '__ge__', '__getattribute__', '__getitem__', '__getnewargs__', '__getstate__', '__gt__', '__hash__', '__init__', '__init_subclass__', '__iter__', '__le__', '__len__', '__lt__', '__match_args__', '__module__', '__mul__', '__ne__', '__new__', '__reduce__', '__reduce_ex__', '__repr__', '__rmul__', '__setattr__', '__sizeof__', '__slots__', '__str__', '__subclasshook__', '_asdict', '_field_defaults', '_fields', '_make', '_replace', 'count', 'index']\n",
      "['EWS_DaysToThreat', 'Index', '_1', '_10', '_11', '_12', '_13', '_14', '_15', '_17', '_18', '_19', '_2', '_20', '_21', '_22', '_23', '_24', '_25', '_26', '_27', '_28', '_29', '_3', '_30', '_31', '_32', '_33', '_34', '_35', '_36', '_37', '_38', '_39', '_4', '_40', '_41', '_42', '_43', '_5', '_6', '_7', '_8', '_9', '__add__', '__class__', '__class_getitem__', '__contains__', '__delattr__', '__dir__', '__doc__', '__eq__', '__format__', '__ge__', '__getattribute__', '__getitem__', '__getnewargs__', '__getstate__', '__gt__', '__hash__', '__init__', '__init_subclass__', '__iter__', '__le__', '__len__', '__lt__', '__match_args__', '__module__', '__mul__', '__ne__', '__new__', '__reduce__', '__reduce_ex__', '__repr__', '__rmul__', '__setattr__', '__sizeof__', '__slots__', '__str__', '__subclasshook__', '_asdict', '_field_defaults', '_fields', '_make', '_replace', 'count', 'index']\n",
      "['EWS_DaysToThreat', 'Index', '_1', '_10', '_11', '_12', '_13', '_14', '_15', '_17', '_18', '_19', '_2', '_20', '_21', '_22', '_23', '_24', '_25', '_26', '_27', '_28', '_29', '_3', '_30', '_31', '_32', '_33', '_34', '_35', '_36', '_37', '_38', '_39', '_4', '_40', '_41', '_42', '_43', '_5', '_6', '_7', '_8', '_9', '__add__', '__class__', '__class_getitem__', '__contains__', '__delattr__', '__dir__', '__doc__', '__eq__', '__format__', '__ge__', '__getattribute__', '__getitem__', '__getnewargs__', '__getstate__', '__gt__', '__hash__', '__init__', '__init_subclass__', '__iter__', '__le__', '__len__', '__lt__', '__match_args__', '__module__', '__mul__', '__ne__', '__new__', '__reduce__', '__reduce_ex__', '__repr__', '__rmul__', '__setattr__', '__sizeof__', '__slots__', '__str__', '__subclasshook__', '_asdict', '_field_defaults', '_fields', '_make', '_replace', 'count', 'index']\n",
      "['EWS_DaysToThreat', 'Index', '_1', '_10', '_11', '_12', '_13', '_14', '_15', '_17', '_18', '_19', '_2', '_20', '_21', '_22', '_23', '_24', '_25', '_26', '_27', '_28', '_29', '_3', '_30', '_31', '_32', '_33', '_34', '_35', '_36', '_37', '_38', '_39', '_4', '_40', '_41', '_42', '_43', '_5', '_6', '_7', '_8', '_9', '__add__', '__class__', '__class_getitem__', '__contains__', '__delattr__', '__dir__', '__doc__', '__eq__', '__format__', '__ge__', '__getattribute__', '__getitem__', '__getnewargs__', '__getstate__', '__gt__', '__hash__', '__init__', '__init_subclass__', '__iter__', '__le__', '__len__', '__lt__', '__match_args__', '__module__', '__mul__', '__ne__', '__new__', '__reduce__', '__reduce_ex__', '__repr__', '__rmul__', '__setattr__', '__sizeof__', '__slots__', '__str__', '__subclasshook__', '_asdict', '_field_defaults', '_fields', '_make', '_replace', 'count', 'index']\n",
      "['EWS_DaysToThreat', 'Index', '_1', '_10', '_11', '_12', '_13', '_14', '_15', '_17', '_18', '_19', '_2', '_20', '_21', '_22', '_23', '_24', '_25', '_26', '_27', '_28', '_29', '_3', '_30', '_31', '_32', '_33', '_34', '_35', '_36', '_37', '_38', '_39', '_4', '_40', '_41', '_42', '_43', '_5', '_6', '_7', '_8', '_9', '__add__', '__class__', '__class_getitem__', '__contains__', '__delattr__', '__dir__', '__doc__', '__eq__', '__format__', '__ge__', '__getattribute__', '__getitem__', '__getnewargs__', '__getstate__', '__gt__', '__hash__', '__init__', '__init_subclass__', '__iter__', '__le__', '__len__', '__lt__', '__match_args__', '__module__', '__mul__', '__ne__', '__new__', '__reduce__', '__reduce_ex__', '__repr__', '__rmul__', '__setattr__', '__sizeof__', '__slots__', '__str__', '__subclasshook__', '_asdict', '_field_defaults', '_fields', '_make', '_replace', 'count', 'index']\n",
      "['EWS_DaysToThreat', 'Index', '_1', '_10', '_11', '_12', '_13', '_14', '_15', '_17', '_18', '_19', '_2', '_20', '_21', '_22', '_23', '_24', '_25', '_26', '_27', '_28', '_29', '_3', '_30', '_31', '_32', '_33', '_34', '_35', '_36', '_37', '_38', '_39', '_4', '_40', '_41', '_42', '_43', '_5', '_6', '_7', '_8', '_9', '__add__', '__class__', '__class_getitem__', '__contains__', '__delattr__', '__dir__', '__doc__', '__eq__', '__format__', '__ge__', '__getattribute__', '__getitem__', '__getnewargs__', '__getstate__', '__gt__', '__hash__', '__init__', '__init_subclass__', '__iter__', '__le__', '__len__', '__lt__', '__match_args__', '__module__', '__mul__', '__ne__', '__new__', '__reduce__', '__reduce_ex__', '__repr__', '__rmul__', '__setattr__', '__sizeof__', '__slots__', '__str__', '__subclasshook__', '_asdict', '_field_defaults', '_fields', '_make', '_replace', 'count', 'index']\n",
      "['EWS_DaysToThreat', 'Index', '_1', '_10', '_11', '_12', '_13', '_14', '_15', '_17', '_18', '_19', '_2', '_20', '_21', '_22', '_23', '_24', '_25', '_26', '_27', '_28', '_29', '_3', '_30', '_31', '_32', '_33', '_34', '_35', '_36', '_37', '_38', '_39', '_4', '_40', '_41', '_42', '_43', '_5', '_6', '_7', '_8', '_9', '__add__', '__class__', '__class_getitem__', '__contains__', '__delattr__', '__dir__', '__doc__', '__eq__', '__format__', '__ge__', '__getattribute__', '__getitem__', '__getnewargs__', '__getstate__', '__gt__', '__hash__', '__init__', '__init_subclass__', '__iter__', '__le__', '__len__', '__lt__', '__match_args__', '__module__', '__mul__', '__ne__', '__new__', '__reduce__', '__reduce_ex__', '__repr__', '__rmul__', '__setattr__', '__sizeof__', '__slots__', '__str__', '__subclasshook__', '_asdict', '_field_defaults', '_fields', '_make', '_replace', 'count', 'index']\n",
      "['EWS_DaysToThreat', 'Index', '_1', '_10', '_11', '_12', '_13', '_14', '_15', '_17', '_18', '_19', '_2', '_20', '_21', '_22', '_23', '_24', '_25', '_26', '_27', '_28', '_29', '_3', '_30', '_31', '_32', '_33', '_34', '_35', '_36', '_37', '_38', '_39', '_4', '_40', '_41', '_42', '_43', '_5', '_6', '_7', '_8', '_9', '__add__', '__class__', '__class_getitem__', '__contains__', '__delattr__', '__dir__', '__doc__', '__eq__', '__format__', '__ge__', '__getattribute__', '__getitem__', '__getnewargs__', '__getstate__', '__gt__', '__hash__', '__init__', '__init_subclass__', '__iter__', '__le__', '__len__', '__lt__', '__match_args__', '__module__', '__mul__', '__ne__', '__new__', '__reduce__', '__reduce_ex__', '__repr__', '__rmul__', '__setattr__', '__sizeof__', '__slots__', '__str__', '__subclasshook__', '_asdict', '_field_defaults', '_fields', '_make', '_replace', 'count', 'index']\n",
      "['EWS_DaysToThreat', 'Index', '_1', '_10', '_11', '_12', '_13', '_14', '_15', '_17', '_18', '_19', '_2', '_20', '_21', '_22', '_23', '_24', '_25', '_26', '_27', '_28', '_29', '_3', '_30', '_31', '_32', '_33', '_34', '_35', '_36', '_37', '_38', '_39', '_4', '_40', '_41', '_42', '_43', '_5', '_6', '_7', '_8', '_9', '__add__', '__class__', '__class_getitem__', '__contains__', '__delattr__', '__dir__', '__doc__', '__eq__', '__format__', '__ge__', '__getattribute__', '__getitem__', '__getnewargs__', '__getstate__', '__gt__', '__hash__', '__init__', '__init_subclass__', '__iter__', '__le__', '__len__', '__lt__', '__match_args__', '__module__', '__mul__', '__ne__', '__new__', '__reduce__', '__reduce_ex__', '__repr__', '__rmul__', '__setattr__', '__sizeof__', '__slots__', '__str__', '__subclasshook__', '_asdict', '_field_defaults', '_fields', '_make', '_replace', 'count', 'index']\n",
      "['EWS_DaysToThreat', 'Index', '_1', '_10', '_11', '_12', '_13', '_14', '_15', '_17', '_18', '_19', '_2', '_20', '_21', '_22', '_23', '_24', '_25', '_26', '_27', '_28', '_29', '_3', '_30', '_31', '_32', '_33', '_34', '_35', '_36', '_37', '_38', '_39', '_4', '_40', '_41', '_42', '_43', '_5', '_6', '_7', '_8', '_9', '__add__', '__class__', '__class_getitem__', '__contains__', '__delattr__', '__dir__', '__doc__', '__eq__', '__format__', '__ge__', '__getattribute__', '__getitem__', '__getnewargs__', '__getstate__', '__gt__', '__hash__', '__init__', '__init_subclass__', '__iter__', '__le__', '__len__', '__lt__', '__match_args__', '__module__', '__mul__', '__ne__', '__new__', '__reduce__', '__reduce_ex__', '__repr__', '__rmul__', '__setattr__', '__sizeof__', '__slots__', '__str__', '__subclasshook__', '_asdict', '_field_defaults', '_fields', '_make', '_replace', 'count', 'index']\n",
      "['EWS_DaysToThreat', 'Index', '_1', '_10', '_11', '_12', '_13', '_14', '_15', '_17', '_18', '_19', '_2', '_20', '_21', '_22', '_23', '_24', '_25', '_26', '_27', '_28', '_29', '_3', '_30', '_31', '_32', '_33', '_34', '_35', '_36', '_37', '_38', '_39', '_4', '_40', '_41', '_42', '_43', '_5', '_6', '_7', '_8', '_9', '__add__', '__class__', '__class_getitem__', '__contains__', '__delattr__', '__dir__', '__doc__', '__eq__', '__format__', '__ge__', '__getattribute__', '__getitem__', '__getnewargs__', '__getstate__', '__gt__', '__hash__', '__init__', '__init_subclass__', '__iter__', '__le__', '__len__', '__lt__', '__match_args__', '__module__', '__mul__', '__ne__', '__new__', '__reduce__', '__reduce_ex__', '__repr__', '__rmul__', '__setattr__', '__sizeof__', '__slots__', '__str__', '__subclasshook__', '_asdict', '_field_defaults', '_fields', '_make', '_replace', 'count', 'index']\n",
      "['EWS_DaysToThreat', 'Index', '_1', '_10', '_11', '_12', '_13', '_14', '_15', '_17', '_18', '_19', '_2', '_20', '_21', '_22', '_23', '_24', '_25', '_26', '_27', '_28', '_29', '_3', '_30', '_31', '_32', '_33', '_34', '_35', '_36', '_37', '_38', '_39', '_4', '_40', '_41', '_42', '_43', '_5', '_6', '_7', '_8', '_9', '__add__', '__class__', '__class_getitem__', '__contains__', '__delattr__', '__dir__', '__doc__', '__eq__', '__format__', '__ge__', '__getattribute__', '__getitem__', '__getnewargs__', '__getstate__', '__gt__', '__hash__', '__init__', '__init_subclass__', '__iter__', '__le__', '__len__', '__lt__', '__match_args__', '__module__', '__mul__', '__ne__', '__new__', '__reduce__', '__reduce_ex__', '__repr__', '__rmul__', '__setattr__', '__sizeof__', '__slots__', '__str__', '__subclasshook__', '_asdict', '_field_defaults', '_fields', '_make', '_replace', 'count', 'index']\n",
      "['EWS_DaysToThreat', 'Index', '_1', '_10', '_11', '_12', '_13', '_14', '_15', '_17', '_18', '_19', '_2', '_20', '_21', '_22', '_23', '_24', '_25', '_26', '_27', '_28', '_29', '_3', '_30', '_31', '_32', '_33', '_34', '_35', '_36', '_37', '_38', '_39', '_4', '_40', '_41', '_42', '_43', '_5', '_6', '_7', '_8', '_9', '__add__', '__class__', '__class_getitem__', '__contains__', '__delattr__', '__dir__', '__doc__', '__eq__', '__format__', '__ge__', '__getattribute__', '__getitem__', '__getnewargs__', '__getstate__', '__gt__', '__hash__', '__init__', '__init_subclass__', '__iter__', '__le__', '__len__', '__lt__', '__match_args__', '__module__', '__mul__', '__ne__', '__new__', '__reduce__', '__reduce_ex__', '__repr__', '__rmul__', '__setattr__', '__sizeof__', '__slots__', '__str__', '__subclasshook__', '_asdict', '_field_defaults', '_fields', '_make', '_replace', 'count', 'index']\n",
      "['EWS_DaysToThreat', 'Index', '_1', '_10', '_11', '_12', '_13', '_14', '_15', '_17', '_18', '_19', '_2', '_20', '_21', '_22', '_23', '_24', '_25', '_26', '_27', '_28', '_29', '_3', '_30', '_31', '_32', '_33', '_34', '_35', '_36', '_37', '_38', '_39', '_4', '_40', '_41', '_42', '_43', '_5', '_6', '_7', '_8', '_9', '__add__', '__class__', '__class_getitem__', '__contains__', '__delattr__', '__dir__', '__doc__', '__eq__', '__format__', '__ge__', '__getattribute__', '__getitem__', '__getnewargs__', '__getstate__', '__gt__', '__hash__', '__init__', '__init_subclass__', '__iter__', '__le__', '__len__', '__lt__', '__match_args__', '__module__', '__mul__', '__ne__', '__new__', '__reduce__', '__reduce_ex__', '__repr__', '__rmul__', '__setattr__', '__sizeof__', '__slots__', '__str__', '__subclasshook__', '_asdict', '_field_defaults', '_fields', '_make', '_replace', 'count', 'index']\n",
      "['EWS_DaysToThreat', 'Index', '_1', '_10', '_11', '_12', '_13', '_14', '_15', '_17', '_18', '_19', '_2', '_20', '_21', '_22', '_23', '_24', '_25', '_26', '_27', '_28', '_29', '_3', '_30', '_31', '_32', '_33', '_34', '_35', '_36', '_37', '_38', '_39', '_4', '_40', '_41', '_42', '_43', '_5', '_6', '_7', '_8', '_9', '__add__', '__class__', '__class_getitem__', '__contains__', '__delattr__', '__dir__', '__doc__', '__eq__', '__format__', '__ge__', '__getattribute__', '__getitem__', '__getnewargs__', '__getstate__', '__gt__', '__hash__', '__init__', '__init_subclass__', '__iter__', '__le__', '__len__', '__lt__', '__match_args__', '__module__', '__mul__', '__ne__', '__new__', '__reduce__', '__reduce_ex__', '__repr__', '__rmul__', '__setattr__', '__sizeof__', '__slots__', '__str__', '__subclasshook__', '_asdict', '_field_defaults', '_fields', '_make', '_replace', 'count', 'index']\n",
      "['EWS_DaysToThreat', 'Index', '_1', '_10', '_11', '_12', '_13', '_14', '_15', '_17', '_18', '_19', '_2', '_20', '_21', '_22', '_23', '_24', '_25', '_26', '_27', '_28', '_29', '_3', '_30', '_31', '_32', '_33', '_34', '_35', '_36', '_37', '_38', '_39', '_4', '_40', '_41', '_42', '_43', '_5', '_6', '_7', '_8', '_9', '__add__', '__class__', '__class_getitem__', '__contains__', '__delattr__', '__dir__', '__doc__', '__eq__', '__format__', '__ge__', '__getattribute__', '__getitem__', '__getnewargs__', '__getstate__', '__gt__', '__hash__', '__init__', '__init_subclass__', '__iter__', '__le__', '__len__', '__lt__', '__match_args__', '__module__', '__mul__', '__ne__', '__new__', '__reduce__', '__reduce_ex__', '__repr__', '__rmul__', '__setattr__', '__sizeof__', '__slots__', '__str__', '__subclasshook__', '_asdict', '_field_defaults', '_fields', '_make', '_replace', 'count', 'index']\n",
      "['EWS_DaysToThreat', 'Index', '_1', '_10', '_11', '_12', '_13', '_14', '_15', '_17', '_18', '_19', '_2', '_20', '_21', '_22', '_23', '_24', '_25', '_26', '_27', '_28', '_29', '_3', '_30', '_31', '_32', '_33', '_34', '_35', '_36', '_37', '_38', '_39', '_4', '_40', '_41', '_42', '_43', '_5', '_6', '_7', '_8', '_9', '__add__', '__class__', '__class_getitem__', '__contains__', '__delattr__', '__dir__', '__doc__', '__eq__', '__format__', '__ge__', '__getattribute__', '__getitem__', '__getnewargs__', '__getstate__', '__gt__', '__hash__', '__init__', '__init_subclass__', '__iter__', '__le__', '__len__', '__lt__', '__match_args__', '__module__', '__mul__', '__ne__', '__new__', '__reduce__', '__reduce_ex__', '__repr__', '__rmul__', '__setattr__', '__sizeof__', '__slots__', '__str__', '__subclasshook__', '_asdict', '_field_defaults', '_fields', '_make', '_replace', 'count', 'index']\n",
      "['EWS_DaysToThreat', 'Index', '_1', '_10', '_11', '_12', '_13', '_14', '_15', '_17', '_18', '_19', '_2', '_20', '_21', '_22', '_23', '_24', '_25', '_26', '_27', '_28', '_29', '_3', '_30', '_31', '_32', '_33', '_34', '_35', '_36', '_37', '_38', '_39', '_4', '_40', '_41', '_42', '_43', '_5', '_6', '_7', '_8', '_9', '__add__', '__class__', '__class_getitem__', '__contains__', '__delattr__', '__dir__', '__doc__', '__eq__', '__format__', '__ge__', '__getattribute__', '__getitem__', '__getnewargs__', '__getstate__', '__gt__', '__hash__', '__init__', '__init_subclass__', '__iter__', '__le__', '__len__', '__lt__', '__match_args__', '__module__', '__mul__', '__ne__', '__new__', '__reduce__', '__reduce_ex__', '__repr__', '__rmul__', '__setattr__', '__sizeof__', '__slots__', '__str__', '__subclasshook__', '_asdict', '_field_defaults', '_fields', '_make', '_replace', 'count', 'index']\n",
      "['EWS_DaysToThreat', 'Index', '_1', '_10', '_11', '_12', '_13', '_14', '_15', '_17', '_18', '_19', '_2', '_20', '_21', '_22', '_23', '_24', '_25', '_26', '_27', '_28', '_29', '_3', '_30', '_31', '_32', '_33', '_34', '_35', '_36', '_37', '_38', '_39', '_4', '_40', '_41', '_42', '_43', '_5', '_6', '_7', '_8', '_9', '__add__', '__class__', '__class_getitem__', '__contains__', '__delattr__', '__dir__', '__doc__', '__eq__', '__format__', '__ge__', '__getattribute__', '__getitem__', '__getnewargs__', '__getstate__', '__gt__', '__hash__', '__init__', '__init_subclass__', '__iter__', '__le__', '__len__', '__lt__', '__match_args__', '__module__', '__mul__', '__ne__', '__new__', '__reduce__', '__reduce_ex__', '__repr__', '__rmul__', '__setattr__', '__sizeof__', '__slots__', '__str__', '__subclasshook__', '_asdict', '_field_defaults', '_fields', '_make', '_replace', 'count', 'index']\n",
      "['EWS_DaysToThreat', 'Index', '_1', '_10', '_11', '_12', '_13', '_14', '_15', '_17', '_18', '_19', '_2', '_20', '_21', '_22', '_23', '_24', '_25', '_26', '_27', '_28', '_29', '_3', '_30', '_31', '_32', '_33', '_34', '_35', '_36', '_37', '_38', '_39', '_4', '_40', '_41', '_42', '_43', '_5', '_6', '_7', '_8', '_9', '__add__', '__class__', '__class_getitem__', '__contains__', '__delattr__', '__dir__', '__doc__', '__eq__', '__format__', '__ge__', '__getattribute__', '__getitem__', '__getnewargs__', '__getstate__', '__gt__', '__hash__', '__init__', '__init_subclass__', '__iter__', '__le__', '__len__', '__lt__', '__match_args__', '__module__', '__mul__', '__ne__', '__new__', '__reduce__', '__reduce_ex__', '__repr__', '__rmul__', '__setattr__', '__sizeof__', '__slots__', '__str__', '__subclasshook__', '_asdict', '_field_defaults', '_fields', '_make', '_replace', 'count', 'index']\n",
      "['EWS_DaysToThreat', 'Index', '_1', '_10', '_11', '_12', '_13', '_14', '_15', '_17', '_18', '_19', '_2', '_20', '_21', '_22', '_23', '_24', '_25', '_26', '_27', '_28', '_29', '_3', '_30', '_31', '_32', '_33', '_34', '_35', '_36', '_37', '_38', '_39', '_4', '_40', '_41', '_42', '_43', '_5', '_6', '_7', '_8', '_9', '__add__', '__class__', '__class_getitem__', '__contains__', '__delattr__', '__dir__', '__doc__', '__eq__', '__format__', '__ge__', '__getattribute__', '__getitem__', '__getnewargs__', '__getstate__', '__gt__', '__hash__', '__init__', '__init_subclass__', '__iter__', '__le__', '__len__', '__lt__', '__match_args__', '__module__', '__mul__', '__ne__', '__new__', '__reduce__', '__reduce_ex__', '__repr__', '__rmul__', '__setattr__', '__sizeof__', '__slots__', '__str__', '__subclasshook__', '_asdict', '_field_defaults', '_fields', '_make', '_replace', 'count', 'index']\n",
      "['EWS_DaysToThreat', 'Index', '_1', '_10', '_11', '_12', '_13', '_14', '_15', '_17', '_18', '_19', '_2', '_20', '_21', '_22', '_23', '_24', '_25', '_26', '_27', '_28', '_29', '_3', '_30', '_31', '_32', '_33', '_34', '_35', '_36', '_37', '_38', '_39', '_4', '_40', '_41', '_42', '_43', '_5', '_6', '_7', '_8', '_9', '__add__', '__class__', '__class_getitem__', '__contains__', '__delattr__', '__dir__', '__doc__', '__eq__', '__format__', '__ge__', '__getattribute__', '__getitem__', '__getnewargs__', '__getstate__', '__gt__', '__hash__', '__init__', '__init_subclass__', '__iter__', '__le__', '__len__', '__lt__', '__match_args__', '__module__', '__mul__', '__ne__', '__new__', '__reduce__', '__reduce_ex__', '__repr__', '__rmul__', '__setattr__', '__sizeof__', '__slots__', '__str__', '__subclasshook__', '_asdict', '_field_defaults', '_fields', '_make', '_replace', 'count', 'index']\n",
      "['EWS_DaysToThreat', 'Index', '_1', '_10', '_11', '_12', '_13', '_14', '_15', '_17', '_18', '_19', '_2', '_20', '_21', '_22', '_23', '_24', '_25', '_26', '_27', '_28', '_29', '_3', '_30', '_31', '_32', '_33', '_34', '_35', '_36', '_37', '_38', '_39', '_4', '_40', '_41', '_42', '_43', '_5', '_6', '_7', '_8', '_9', '__add__', '__class__', '__class_getitem__', '__contains__', '__delattr__', '__dir__', '__doc__', '__eq__', '__format__', '__ge__', '__getattribute__', '__getitem__', '__getnewargs__', '__getstate__', '__gt__', '__hash__', '__init__', '__init_subclass__', '__iter__', '__le__', '__len__', '__lt__', '__match_args__', '__module__', '__mul__', '__ne__', '__new__', '__reduce__', '__reduce_ex__', '__repr__', '__rmul__', '__setattr__', '__sizeof__', '__slots__', '__str__', '__subclasshook__', '_asdict', '_field_defaults', '_fields', '_make', '_replace', 'count', 'index']\n",
      "['EWS_DaysToThreat', 'Index', '_1', '_10', '_11', '_12', '_13', '_14', '_15', '_17', '_18', '_19', '_2', '_20', '_21', '_22', '_23', '_24', '_25', '_26', '_27', '_28', '_29', '_3', '_30', '_31', '_32', '_33', '_34', '_35', '_36', '_37', '_38', '_39', '_4', '_40', '_41', '_42', '_43', '_5', '_6', '_7', '_8', '_9', '__add__', '__class__', '__class_getitem__', '__contains__', '__delattr__', '__dir__', '__doc__', '__eq__', '__format__', '__ge__', '__getattribute__', '__getitem__', '__getnewargs__', '__getstate__', '__gt__', '__hash__', '__init__', '__init_subclass__', '__iter__', '__le__', '__len__', '__lt__', '__match_args__', '__module__', '__mul__', '__ne__', '__new__', '__reduce__', '__reduce_ex__', '__repr__', '__rmul__', '__setattr__', '__sizeof__', '__slots__', '__str__', '__subclasshook__', '_asdict', '_field_defaults', '_fields', '_make', '_replace', 'count', 'index']\n",
      "['EWS_DaysToThreat', 'Index', '_1', '_10', '_11', '_12', '_13', '_14', '_15', '_17', '_18', '_19', '_2', '_20', '_21', '_22', '_23', '_24', '_25', '_26', '_27', '_28', '_29', '_3', '_30', '_31', '_32', '_33', '_34', '_35', '_36', '_37', '_38', '_39', '_4', '_40', '_41', '_42', '_43', '_5', '_6', '_7', '_8', '_9', '__add__', '__class__', '__class_getitem__', '__contains__', '__delattr__', '__dir__', '__doc__', '__eq__', '__format__', '__ge__', '__getattribute__', '__getitem__', '__getnewargs__', '__getstate__', '__gt__', '__hash__', '__init__', '__init_subclass__', '__iter__', '__le__', '__len__', '__lt__', '__match_args__', '__module__', '__mul__', '__ne__', '__new__', '__reduce__', '__reduce_ex__', '__repr__', '__rmul__', '__setattr__', '__sizeof__', '__slots__', '__str__', '__subclasshook__', '_asdict', '_field_defaults', '_fields', '_make', '_replace', 'count', 'index']\n",
      "['EWS_DaysToThreat', 'Index', '_1', '_10', '_11', '_12', '_13', '_14', '_15', '_17', '_18', '_19', '_2', '_20', '_21', '_22', '_23', '_24', '_25', '_26', '_27', '_28', '_29', '_3', '_30', '_31', '_32', '_33', '_34', '_35', '_36', '_37', '_38', '_39', '_4', '_40', '_41', '_42', '_43', '_5', '_6', '_7', '_8', '_9', '__add__', '__class__', '__class_getitem__', '__contains__', '__delattr__', '__dir__', '__doc__', '__eq__', '__format__', '__ge__', '__getattribute__', '__getitem__', '__getnewargs__', '__getstate__', '__gt__', '__hash__', '__init__', '__init_subclass__', '__iter__', '__le__', '__len__', '__lt__', '__match_args__', '__module__', '__mul__', '__ne__', '__new__', '__reduce__', '__reduce_ex__', '__repr__', '__rmul__', '__setattr__', '__sizeof__', '__slots__', '__str__', '__subclasshook__', '_asdict', '_field_defaults', '_fields', '_make', '_replace', 'count', 'index']\n",
      "['EWS_DaysToThreat', 'Index', '_1', '_10', '_11', '_12', '_13', '_14', '_15', '_17', '_18', '_19', '_2', '_20', '_21', '_22', '_23', '_24', '_25', '_26', '_27', '_28', '_29', '_3', '_30', '_31', '_32', '_33', '_34', '_35', '_36', '_37', '_38', '_39', '_4', '_40', '_41', '_42', '_43', '_5', '_6', '_7', '_8', '_9', '__add__', '__class__', '__class_getitem__', '__contains__', '__delattr__', '__dir__', '__doc__', '__eq__', '__format__', '__ge__', '__getattribute__', '__getitem__', '__getnewargs__', '__getstate__', '__gt__', '__hash__', '__init__', '__init_subclass__', '__iter__', '__le__', '__len__', '__lt__', '__match_args__', '__module__', '__mul__', '__ne__', '__new__', '__reduce__', '__reduce_ex__', '__repr__', '__rmul__', '__setattr__', '__sizeof__', '__slots__', '__str__', '__subclasshook__', '_asdict', '_field_defaults', '_fields', '_make', '_replace', 'count', 'index']\n",
      "['EWS_DaysToThreat', 'Index', '_1', '_10', '_11', '_12', '_13', '_14', '_15', '_17', '_18', '_19', '_2', '_20', '_21', '_22', '_23', '_24', '_25', '_26', '_27', '_28', '_29', '_3', '_30', '_31', '_32', '_33', '_34', '_35', '_36', '_37', '_38', '_39', '_4', '_40', '_41', '_42', '_43', '_5', '_6', '_7', '_8', '_9', '__add__', '__class__', '__class_getitem__', '__contains__', '__delattr__', '__dir__', '__doc__', '__eq__', '__format__', '__ge__', '__getattribute__', '__getitem__', '__getnewargs__', '__getstate__', '__gt__', '__hash__', '__init__', '__init_subclass__', '__iter__', '__le__', '__len__', '__lt__', '__match_args__', '__module__', '__mul__', '__ne__', '__new__', '__reduce__', '__reduce_ex__', '__repr__', '__rmul__', '__setattr__', '__sizeof__', '__slots__', '__str__', '__subclasshook__', '_asdict', '_field_defaults', '_fields', '_make', '_replace', 'count', 'index']\n",
      "['EWS_DaysToThreat', 'Index', '_1', '_10', '_11', '_12', '_13', '_14', '_15', '_17', '_18', '_19', '_2', '_20', '_21', '_22', '_23', '_24', '_25', '_26', '_27', '_28', '_29', '_3', '_30', '_31', '_32', '_33', '_34', '_35', '_36', '_37', '_38', '_39', '_4', '_40', '_41', '_42', '_43', '_5', '_6', '_7', '_8', '_9', '__add__', '__class__', '__class_getitem__', '__contains__', '__delattr__', '__dir__', '__doc__', '__eq__', '__format__', '__ge__', '__getattribute__', '__getitem__', '__getnewargs__', '__getstate__', '__gt__', '__hash__', '__init__', '__init_subclass__', '__iter__', '__le__', '__len__', '__lt__', '__match_args__', '__module__', '__mul__', '__ne__', '__new__', '__reduce__', '__reduce_ex__', '__repr__', '__rmul__', '__setattr__', '__sizeof__', '__slots__', '__str__', '__subclasshook__', '_asdict', '_field_defaults', '_fields', '_make', '_replace', 'count', 'index']\n",
      "['EWS_DaysToThreat', 'Index', '_1', '_10', '_11', '_12', '_13', '_14', '_15', '_17', '_18', '_19', '_2', '_20', '_21', '_22', '_23', '_24', '_25', '_26', '_27', '_28', '_29', '_3', '_30', '_31', '_32', '_33', '_34', '_35', '_36', '_37', '_38', '_39', '_4', '_40', '_41', '_42', '_43', '_5', '_6', '_7', '_8', '_9', '__add__', '__class__', '__class_getitem__', '__contains__', '__delattr__', '__dir__', '__doc__', '__eq__', '__format__', '__ge__', '__getattribute__', '__getitem__', '__getnewargs__', '__getstate__', '__gt__', '__hash__', '__init__', '__init_subclass__', '__iter__', '__le__', '__len__', '__lt__', '__match_args__', '__module__', '__mul__', '__ne__', '__new__', '__reduce__', '__reduce_ex__', '__repr__', '__rmul__', '__setattr__', '__sizeof__', '__slots__', '__str__', '__subclasshook__', '_asdict', '_field_defaults', '_fields', '_make', '_replace', 'count', 'index']\n",
      "['EWS_DaysToThreat', 'Index', '_1', '_10', '_11', '_12', '_13', '_14', '_15', '_17', '_18', '_19', '_2', '_20', '_21', '_22', '_23', '_24', '_25', '_26', '_27', '_28', '_29', '_3', '_30', '_31', '_32', '_33', '_34', '_35', '_36', '_37', '_38', '_39', '_4', '_40', '_41', '_42', '_43', '_5', '_6', '_7', '_8', '_9', '__add__', '__class__', '__class_getitem__', '__contains__', '__delattr__', '__dir__', '__doc__', '__eq__', '__format__', '__ge__', '__getattribute__', '__getitem__', '__getnewargs__', '__getstate__', '__gt__', '__hash__', '__init__', '__init_subclass__', '__iter__', '__le__', '__len__', '__lt__', '__match_args__', '__module__', '__mul__', '__ne__', '__new__', '__reduce__', '__reduce_ex__', '__repr__', '__rmul__', '__setattr__', '__sizeof__', '__slots__', '__str__', '__subclasshook__', '_asdict', '_field_defaults', '_fields', '_make', '_replace', 'count', 'index']\n",
      "['EWS_DaysToThreat', 'Index', '_1', '_10', '_11', '_12', '_13', '_14', '_15', '_17', '_18', '_19', '_2', '_20', '_21', '_22', '_23', '_24', '_25', '_26', '_27', '_28', '_29', '_3', '_30', '_31', '_32', '_33', '_34', '_35', '_36', '_37', '_38', '_39', '_4', '_40', '_41', '_42', '_43', '_5', '_6', '_7', '_8', '_9', '__add__', '__class__', '__class_getitem__', '__contains__', '__delattr__', '__dir__', '__doc__', '__eq__', '__format__', '__ge__', '__getattribute__', '__getitem__', '__getnewargs__', '__getstate__', '__gt__', '__hash__', '__init__', '__init_subclass__', '__iter__', '__le__', '__len__', '__lt__', '__match_args__', '__module__', '__mul__', '__ne__', '__new__', '__reduce__', '__reduce_ex__', '__repr__', '__rmul__', '__setattr__', '__sizeof__', '__slots__', '__str__', '__subclasshook__', '_asdict', '_field_defaults', '_fields', '_make', '_replace', 'count', 'index']\n",
      "['EWS_DaysToThreat', 'Index', '_1', '_10', '_11', '_12', '_13', '_14', '_15', '_17', '_18', '_19', '_2', '_20', '_21', '_22', '_23', '_24', '_25', '_26', '_27', '_28', '_29', '_3', '_30', '_31', '_32', '_33', '_34', '_35', '_36', '_37', '_38', '_39', '_4', '_40', '_41', '_42', '_43', '_5', '_6', '_7', '_8', '_9', '__add__', '__class__', '__class_getitem__', '__contains__', '__delattr__', '__dir__', '__doc__', '__eq__', '__format__', '__ge__', '__getattribute__', '__getitem__', '__getnewargs__', '__getstate__', '__gt__', '__hash__', '__init__', '__init_subclass__', '__iter__', '__le__', '__len__', '__lt__', '__match_args__', '__module__', '__mul__', '__ne__', '__new__', '__reduce__', '__reduce_ex__', '__repr__', '__rmul__', '__setattr__', '__sizeof__', '__slots__', '__str__', '__subclasshook__', '_asdict', '_field_defaults', '_fields', '_make', '_replace', 'count', 'index']\n",
      "['EWS_DaysToThreat', 'Index', '_1', '_10', '_11', '_12', '_13', '_14', '_15', '_17', '_18', '_19', '_2', '_20', '_21', '_22', '_23', '_24', '_25', '_26', '_27', '_28', '_29', '_3', '_30', '_31', '_32', '_33', '_34', '_35', '_36', '_37', '_38', '_39', '_4', '_40', '_41', '_42', '_43', '_5', '_6', '_7', '_8', '_9', '__add__', '__class__', '__class_getitem__', '__contains__', '__delattr__', '__dir__', '__doc__', '__eq__', '__format__', '__ge__', '__getattribute__', '__getitem__', '__getnewargs__', '__getstate__', '__gt__', '__hash__', '__init__', '__init_subclass__', '__iter__', '__le__', '__len__', '__lt__', '__match_args__', '__module__', '__mul__', '__ne__', '__new__', '__reduce__', '__reduce_ex__', '__repr__', '__rmul__', '__setattr__', '__sizeof__', '__slots__', '__str__', '__subclasshook__', '_asdict', '_field_defaults', '_fields', '_make', '_replace', 'count', 'index']\n",
      "['EWS_DaysToThreat', 'Index', '_1', '_10', '_11', '_12', '_13', '_14', '_15', '_17', '_18', '_19', '_2', '_20', '_21', '_22', '_23', '_24', '_25', '_26', '_27', '_28', '_29', '_3', '_30', '_31', '_32', '_33', '_34', '_35', '_36', '_37', '_38', '_39', '_4', '_40', '_41', '_42', '_43', '_5', '_6', '_7', '_8', '_9', '__add__', '__class__', '__class_getitem__', '__contains__', '__delattr__', '__dir__', '__doc__', '__eq__', '__format__', '__ge__', '__getattribute__', '__getitem__', '__getnewargs__', '__getstate__', '__gt__', '__hash__', '__init__', '__init_subclass__', '__iter__', '__le__', '__len__', '__lt__', '__match_args__', '__module__', '__mul__', '__ne__', '__new__', '__reduce__', '__reduce_ex__', '__repr__', '__rmul__', '__setattr__', '__sizeof__', '__slots__', '__str__', '__subclasshook__', '_asdict', '_field_defaults', '_fields', '_make', '_replace', 'count', 'index']\n",
      "['EWS_DaysToThreat', 'Index', '_1', '_10', '_11', '_12', '_13', '_14', '_15', '_17', '_18', '_19', '_2', '_20', '_21', '_22', '_23', '_24', '_25', '_26', '_27', '_28', '_29', '_3', '_30', '_31', '_32', '_33', '_34', '_35', '_36', '_37', '_38', '_39', '_4', '_40', '_41', '_42', '_43', '_5', '_6', '_7', '_8', '_9', '__add__', '__class__', '__class_getitem__', '__contains__', '__delattr__', '__dir__', '__doc__', '__eq__', '__format__', '__ge__', '__getattribute__', '__getitem__', '__getnewargs__', '__getstate__', '__gt__', '__hash__', '__init__', '__init_subclass__', '__iter__', '__le__', '__len__', '__lt__', '__match_args__', '__module__', '__mul__', '__ne__', '__new__', '__reduce__', '__reduce_ex__', '__repr__', '__rmul__', '__setattr__', '__sizeof__', '__slots__', '__str__', '__subclasshook__', '_asdict', '_field_defaults', '_fields', '_make', '_replace', 'count', 'index']\n",
      "['EWS_DaysToThreat', 'Index', '_1', '_10', '_11', '_12', '_13', '_14', '_15', '_17', '_18', '_19', '_2', '_20', '_21', '_22', '_23', '_24', '_25', '_26', '_27', '_28', '_29', '_3', '_30', '_31', '_32', '_33', '_34', '_35', '_36', '_37', '_38', '_39', '_4', '_40', '_41', '_42', '_43', '_5', '_6', '_7', '_8', '_9', '__add__', '__class__', '__class_getitem__', '__contains__', '__delattr__', '__dir__', '__doc__', '__eq__', '__format__', '__ge__', '__getattribute__', '__getitem__', '__getnewargs__', '__getstate__', '__gt__', '__hash__', '__init__', '__init_subclass__', '__iter__', '__le__', '__len__', '__lt__', '__match_args__', '__module__', '__mul__', '__ne__', '__new__', '__reduce__', '__reduce_ex__', '__repr__', '__rmul__', '__setattr__', '__sizeof__', '__slots__', '__str__', '__subclasshook__', '_asdict', '_field_defaults', '_fields', '_make', '_replace', 'count', 'index']\n"
     ]
    }
   ],
   "execution_count": 15
  },
  {
   "metadata": {},
   "cell_type": "code",
   "outputs": [],
   "execution_count": null,
   "source": "",
   "id": "2a72be89fcf05116"
  }
 ],
 "metadata": {
  "kernelspec": {
   "display_name": "Python 3",
   "language": "python",
   "name": "python3"
  },
  "language_info": {
   "codemirror_mode": {
    "name": "ipython",
    "version": 2
   },
   "file_extension": ".py",
   "mimetype": "text/x-python",
   "name": "python",
   "nbconvert_exporter": "python",
   "pygments_lexer": "ipython2",
   "version": "2.7.6"
  }
 },
 "nbformat": 4,
 "nbformat_minor": 5
}
