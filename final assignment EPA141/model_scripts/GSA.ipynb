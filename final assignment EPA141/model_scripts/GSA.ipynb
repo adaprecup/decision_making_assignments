{
 "cells": [
  {
   "cell_type": "code",
   "metadata": {
    "ExecuteTime": {
     "end_time": "2025-05-21T15:23:17.755560Z",
     "start_time": "2025-05-21T15:23:17.748754Z"
    }
   },
   "source": [
    "\n",
    "import pandas as pd\n",
    "import networkx as nx\n",
    "import os\n",
    " "
   ],
   "outputs": [],
   "execution_count": 10
  },
  {
   "metadata": {},
   "cell_type": "markdown",
   "source": "GSA without Policies"
  },
  {
   "metadata": {},
   "cell_type": "code",
   "outputs": [],
   "execution_count": null,
   "source": [
    "from ema_workbench import (\n",
    "    Samplers\n",
    ")"
   ]
  },
  {
   "metadata": {},
   "cell_type": "code",
   "outputs": [],
   "execution_count": null,
   "source": [
    "from ema_workbench import MultiprocessingEvaluator #here use instead the data that has already been generated with a sample of random policies\n",
    "\n",
    "\n",
    "# Detect number of physical/logical cores\n",
    "import multiprocessing\n",
    "\n",
    "total_cores = multiprocessing.cpu_count()  # e.g., 16 logical cores for Ryzen 7700X\n",
    "desired_cores = total_cores // 2  # use 50% of your CPU (adjust as needed)\n",
    "\n",
    "N = 512  # Sobol sample base size\n",
    "with MultiprocessingEvaluator(model, n_processes=desired_cores) as evaluator:\n",
    "    experiments, outcomes = evaluator.perform_experiments(\n",
    "        scenarios=N,\n",
    "        policies=[zero_policy],\n",
    "        uncertainty_sampling=Samplers.SOBOL\n",
    "    )"
   ]
  },
  {
   "metadata": {},
   "cell_type": "code",
   "outputs": [],
   "execution_count": null,
   "source": "outcomes"
  },
  {
   "metadata": {},
   "cell_type": "code",
   "outputs": [],
   "execution_count": null,
   "source": [
    "from SALib.analyze import sobol\n",
    "from ema_workbench.em_framework.salib_samplers import get_SALib_problem\n",
    "import numpy as np\n",
    "\n",
    "# Step 1: Get the SALib problem setup\n",
    "problem = get_SALib_problem(model.uncertainties)\n",
    "expected_len = N * (len(problem['names']) + 2)\n",
    "\n",
    "# Step 2: Initialize result dictionaries\n",
    "sobol_results_mean = {}\n",
    "sobol_results_std = {}\n",
    "sobol_results_final = {}\n",
    "\n",
    "# Step 3: Loop through outcomes and apply reduction\n",
    "for outcome_name, values in outcomes.items():\n",
    "    arr = np.asarray(values)[:expected_len]\n",
    "\n",
    "    if arr.ndim == 1:\n",
    "        # Already scalar\n",
    "        y_mean = arr\n",
    "        y_std = np.zeros_like(arr)\n",
    "        y_final = arr\n",
    "    elif arr.ndim == 2:\n",
    "        # 2D array like (20480, 3)\n",
    "        y_mean = arr.mean(axis=1)\n",
    "        y_std = arr.std(axis=1)\n",
    "        y_final = arr[:, -1]\n",
    "    else:\n",
    "        print(f\"⚠️ Skipping unsupported shape: {outcome_name}, shape={arr.shape}\")\n",
    "        continue\n",
    "\n",
    "    # Run Sobol analysis for each reduction\n",
    "    sobol_results_mean[outcome_name] = sobol.analyze(problem, y_mean, calc_second_order=False)\n",
    "    sobol_results_std[outcome_name] = sobol.analyze(problem, y_std, calc_second_order=False)\n",
    "    sobol_results_final[outcome_name] = sobol.analyze(problem, y_final, calc_second_order=False)"
   ]
  },
  {
   "metadata": {},
   "cell_type": "code",
   "outputs": [],
   "execution_count": null,
   "source": [
    "import matplotlib.pyplot as plt\n",
    "import seaborn as sns\n",
    "import pandas as pd\n",
    "\n",
    "# Extract parameter names from the problem\n",
    "parameter_names = problem['names']\n",
    "\n",
    "# Convert a Sobol result dictionary into a tidy DataFrame\n",
    "def sobol_to_dataframe(sobol_dict, parameter_names, label):\n",
    "    records = []\n",
    "    for outcome_name, Si in sobol_dict.items():\n",
    "        for i, param in enumerate(parameter_names):\n",
    "            records.append({\n",
    "                'Outcome': outcome_name,\n",
    "                'Parameter': param,\n",
    "                'S1': Si['S1'][i],\n",
    "                'ST': Si['ST'][i],\n",
    "                'S1_conf': Si['S1_conf'][i],\n",
    "                'ST_conf': Si['ST_conf'][i],\n",
    "                'Reduction': label\n",
    "            })\n",
    "    return pd.DataFrame(records)\n",
    "\n",
    "# Convert all three dictionaries to DataFrames\n",
    "df_mean = sobol_to_dataframe(sobol_results_mean, parameter_names, 'Mean')\n",
    "df_std = sobol_to_dataframe(sobol_results_std, parameter_names, 'Std')\n",
    "df_final = sobol_to_dataframe(sobol_results_final, parameter_names, 'Final')\n",
    "\n",
    "# Combine them all into one long-form DataFrame\n",
    "df_all = pd.concat([df_mean, df_std, df_final], ignore_index=True)\n",
    "\n",
    "# Plotting function for heatmaps\n",
    "def plot_sobol_heatmap(df, reduction_type):\n",
    "    pivot = df[df['Reduction'] == reduction_type].dropna(subset=[\"ST\"])\\\n",
    "        .pivot(index='Outcome', columns='Parameter', values='ST')\n",
    "\n",
    "    if pivot.empty:\n",
    "        print(f\"⚠️ No valid data to plot for reduction type: {reduction_type}\")\n",
    "        return\n",
    "\n",
    "    plt.figure(figsize=(14, max(6, len(pivot) * 0.4)))\n",
    "    sns.heatmap(pivot, annot=True, fmt=\".2f\", cmap='YlGnBu', cbar_kws={'label': 'Total Sobol Index (ST)'})\n",
    "    plt.title(f\"Sobol ST Heatmap ({reduction_type})\")\n",
    "    plt.ylabel(\"Outcome\")\n",
    "    plt.xlabel(\"Input Parameter\")\n",
    "    plt.tight_layout()\n",
    "    plt.show()\n",
    "\n",
    "# Plot all three heatmaps\n",
    "plot_sobol_heatmap(df_all, 'Mean')\n",
    "plot_sobol_heatmap(df_all, 'Std')\n",
    "plot_sobol_heatmap(df_all, 'Final')"
   ]
  },
  {
   "cell_type": "code",
   "execution_count": null,
   "metadata": {
    "pycharm": {
     "name": "#%%"
    }
   },
   "outputs": [],
   "source": []
  }
 ],
 "metadata": {
  "kernelspec": {
   "display_name": "Python 3 (ipykernel)",
   "language": "python",
   "name": "python3"
  },
  "language_info": {
   "codemirror_mode": {
    "name": "ipython",
    "version": 3
   },
   "file_extension": ".py",
   "mimetype": "text/x-python",
   "name": "python",
   "nbconvert_exporter": "python",
   "pygments_lexer": "ipython3",
   "version": "3.9.16"
  }
 },
 "nbformat": 4,
 "nbformat_minor": 4
}
