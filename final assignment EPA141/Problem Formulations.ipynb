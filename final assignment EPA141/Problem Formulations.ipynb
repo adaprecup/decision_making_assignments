{
 "cells": [
  {
   "cell_type": "code",
   "metadata": {
    "ExecuteTime": {
     "end_time": "2025-05-20T13:42:06.120518Z",
     "start_time": "2025-05-20T13:42:05.757716Z"
    }
   },
   "source": [
    "\n",
    "import pandas as pd\n",
    "import networkx as nx"
   ],
   "outputs": [],
   "execution_count": 1
  },
  {
   "cell_type": "code",
   "metadata": {
    "ExecuteTime": {
     "end_time": "2025-05-20T13:42:24.193594Z",
     "start_time": "2025-05-20T13:42:24.185084Z"
    }
   },
   "source": [
    "# make sure pandas is version 1.0 or higher\n",
    "# make sure networkx is verion 2.4 or higher\n",
    "print(pd.__version__)\n",
    "print(nx.__version__)"
   ],
   "outputs": [
    {
     "name": "stdout",
     "output_type": "stream",
     "text": [
      "2.2.3\n",
      "3.4.2\n"
     ]
    }
   ],
   "execution_count": 2
  },
  {
   "cell_type": "code",
   "metadata": {
    "scrolled": true,
    "ExecuteTime": {
     "end_time": "2025-05-20T13:42:30.671077Z",
     "start_time": "2025-05-20T13:42:26.663946Z"
    }
   },
   "source": [
    "from ema_workbench import (\n",
    "    Policy,\n",
    "    ema_logging,\n",
    "    MultiprocessingEvaluator,\n",
    ")\n",
    "from problem_formulation import get_model_for_problem_formulation\n",
    "\n"
   ],
   "outputs": [],
   "execution_count": 3
  },
  {
   "metadata": {
    "ExecuteTime": {
     "end_time": "2025-05-20T13:42:33.225211Z",
     "start_time": "2025-05-20T13:42:32.363625Z"
    }
   },
   "cell_type": "code",
   "source": [
    "ema_logging.log_to_stderr(ema_logging.INFO)\n",
    "\n",
    "# choose problem formulation number, between 0-5\n",
    "# each problem formulation has its own list of outcomes\n",
    "dike_model, planning_steps = get_model_for_problem_formulation(4)"
   ],
   "outputs": [],
   "execution_count": 4
  },
  {
   "metadata": {
    "ExecuteTime": {
     "end_time": "2025-05-20T13:39:25.306943Z",
     "start_time": "2025-05-20T13:39:25.283367Z"
    }
   },
   "cell_type": "code",
   "source": [
    "# enlisting uncertainties, their types (RealParameter/IntegerParameter/CategoricalParameter), lower boundary, and upper boundary\n",
    "import copy\n",
    "\n",
    "for unc in dike_model.uncertainties:\n",
    "    print(repr(unc))\n",
    "\n",
    "uncertainties = copy.deepcopy(dike_model.uncertainties)"
   ],
   "outputs": [
    {
     "name": "stdout",
     "output_type": "stream",
     "text": [
      "CategoricalParameter('discount rate 0', [0, 1, 2, 3])\n",
      "CategoricalParameter('discount rate 1', [0, 1, 2, 3])\n",
      "CategoricalParameter('discount rate 2', [0, 1, 2, 3])\n",
      "IntegerParameter('A.0_ID flood wave shape', 0, 132, resolution=None, default=None, variable_name=['A.0_ID flood wave shape'], pff=False)\n",
      "RealParameter('A.1_Bmax', 30, 350, resolution=None, default=None, variable_name=['A.1_Bmax'], pff=False)\n",
      "RealParameter('A.1_pfail', 0, 1, resolution=None, default=None, variable_name=['A.1_pfail'], pff=False)\n",
      "CategoricalParameter('A.1_Brate', [0, 1, 2])\n",
      "RealParameter('A.2_Bmax', 30, 350, resolution=None, default=None, variable_name=['A.2_Bmax'], pff=False)\n",
      "RealParameter('A.2_pfail', 0, 1, resolution=None, default=None, variable_name=['A.2_pfail'], pff=False)\n",
      "CategoricalParameter('A.2_Brate', [0, 1, 2])\n",
      "RealParameter('A.3_Bmax', 30, 350, resolution=None, default=None, variable_name=['A.3_Bmax'], pff=False)\n",
      "RealParameter('A.3_pfail', 0, 1, resolution=None, default=None, variable_name=['A.3_pfail'], pff=False)\n",
      "CategoricalParameter('A.3_Brate', [0, 1, 2])\n",
      "RealParameter('A.4_Bmax', 30, 350, resolution=None, default=None, variable_name=['A.4_Bmax'], pff=False)\n",
      "RealParameter('A.4_pfail', 0, 1, resolution=None, default=None, variable_name=['A.4_pfail'], pff=False)\n",
      "CategoricalParameter('A.4_Brate', [0, 1, 2])\n",
      "RealParameter('A.5_Bmax', 30, 350, resolution=None, default=None, variable_name=['A.5_Bmax'], pff=False)\n",
      "RealParameter('A.5_pfail', 0, 1, resolution=None, default=None, variable_name=['A.5_pfail'], pff=False)\n",
      "CategoricalParameter('A.5_Brate', [0, 1, 2])\n"
     ]
    }
   ],
   "execution_count": 5
  },
  {
   "metadata": {
    "ExecuteTime": {
     "end_time": "2025-05-20T13:39:50.409473Z",
     "start_time": "2025-05-20T13:39:50.379970Z"
    }
   },
   "cell_type": "code",
   "source": [
    "# enlisting policy levers, their types (RealParameter/IntegerParameter), lower boundary, and upper boundary\n",
    "for policy in dike_model.levers:\n",
    "    print(repr(policy))\n",
    "\n",
    "levers = copy.deepcopy(dike_model.levers)"
   ],
   "outputs": [
    {
     "name": "stdout",
     "output_type": "stream",
     "text": [
      "IntegerParameter('0_RfR 0', 0, 1, resolution=None, default=None, variable_name=['0_RfR 0'], pff=False)\n",
      "IntegerParameter('0_RfR 1', 0, 1, resolution=None, default=None, variable_name=['0_RfR 1'], pff=False)\n",
      "IntegerParameter('0_RfR 2', 0, 1, resolution=None, default=None, variable_name=['0_RfR 2'], pff=False)\n",
      "IntegerParameter('1_RfR 0', 0, 1, resolution=None, default=None, variable_name=['1_RfR 0'], pff=False)\n",
      "IntegerParameter('1_RfR 1', 0, 1, resolution=None, default=None, variable_name=['1_RfR 1'], pff=False)\n",
      "IntegerParameter('1_RfR 2', 0, 1, resolution=None, default=None, variable_name=['1_RfR 2'], pff=False)\n",
      "IntegerParameter('2_RfR 0', 0, 1, resolution=None, default=None, variable_name=['2_RfR 0'], pff=False)\n",
      "IntegerParameter('2_RfR 1', 0, 1, resolution=None, default=None, variable_name=['2_RfR 1'], pff=False)\n",
      "IntegerParameter('2_RfR 2', 0, 1, resolution=None, default=None, variable_name=['2_RfR 2'], pff=False)\n",
      "IntegerParameter('3_RfR 0', 0, 1, resolution=None, default=None, variable_name=['3_RfR 0'], pff=False)\n",
      "IntegerParameter('3_RfR 1', 0, 1, resolution=None, default=None, variable_name=['3_RfR 1'], pff=False)\n",
      "IntegerParameter('3_RfR 2', 0, 1, resolution=None, default=None, variable_name=['3_RfR 2'], pff=False)\n",
      "IntegerParameter('4_RfR 0', 0, 1, resolution=None, default=None, variable_name=['4_RfR 0'], pff=False)\n",
      "IntegerParameter('4_RfR 1', 0, 1, resolution=None, default=None, variable_name=['4_RfR 1'], pff=False)\n",
      "IntegerParameter('4_RfR 2', 0, 1, resolution=None, default=None, variable_name=['4_RfR 2'], pff=False)\n",
      "IntegerParameter('EWS_DaysToThreat', 0, 4, resolution=None, default=None, variable_name=['EWS_DaysToThreat'], pff=False)\n",
      "IntegerParameter('A.1_DikeIncrease 0', 0, 10, resolution=None, default=None, variable_name=['A.1_DikeIncrease 0'], pff=False)\n",
      "IntegerParameter('A.1_DikeIncrease 1', 0, 10, resolution=None, default=None, variable_name=['A.1_DikeIncrease 1'], pff=False)\n",
      "IntegerParameter('A.1_DikeIncrease 2', 0, 10, resolution=None, default=None, variable_name=['A.1_DikeIncrease 2'], pff=False)\n",
      "IntegerParameter('A.2_DikeIncrease 0', 0, 10, resolution=None, default=None, variable_name=['A.2_DikeIncrease 0'], pff=False)\n",
      "IntegerParameter('A.2_DikeIncrease 1', 0, 10, resolution=None, default=None, variable_name=['A.2_DikeIncrease 1'], pff=False)\n",
      "IntegerParameter('A.2_DikeIncrease 2', 0, 10, resolution=None, default=None, variable_name=['A.2_DikeIncrease 2'], pff=False)\n",
      "IntegerParameter('A.3_DikeIncrease 0', 0, 10, resolution=None, default=None, variable_name=['A.3_DikeIncrease 0'], pff=False)\n",
      "IntegerParameter('A.3_DikeIncrease 1', 0, 10, resolution=None, default=None, variable_name=['A.3_DikeIncrease 1'], pff=False)\n",
      "IntegerParameter('A.3_DikeIncrease 2', 0, 10, resolution=None, default=None, variable_name=['A.3_DikeIncrease 2'], pff=False)\n",
      "IntegerParameter('A.4_DikeIncrease 0', 0, 10, resolution=None, default=None, variable_name=['A.4_DikeIncrease 0'], pff=False)\n",
      "IntegerParameter('A.4_DikeIncrease 1', 0, 10, resolution=None, default=None, variable_name=['A.4_DikeIncrease 1'], pff=False)\n",
      "IntegerParameter('A.4_DikeIncrease 2', 0, 10, resolution=None, default=None, variable_name=['A.4_DikeIncrease 2'], pff=False)\n",
      "IntegerParameter('A.5_DikeIncrease 0', 0, 10, resolution=None, default=None, variable_name=['A.5_DikeIncrease 0'], pff=False)\n",
      "IntegerParameter('A.5_DikeIncrease 1', 0, 10, resolution=None, default=None, variable_name=['A.5_DikeIncrease 1'], pff=False)\n",
      "IntegerParameter('A.5_DikeIncrease 2', 0, 10, resolution=None, default=None, variable_name=['A.5_DikeIncrease 2'], pff=False)\n"
     ]
    }
   ],
   "execution_count": 6
  },
  {
   "metadata": {
    "ExecuteTime": {
     "end_time": "2025-05-20T13:39:51.352514Z",
     "start_time": "2025-05-20T13:39:51.344105Z"
    }
   },
   "cell_type": "code",
   "source": [
    "# enlisting outcomes\n",
    "for outcome in dike_model.outcomes:\n",
    "    print(repr(outcome))"
   ],
   "outputs": [
    {
     "name": "stdout",
     "output_type": "stream",
     "text": [
      "ArrayOutcome('Expected Annual Damage', variable_name=('A.1_Expected Annual Damage', 'A.2_Expected Annual Damage', 'A.3_Expected Annual Damage', 'A.4_Expected Annual Damage', 'A.5_Expected Annual Damage'), function=<function sum_over_time at 0x0000014B095F6700>)\n",
      "ArrayOutcome('Dike Investment Costs', variable_name=('A.1_Dike Investment Costs', 'A.2_Dike Investment Costs', 'A.3_Dike Investment Costs', 'A.4_Dike Investment Costs', 'A.5_Dike Investment Costs'), function=<function sum_over_time at 0x0000014B095F6700>)\n",
      "ArrayOutcome('Expected Number of Deaths', variable_name=('A.1_Expected Number of Deaths', 'A.2_Expected Number of Deaths', 'A.3_Expected Number of Deaths', 'A.4_Expected Number of Deaths', 'A.5_Expected Number of Deaths'), function=<function sum_over_time at 0x0000014B095F6700>)\n",
      "ArrayOutcome('RfR Total Costs')\n",
      "ArrayOutcome('Expected Evacuation Costs')\n"
     ]
    }
   ],
   "execution_count": 7
  },
  {
   "metadata": {
    "ExecuteTime": {
     "end_time": "2025-05-20T13:44:14.113938200Z",
     "start_time": "2025-05-20T13:42:39.749690Z"
    }
   },
   "cell_type": "code",
   "source": [
    "# running the model through EMA workbench\n",
    "with MultiprocessingEvaluator(dike_model) as evaluator:\n",
    "    results = evaluator.perform_experiments(scenarios=50, policies=4)"
   ],
   "outputs": [
    {
     "name": "stderr",
     "output_type": "stream",
     "text": [
      "[MainProcess/INFO] pool started with 16 workers\n",
      "[MainProcess/INFO] performing 50 scenarios * 4 policies * 1 model(s) = 200 experiments\n",
      " 17%|██████▉                                  | 34/200 [00:06<00:26,  6.32it/s]"
     ]
    }
   ],
   "execution_count": null
  },
  {
   "metadata": {},
   "cell_type": "code",
   "outputs": [],
   "execution_count": null,
   "source": [
    "# observing the simulation runs\n",
    "experiments, outcomes = results\n",
    "print(outcomes.keys())\n",
    "experiments"
   ]
  },
  {
   "metadata": {},
   "cell_type": "code",
   "outputs": [],
   "execution_count": null,
   "source": [
    "# only works because we have scalar outcomes\n",
    "#pd.DataFrame(outcomes)\n",
    "outcomes"
   ]
  },
  {
   "metadata": {},
   "cell_type": "code",
   "outputs": [],
   "execution_count": null,
   "source": [
    "# defining specific policies\n",
    "# for example, policy 1 is about extra protection in upper boundary\n",
    "# policy 2 is about extra protection in lower boundary\n",
    "# policy 3 is extra protection in random locations\n",
    "\n",
    "\n",
    "def get_do_nothing_dict():\n",
    "    return {l.name: 0 for l in dike_model.levers}\n",
    "\n",
    "\n",
    "policies = [\n",
    "    Policy(\n",
    "        \"policy 1\",\n",
    "        **dict(\n",
    "            get_do_nothing_dict(),\n",
    "            **{\"0_RfR 0\": 1, \"0_RfR 1\": 1, \"0_RfR 2\": 1, \"A.1_DikeIncrease 0\": 5}\n",
    "        )\n",
    "    ),\n",
    "    Policy(\n",
    "        \"policy 2\",\n",
    "        **dict(\n",
    "            get_do_nothing_dict(),\n",
    "            **{\"4_RfR 0\": 1, \"4_RfR 1\": 1, \"4_RfR 2\": 1, \"A.5_DikeIncrease 0\": 5}\n",
    "        )\n",
    "    ),\n",
    "    Policy(\n",
    "        \"policy 3\",\n",
    "        **dict(\n",
    "            get_do_nothing_dict(),\n",
    "            **{\"1_RfR 0\": 1, \"2_RfR 1\": 1, \"3_RfR 2\": 1, \"A.3_DikeIncrease 0\": 5}\n",
    "        )\n",
    "    ),\n",
    "]"
   ]
  },
  {
   "metadata": {},
   "cell_type": "code",
   "outputs": [],
   "execution_count": null,
   "source": [
    "# pass the policies list to EMA workbench experiment runs\n",
    "n_scenarios = 100\n",
    "with MultiprocessingEvaluator(dike_model) as evaluator:\n",
    "    results = evaluator.perform_experiments(n_scenarios, policies)"
   ]
  },
  {
   "metadata": {},
   "cell_type": "code",
   "outputs": [],
   "execution_count": null,
   "source": "experiments, outcomes = results"
  },
  {
   "metadata": {},
   "cell_type": "code",
   "outputs": [],
   "execution_count": null,
   "source": [
    "# only works because we have scalar outcomes\n",
    "pd.DataFrame(outcomes)"
   ]
  },
  {
   "metadata": {},
   "cell_type": "markdown",
   "source": "GSA without Policies"
  },
  {
   "metadata": {},
   "cell_type": "code",
   "outputs": [],
   "execution_count": null,
   "source": [
    "from ema_workbench import (\n",
    "    Samplers\n",
    ")"
   ]
  },
  {
   "metadata": {},
   "cell_type": "code",
   "outputs": [],
   "execution_count": null,
   "source": [
    "from ema_workbench import MultiprocessingEvaluator\n",
    "\n",
    "# Detect number of physical/logical cores\n",
    "import multiprocessing\n",
    "\n",
    "total_cores = multiprocessing.cpu_count()  # e.g., 16 logical cores for Ryzen 7700X\n",
    "desired_cores = total_cores // 2  # use 50% of your CPU (adjust as needed)\n",
    "\n",
    "N = 512  # Sobol sample base size\n",
    "with MultiprocessingEvaluator(model, n_processes=desired_cores) as evaluator:\n",
    "    experiments, outcomes = evaluator.perform_experiments(\n",
    "        scenarios=N,\n",
    "        policies=[zero_policy],\n",
    "        uncertainty_sampling=Samplers.SOBOL\n",
    "    )"
   ]
  },
  {
   "metadata": {},
   "cell_type": "code",
   "outputs": [],
   "execution_count": null,
   "source": "outcomes"
  },
  {
   "metadata": {},
   "cell_type": "code",
   "outputs": [],
   "execution_count": null,
   "source": [
    "from SALib.analyze import sobol\n",
    "from ema_workbench.em_framework.salib_samplers import get_SALib_problem\n",
    "import numpy as np\n",
    "\n",
    "# Step 1: Get the SALib problem setup\n",
    "problem = get_SALib_problem(model.uncertainties)\n",
    "expected_len = N * (len(problem['names']) + 2)\n",
    "\n",
    "# Step 2: Initialize result dictionaries\n",
    "sobol_results_mean = {}\n",
    "sobol_results_std = {}\n",
    "sobol_results_final = {}\n",
    "\n",
    "# Step 3: Loop through outcomes and apply reduction\n",
    "for outcome_name, values in outcomes.items():\n",
    "    arr = np.asarray(values)[:expected_len]\n",
    "\n",
    "    if arr.ndim == 1:\n",
    "        # Already scalar\n",
    "        y_mean = arr\n",
    "        y_std = np.zeros_like(arr)\n",
    "        y_final = arr\n",
    "    elif arr.ndim == 2:\n",
    "        # 2D array like (20480, 3)\n",
    "        y_mean = arr.mean(axis=1)\n",
    "        y_std = arr.std(axis=1)\n",
    "        y_final = arr[:, -1]\n",
    "    else:\n",
    "        print(f\"⚠️ Skipping unsupported shape: {outcome_name}, shape={arr.shape}\")\n",
    "        continue\n",
    "\n",
    "    # Run Sobol analysis for each reduction\n",
    "    sobol_results_mean[outcome_name] = sobol.analyze(problem, y_mean, calc_second_order=False)\n",
    "    sobol_results_std[outcome_name] = sobol.analyze(problem, y_std, calc_second_order=False)\n",
    "    sobol_results_final[outcome_name] = sobol.analyze(problem, y_final, calc_second_order=False)"
   ]
  },
  {
   "metadata": {},
   "cell_type": "code",
   "outputs": [],
   "execution_count": null,
   "source": [
    "import matplotlib.pyplot as plt\n",
    "import seaborn as sns\n",
    "import pandas as pd\n",
    "\n",
    "# Extract parameter names from the problem\n",
    "parameter_names = problem['names']\n",
    "\n",
    "# Convert a Sobol result dictionary into a tidy DataFrame\n",
    "def sobol_to_dataframe(sobol_dict, parameter_names, label):\n",
    "    records = []\n",
    "    for outcome_name, Si in sobol_dict.items():\n",
    "        for i, param in enumerate(parameter_names):\n",
    "            records.append({\n",
    "                'Outcome': outcome_name,\n",
    "                'Parameter': param,\n",
    "                'S1': Si['S1'][i],\n",
    "                'ST': Si['ST'][i],\n",
    "                'S1_conf': Si['S1_conf'][i],\n",
    "                'ST_conf': Si['ST_conf'][i],\n",
    "                'Reduction': label\n",
    "            })\n",
    "    return pd.DataFrame(records)\n",
    "\n",
    "# Convert all three dictionaries to DataFrames\n",
    "df_mean = sobol_to_dataframe(sobol_results_mean, parameter_names, 'Mean')\n",
    "df_std = sobol_to_dataframe(sobol_results_std, parameter_names, 'Std')\n",
    "df_final = sobol_to_dataframe(sobol_results_final, parameter_names, 'Final')\n",
    "\n",
    "# Combine them all into one long-form DataFrame\n",
    "df_all = pd.concat([df_mean, df_std, df_final], ignore_index=True)\n",
    "\n",
    "# Plotting function for heatmaps\n",
    "def plot_sobol_heatmap(df, reduction_type):\n",
    "    pivot = df[df['Reduction'] == reduction_type].dropna(subset=[\"ST\"])\\\n",
    "        .pivot(index='Outcome', columns='Parameter', values='ST')\n",
    "\n",
    "    if pivot.empty:\n",
    "        print(f\"⚠️ No valid data to plot for reduction type: {reduction_type}\")\n",
    "        return\n",
    "\n",
    "    plt.figure(figsize=(14, max(6, len(pivot) * 0.4)))\n",
    "    sns.heatmap(pivot, annot=True, fmt=\".2f\", cmap='YlGnBu', cbar_kws={'label': 'Total Sobol Index (ST)'})\n",
    "    plt.title(f\"Sobol ST Heatmap ({reduction_type})\")\n",
    "    plt.ylabel(\"Outcome\")\n",
    "    plt.xlabel(\"Input Parameter\")\n",
    "    plt.tight_layout()\n",
    "    plt.show()\n",
    "\n",
    "# Plot all three heatmaps\n",
    "plot_sobol_heatmap(df_all, 'Mean')\n",
    "plot_sobol_heatmap(df_all, 'Std')\n",
    "plot_sobol_heatmap(df_all, 'Final')"
   ]
  },
  {
   "cell_type": "code",
   "execution_count": null,
   "metadata": {
    "pycharm": {
     "name": "#%%"
    }
   },
   "outputs": [],
   "source": []
  }
 ],
 "metadata": {
  "kernelspec": {
   "display_name": "Python 3 (ipykernel)",
   "language": "python",
   "name": "python3"
  },
  "language_info": {
   "codemirror_mode": {
    "name": "ipython",
    "version": 3
   },
   "file_extension": ".py",
   "mimetype": "text/x-python",
   "name": "python",
   "nbconvert_exporter": "python",
   "pygments_lexer": "ipython3",
   "version": "3.9.16"
  }
 },
 "nbformat": 4,
 "nbformat_minor": 4
}
